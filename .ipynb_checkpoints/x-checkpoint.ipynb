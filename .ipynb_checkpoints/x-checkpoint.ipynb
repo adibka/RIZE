{
 "cells": [
  {
   "cell_type": "markdown",
   "id": "81ffaaae-4896-4492-890f-ffae6067362d",
   "metadata": {
    "jp-MarkdownHeadingCollapsed": true
   },
   "source": [
    "# CQL"
   ]
  },
  {
   "cell_type": "code",
   "execution_count": null,
   "id": "03a0c3c3-4c36-4b56-9309-fa4449a241d8",
   "metadata": {},
   "outputs": [],
   "source": [
    "\"\"\"\n",
    "CQL (new mate)\n",
    "\"\"\"\n",
    "if self.use_cql:\n",
    "    random_actions = torch.FloatTensor(policy_actions.shape[0] * self.num_random,\n",
    "                                       policy_actions.shape[-1]).uniform_(-1,1).to(self.device)\n",
    "    \n",
    "    _, tau_hat, _ = self.get_tau(policy_obs, policy_actions, fp=self.fp)\n",
    "    tau_index = np.random.randint(0, self.num_quantiles)\n",
    "    random_tau_hat = tau_hat[:, tau_index:tau_index+1]\n",
    "    \n",
    "    z1_rand, z2_rand = self._get_tensor_values(policy_obs, random_actions, random_tau_hat)\n",
    "\n",
    "    z1_rand = torch.logsumexp(z1_rand, dim=1).mean()\n",
    "    z2_rand = torch.logsumexp(z2_rand, dim=1).mean()\n",
    "    cql_z1_loss = (z1_rand - expert_z1_pred.mean()) * self.cql_weight\n",
    "    cql_z2_loss = (z2_rand - expert_z2_pred.mean()) * self.cql_weight\n",
    "    \n",
    "    zf1_loss += cql_z1_loss\n",
    "    zf2_loss += cql_z2_loss"
   ]
  },
  {
   "cell_type": "code",
   "execution_count": null,
   "id": "cb8e417f-bfa2-4c6c-8bf3-f1a094016be5",
   "metadata": {},
   "outputs": [],
   "source": [
    "\"\"\"\n",
    "CQL (old mate)\n",
    "\"\"\"\n",
    "if self.use_cql:\n",
    "    random_actions = torch.FloatTensor(policy_actions.shape[0] * self.num_random,\n",
    "                                       policy_actions.shape[-1]).uniform_(-1,1).to(self.device)\n",
    "    current_actions, current_log_pi = self._get_policy_actions(policy_obs, \n",
    "                                                               num_actions=self.num_random,\n",
    "                                                               network=self.policy)\n",
    "    next_actions, next_log_pi = self._get_policy_actions(policy_next_obs, \n",
    "                                                         num_actions=self.num_random,\n",
    "                                                         network=self.policy)\n",
    "    \n",
    "    _, tau_hat, _ = self.get_tau(policy_obs, policy_actions, fp=self.fp)\n",
    "    tau_index = np.random.randint(0, self.num_quantiles)\n",
    "    random_tau_hat = tau_hat[:, tau_index:tau_index+1]\n",
    "\n",
    "    z1_rand, z2_rand = self._get_tensor_values(policy_obs, random_actions, random_tau_hat)\n",
    "    z1_current, z2_current = self._get_tensor_values(policy_obs, current_actions, random_tau_hat)\n",
    "    z1_next, z2_next = self._get_tensor_values(policy_obs, next_actions, random_tau_hat)\n",
    "\n",
    "    random_density = np.log(0.5 ** current_actions.shape[-1])\n",
    "    cat_z1 = torch.cat(\n",
    "        [z1_rand - alpha * random_density, \n",
    "         z1_next - alpha * next_log_pi.detach(),\n",
    "         z1_current - alpha * current_log_pi.detach()], 1\n",
    "    )\n",
    "    cat_z2 = torch.cat(\n",
    "        [z2_rand - alpha * random_density, \n",
    "         z2_next - alpha * next_log_pi.detach(),\n",
    "         z2_current - alpha * current_log_pi.detach()], 1\n",
    "    )\n",
    "    min_zf1_loss = torch.logsumexp(cat_z1, dim=1).mean()\n",
    "    min_zf2_loss = torch.logsumexp(cat_z2, dim=1).mean()\n",
    "    min_zf1_loss = (min_zf1_loss - expert_z1_pred.mean()) * self.min_z_weight\n",
    "    min_zf2_loss = (min_zf2_loss - expert_z2_pred.mean()) * self.min_z_weight\n",
    "    \n",
    "    if self.with_lagrange:\n",
    "        alpha_prime = torch.clamp(self.log_alpha_prime.exp(), min=0.0, max=1000000.0)\n",
    "        min_zf1_loss = alpha_prime * (min_zf1_loss - self.target_action_gap)\n",
    "        min_zf2_loss = alpha_prime * (min_zf2_loss - self.target_action_gap)\n",
    "\n",
    "        self.alpha_prime_optimizer.zero_grad()\n",
    "        alpha_prime_loss = (-min_zf1_loss - min_zf2_loss) * 0.5\n",
    "        alpha_prime_loss.backward(retain_graph=True)\n",
    "        self.alpha_prime_optimizer.step()\n",
    "\n",
    "    zf1_loss += min_zf1_loss\n",
    "    zf2_loss += min_zf2_loss"
   ]
  },
  {
   "cell_type": "code",
   "execution_count": null,
   "id": "2c17f747-28a7-4dc3-afdd-167e30b1c5bb",
   "metadata": {},
   "outputs": [],
   "source": [
    "        \"\"\"\n",
    "        CQL (std!)\n",
    "        \"\"\"\n",
    "        if self.use_cql:\n",
    "            # q1_pred = torch.sum(presum_tau * policy_z1_pred, dim=1, keepdims=True)\n",
    "            # q2_pred = torch.sum(presum_tau * policy_z2_pred, dim=1, keepdims=True)\n",
    "            # q1_std = presum_tau * (policy_z1_pred - q1_pred).pow(2)\n",
    "            # q2_std = presum_tau * (policy_z2_pred - q2_pred).pow(2)\n",
    "            # cql1_term = self.cql_weight * q1_std.sum(dim=1).sqrt().mean()\n",
    "            # cql2_term = self.cql_weight * q2_std.sum(dim=1).sqrt().mean()\n",
    "\n",
    "            cql1_term = 4.5 - self.cql_weight * policy_z1_pred.std()\n",
    "            cql2_term = 4.5 - self.cql_weight * policy_z2_pred.std()\n",
    "            \n",
    "            zf1_loss += cql1_term\n",
    "            zf2_loss += cql2_term"
   ]
  },
  {
   "cell_type": "code",
   "execution_count": null,
   "id": "fbfd879f-190b-4c06-84c4-bb61e80e6a25",
   "metadata": {},
   "outputs": [],
   "source": [
    "\"\"\"\n",
    "CQL (old mate; expert observations with policy actions)\n",
    "\"\"\"\n",
    "if self.use_cql:\n",
    "    random_actions = torch.FloatTensor(policy_actions.shape[0] * self.num_random,\n",
    "                                       policy_actions.shape[-1]).uniform_(-1,1).to(self.device)\n",
    "    current_actions, current_log_pi = self._get_policy_actions(expert_obs, \n",
    "                                                               num_actions=self.num_random,\n",
    "                                                               network=self.policy)\n",
    "    next_actions, next_log_pi = self._get_policy_actions(expert_next_obs, \n",
    "                                                         num_actions=self.num_random,\n",
    "                                                         network=self.policy)\n",
    "    \n",
    "    _, tau_hat, _ = self.get_tau(expert_obs, policy_actions, fp=self.fp)\n",
    "    tau_index = np.random.randint(0, self.num_quantiles)\n",
    "    random_tau_hat = tau_hat[:, tau_index:tau_index+1]\n",
    "\n",
    "    z1_rand, z2_rand = self._get_tensor_values(expert_obs, random_actions, random_tau_hat)\n",
    "    z1_current, z2_current = self._get_tensor_values(expert_obs, current_actions, random_tau_hat)\n",
    "    z1_next, z2_next = self._get_tensor_values(expert_obs, next_actions, random_tau_hat)\n",
    "\n",
    "    random_density = np.log(0.5 ** current_actions.shape[-1])\n",
    "    cat_z1 = torch.cat(\n",
    "        [z1_rand - alpha * random_density, \n",
    "         z1_next - alpha * next_log_pi.detach(),\n",
    "         z1_current - alpha * current_log_pi.detach()], 1\n",
    "    )\n",
    "    cat_z2 = torch.cat(\n",
    "        [z2_rand - alpha * random_density, \n",
    "         z2_next - alpha * next_log_pi.detach(),\n",
    "         z2_current - alpha * current_log_pi.detach()], 1\n",
    "    )\n",
    "    min_zf1_loss = torch.logsumexp(cat_z1, dim=1).mean() * self.cql_weight\n",
    "    min_zf2_loss = torch.logsumexp(cat_z2, dim=1).mean() * self.cql_weight\n",
    "\n",
    "    zf1_loss += min_zf1_loss\n",
    "    zf2_loss += min_zf2_loss"
   ]
  },
  {
   "cell_type": "code",
   "execution_count": null,
   "id": "b427a802-08e5-44b4-be99-f8042aaeb0a9",
   "metadata": {},
   "outputs": [],
   "source": []
  },
  {
   "cell_type": "markdown",
   "id": "0f1ee30d-094c-4a0a-ae59-7ceb9559a9a7",
   "metadata": {},
   "source": [
    "# imports"
   ]
  },
  {
   "cell_type": "code",
   "execution_count": null,
   "id": "8d9a96c6-976d-45e7-8fd5-1c24ab784e9f",
   "metadata": {},
   "outputs": [],
   "source": [
    "import numpy as np\n",
    "import torch\n",
    "import gym\n",
    "import csv\n",
    "from rlkit.envs import make_env\n",
    "from rlkit.envs.vecenv import SubprocVectorEnv, VectorEnv\n",
    "from rlkit.torch.idsac.networks import QuantileMlp, Critic\n",
    "from rlkit.torch.idsac.policies import TanhGaussianPolicy\n",
    "from rlkit.data_management.torch_replay_buffer import TorchReplayBuffer\n",
    "import rlkit.torch.pytorch_util as ptu\n",
    "from rlkit.torch.core import eval_np"
   ]
  },
  {
   "cell_type": "code",
   "execution_count": null,
   "id": "adbade78-9d31-4409-91ee-bcd78ab8b7ab",
   "metadata": {},
   "outputs": [],
   "source": [
    "# a = []\n",
    "r1 = np.array([2.5])\n",
    "r2 = np.array([1.])\n",
    "r3 = np.array([4.5])\n",
    "\n",
    "r4 = np.array([3.])\n",
    "r5 = np.array([0.5])\n",
    "r6 = np.array([1.])\n",
    "\n",
    "a1 = [r1, r2]\n",
    "a2 = [r4, r5, r6]"
   ]
  },
  {
   "cell_type": "code",
   "execution_count": null,
   "id": "dca7a96d-9ba4-4937-862a-75c0fd4d91f5",
   "metadata": {},
   "outputs": [],
   "source": [
    "aa1 = np.concatenate(a1)\n",
    "aa2 = np.concatenate(a2)"
   ]
  },
  {
   "cell_type": "code",
   "execution_count": null,
   "id": "8aeb9738-adf1-4043-9b08-d8f0b0ceeac8",
   "metadata": {},
   "outputs": [],
   "source": [
    "np.concatenate([aa1, aa2])"
   ]
  },
  {
   "cell_type": "code",
   "execution_count": null,
   "id": "627983a8-e776-4f7f-aacf-aa68a087bceb",
   "metadata": {},
   "outputs": [],
   "source": [
    "np.vstack([aa1, aa2]).shape"
   ]
  },
  {
   "cell_type": "code",
   "execution_count": null,
   "id": "e745f8c5-5f08-428d-b936-fc42f5775cd0",
   "metadata": {},
   "outputs": [],
   "source": [
    "for path in paths:\n",
    "    rewards = np.concatenate(path['rewards'])\n",
    "    q_values = np.concatenate(path['agent_info'])"
   ]
  },
  {
   "cell_type": "code",
   "execution_count": null,
   "id": "37c3570a-7cb8-4765-8819-e79c3c75a5ad",
   "metadata": {},
   "outputs": [],
   "source": []
  },
  {
   "cell_type": "code",
   "execution_count": null,
   "id": "7b9a414c-b6fa-440e-991c-1b72eb8b741e",
   "metadata": {},
   "outputs": [],
   "source": []
  },
  {
   "cell_type": "code",
   "execution_count": null,
   "id": "40d67b31-71f1-479c-a40c-7f7085d91133",
   "metadata": {},
   "outputs": [],
   "source": [
    "gamma = 0.99\n",
    "returns = []\n",
    "sum = 0.\n",
    "rewards = np.ones(1000) * 4.5\n",
    "\n",
    "for rew in rewards[::-1]:\n",
    "    sum = sum * gamma + rew\n",
    "    returns.append(sum)\n",
    "\n",
    "rtg = np.array(returns)[::-1]"
   ]
  },
  {
   "cell_type": "code",
   "execution_count": null,
   "id": "d4371eef-099a-46c4-9ec0-3e7d897f9718",
   "metadata": {},
   "outputs": [],
   "source": [
    "gamma = 0.99\n",
    "rewards = np.ones((10, 1000)) * -1\n",
    "returns = np.zeros_like(rewards)\n",
    "\n",
    "for i in range(len(rewards)):\n",
    "    s = 0\n",
    "    for j, rew in enumerate(rewards[i][::-1]):\n",
    "        s = s * gamma + rew\n",
    "        returns[i][j] = s\n",
    "    returns[i] = returns[i][::-1]"
   ]
  },
  {
   "cell_type": "code",
   "execution_count": null,
   "id": "fe8f3578-3c75-4624-aae8-20254502da48",
   "metadata": {},
   "outputs": [],
   "source": [
    "returns.shape"
   ]
  },
  {
   "cell_type": "code",
   "execution_count": null,
   "id": "dd1f9b7c-14f4-46ac-96e7-582c6553df65",
   "metadata": {},
   "outputs": [],
   "source": [
    "rewards = np.ones((10, 1000)) * 4.5\n",
    "rewards[3] = np.ones(1000) * 2.5\n",
    "mc_returns = np.zeros_like(rewards)\n",
    "\n",
    "for i in range(len(rewards)):\n",
    "    s = 0\n",
    "    for j, rew in enumerate(rewards[i][::-1]):\n",
    "        s = s * 0.99 + rew\n",
    "        mc_returns[i][j] = s\n",
    "    mc_returns[i] = mc_returns[i][::-1]"
   ]
  },
  {
   "cell_type": "code",
   "execution_count": null,
   "id": "ba1e1ec6-a6ee-4d0f-9b5e-5b561c93509e",
   "metadata": {},
   "outputs": [],
   "source": [
    "mc_returns[3]"
   ]
  },
  {
   "cell_type": "code",
   "execution_count": null,
   "id": "a3ef5a0c-478e-4bc1-ba24-c85b1544b0f8",
   "metadata": {},
   "outputs": [],
   "source": [
    "x=np.array([1,2,3,4])\n",
    "y=np.array([5,6,7,8])"
   ]
  },
  {
   "cell_type": "code",
   "execution_count": null,
   "id": "f18cd917-7307-4fcd-9dcf-410f78da143e",
   "metadata": {},
   "outputs": [],
   "source": [
    "z = np.vstack([x,y])\n",
    "z[0].shape"
   ]
  },
  {
   "cell_type": "code",
   "execution_count": null,
   "id": "70516e30-afe3-4e9e-88ee-ad9e4cdbd4e2",
   "metadata": {},
   "outputs": [],
   "source": [
    "'' == None"
   ]
  },
  {
   "cell_type": "code",
   "execution_count": null,
   "id": "ac84ffeb-c488-41b7-98ca-1dc80bbc5411",
   "metadata": {},
   "outputs": [],
   "source": []
  },
  {
   "cell_type": "code",
   "execution_count": null,
   "id": "35057dc8-c5a3-4306-ad00-9611a459d4d6",
   "metadata": {},
   "outputs": [],
   "source": []
  },
  {
   "cell_type": "code",
   "execution_count": null,
   "id": "f9df9604-4643-4ab1-b907-4f44481cadb1",
   "metadata": {},
   "outputs": [],
   "source": []
  },
  {
   "cell_type": "code",
   "execution_count": null,
   "id": "62becc1c-5646-4353-a7b3-88a4b66b1c38",
   "metadata": {},
   "outputs": [],
   "source": [
    "gamma = 0.99\n",
    "rew = 4.5\n",
    "returns = []\n",
    "\n",
    "for j in range(1000):\n",
    "    sum = 0\n",
    "    for i in range(1000 - j):\n",
    "        sum += rew * (gamma**i)\n",
    "    returns.append(sum)"
   ]
  },
  {
   "cell_type": "code",
   "execution_count": null,
   "id": "bd383c6a-7a35-48d4-aa86-9ff65b966c0b",
   "metadata": {},
   "outputs": [],
   "source": [
    "np.mean(returns)"
   ]
  },
  {
   "cell_type": "code",
   "execution_count": null,
   "id": "b9bd14a7-3a3e-4b8d-8adb-649b82320138",
   "metadata": {},
   "outputs": [],
   "source": [
    "import matplotlib.pyplot as plt"
   ]
  },
  {
   "cell_type": "code",
   "execution_count": null,
   "id": "d4ed91d7-d722-4dbf-a5ba-878667d85ab8",
   "metadata": {},
   "outputs": [],
   "source": [
    "plt.plot(returns)"
   ]
  },
  {
   "cell_type": "code",
   "execution_count": null,
   "id": "f53072f6-0e17-4df8-8149-7a51bded7eb6",
   "metadata": {},
   "outputs": [],
   "source": []
  },
  {
   "cell_type": "code",
   "execution_count": null,
   "id": "adbbb5da-9154-4cb0-8cd2-374048ea0eed",
   "metadata": {},
   "outputs": [],
   "source": []
  },
  {
   "cell_type": "code",
   "execution_count": null,
   "id": "cbcd7066-4833-4103-9feb-7ae0fba305da",
   "metadata": {},
   "outputs": [],
   "source": []
  },
  {
   "cell_type": "code",
   "execution_count": null,
   "id": "8698c3bf-915d-48dd-a7f1-382e2c6ed473",
   "metadata": {},
   "outputs": [],
   "source": [
    "x = torch.arange(48).reshape(6,4,2) * 1.0\n",
    "x"
   ]
  },
  {
   "cell_type": "code",
   "execution_count": null,
   "id": "131c577e-36a1-4113-aaf0-d7148fb162ee",
   "metadata": {},
   "outputs": [],
   "source": [
    "torch.nn.functional.normalize(x)"
   ]
  },
  {
   "cell_type": "code",
   "execution_count": null,
   "id": "035ab777-903f-4606-ad6a-2deaa1aac890",
   "metadata": {},
   "outputs": [],
   "source": [
    "x_norm = torch.linalg.norm(x)\n",
    "print(x_norm)"
   ]
  },
  {
   "cell_type": "code",
   "execution_count": null,
   "id": "04220a5b-f7a3-49c4-8871-08ffd989871e",
   "metadata": {},
   "outputs": [],
   "source": []
  },
  {
   "cell_type": "code",
   "execution_count": null,
   "id": "3a6027af-a22c-4457-bb71-ba3783779613",
   "metadata": {},
   "outputs": [],
   "source": [
    "# dummy_env = make_env(\"Ant-v2\")\n",
    "# obs_dim = dummy_env.observation_space.low.size\n",
    "# action_dim = dummy_env.action_space.low.size\n",
    "# eval_env = SubprocVectorEnv([lambda: make_env(\"Ant-v2\") for _ in range(10)])\n",
    "# eval_env.seed(0)"
   ]
  },
  {
   "cell_type": "code",
   "execution_count": null,
   "id": "592ab2f1-eb0b-40bd-9b55-f11bde12b38e",
   "metadata": {},
   "outputs": [],
   "source": [
    "env = gym.make('Ant-v3')\n",
    "xxx = env.reset()\n",
    "\n",
    "obs = env.observation_space.sample()\n",
    "obs = torch.FloatTensor(obs).unsqueeze(0).repeat(5, 1)\n",
    "\n",
    "# next_obs = env.observation_space.sample()\n",
    "# next_obs = torch.FloatTensor(next_obs).unsqueeze(0).repeat(5, 1)\n",
    "\n",
    "action = env.action_space.sample()\n",
    "action = torch.FloatTensor(action).unsqueeze(0).repeat(5, 1)\n",
    "\n",
    "obs_dim = env.observation_space.shape[0]\n",
    "action_dim = env.action_space.shape[0]"
   ]
  },
  {
   "cell_type": "code",
   "execution_count": null,
   "id": "cbe2e011-55c6-4742-9e55-4c9fa4a4a298",
   "metadata": {},
   "outputs": [],
   "source": [
    "zf1 = QuantileMlp(\n",
    "    input_size=obs_dim + action_dim,\n",
    "    output_size=1,\n",
    "    num_quantiles=24,\n",
    "    hidden_sizes=[256, 256],\n",
    ")\n",
    "policy = TanhGaussianPolicy(\n",
    "    obs_dim=obs_dim,\n",
    "    action_dim=action_dim,\n",
    "    hidden_sizes=[256, 256],\n",
    ")"
   ]
  },
  {
   "cell_type": "code",
   "execution_count": null,
   "id": "9d9195f0-0675-4cc2-a117-0b85c5a5303d",
   "metadata": {},
   "outputs": [],
   "source": [
    "zf1_optimizer = torch.optim.Adam(\n",
    "    zf1.parameters(),\n",
    "    lr=3e-4,\n",
    ")"
   ]
  },
  {
   "cell_type": "code",
   "execution_count": null,
   "id": "167e4bb8-3589-4254-ab08-e88363450488",
   "metadata": {},
   "outputs": [],
   "source": [
    "class Foo:\n",
    "    def __init__(self, num_quantiles, tau_type):\n",
    "        self.num_quantiles = num_quantiles\n",
    "        self.tau_type = tau_type\n",
    "    \n",
    "    def get_tau(self, obs, actions, fp=None):\n",
    "        if self.tau_type == 'fix':\n",
    "            presum_tau = ptu.zeros(len(actions), self.num_quantiles) + 1. / self.num_quantiles\n",
    "        elif self.tau_type == 'iqn':  # add 0.1 to prevent tau getting too close\n",
    "            presum_tau = ptu.rand(len(actions), self.num_quantiles) + 0.1\n",
    "            presum_tau /= presum_tau.sum(dim=-1, keepdims=True)\n",
    "        elif self.tau_type == 'fqf':\n",
    "            if fp is None:\n",
    "                fp = self.fp\n",
    "            presum_tau = fp(obs, actions)\n",
    "        tau = torch.cumsum(presum_tau, dim=1)  # (N, T), note that they are tau1...tauN in the paper\n",
    "        with torch.no_grad():\n",
    "            tau_hat = ptu.zeros_like(tau)\n",
    "            tau_hat[:, 0:1] = tau[:, 0:1] / 2.\n",
    "            tau_hat[:, 1:] = (tau[:, 1:] + tau[:, :-1]) / 2.\n",
    "        return tau, tau_hat, presum_tau"
   ]
  },
  {
   "cell_type": "code",
   "execution_count": null,
   "id": "72ca86a6-08be-4ddc-9308-3df6678c79a4",
   "metadata": {},
   "outputs": [],
   "source": [
    "foo = Foo(24, 'iqn')\n",
    "tau, tau_hat, presum_tau = foo.get_tau(obs, action)"
   ]
  },
  {
   "cell_type": "code",
   "execution_count": null,
   "id": "36e0526d-01a9-4889-ba35-ee8b8027966d",
   "metadata": {},
   "outputs": [],
   "source": [
    "z = zf1(obs, action, tau_hat)"
   ]
  },
  {
   "cell_type": "code",
   "execution_count": null,
   "id": "7df38e94-5ca6-4efa-b6a3-68dbfabd41f1",
   "metadata": {},
   "outputs": [],
   "source": [
    "loss = (z**2).mean()\n",
    "zf1_optimizer.zero_grad()\n",
    "loss.backward()"
   ]
  },
  {
   "cell_type": "code",
   "execution_count": null,
   "id": "9ab5a576-c02b-4c6f-aa2e-ce80bf743df8",
   "metadata": {},
   "outputs": [],
   "source": [
    "def monitor_grad_norm(parameters):\n",
    "    parameters = list(filter(lambda p: p.grad is not None, parameters))\n",
    "    total_norm = torch.stack([(p.grad.detach().pow(2)).sum() for p in parameters]).sum().sqrt().item()\n",
    "    return total_norm"
   ]
  },
  {
   "cell_type": "code",
   "execution_count": null,
   "id": "fe11aea6-9348-4560-b22f-ec58cc811b8c",
   "metadata": {},
   "outputs": [],
   "source": [
    "zf1_norm = monitor_grad_norm(zf1.parameters())"
   ]
  },
  {
   "cell_type": "code",
   "execution_count": null,
   "id": "e6c6303c-476a-429d-b0c8-78349f58d241",
   "metadata": {},
   "outputs": [],
   "source": [
    "zf1_norm"
   ]
  },
  {
   "cell_type": "code",
   "execution_count": null,
   "id": "9e94a5a2-3bd3-48af-8864-96bf8a41528a",
   "metadata": {},
   "outputs": [],
   "source": [
    "def monitor_param_norm(parameters):\n",
    "    parameters = list(filter(lambda p: p.grad is not None, parameters))\n",
    "    total_norm = torch.stack([(p.detach().pow(2)).sum() for p in parameters]).sum().sqrt().item()\n",
    "    return total_norm"
   ]
  },
  {
   "cell_type": "code",
   "execution_count": null,
   "id": "cf36b223-5905-4655-a114-68c5a9100624",
   "metadata": {},
   "outputs": [],
   "source": [
    "zf1_param_norm = monitor_param_norm(zf1.parameters())"
   ]
  },
  {
   "cell_type": "code",
   "execution_count": null,
   "id": "b3853b39-53b7-4da8-8009-dae2873a8cce",
   "metadata": {},
   "outputs": [],
   "source": [
    "zf1_param_norm"
   ]
  },
  {
   "cell_type": "code",
   "execution_count": null,
   "id": "a607ee8e-f47c-4cb6-82bd-4612e480a96a",
   "metadata": {},
   "outputs": [],
   "source": []
  },
  {
   "cell_type": "code",
   "execution_count": null,
   "id": "d45696b1-ed58-426b-aa5f-a333cc230fc3",
   "metadata": {},
   "outputs": [],
   "source": []
  },
  {
   "cell_type": "code",
   "execution_count": null,
   "id": "665d23b5-81ce-434a-90d9-9e11d21f2b36",
   "metadata": {},
   "outputs": [],
   "source": []
  },
  {
   "cell_type": "code",
   "execution_count": null,
   "id": "aa7c30ae-72de-4609-8f58-b11c66ff9756",
   "metadata": {},
   "outputs": [],
   "source": []
  },
  {
   "cell_type": "code",
   "execution_count": null,
   "id": "fccfeff5-5d69-42a0-b7f9-09b551deb08a",
   "metadata": {},
   "outputs": [],
   "source": []
  },
  {
   "cell_type": "code",
   "execution_count": null,
   "id": "0d5f4434-6496-44e1-93ef-a6458f48495e",
   "metadata": {},
   "outputs": [],
   "source": []
  },
  {
   "cell_type": "code",
   "execution_count": null,
   "id": "106b000c-016c-4b51-b25e-6f62334c38fe",
   "metadata": {},
   "outputs": [],
   "source": [
    "target_z = critic(next_obs, action, tau_hat)\n",
    "print(target_z.shape)"
   ]
  },
  {
   "cell_type": "code",
   "execution_count": null,
   "id": "15fe5283-f417-4fa1-a1e9-2bf70ee3d5b5",
   "metadata": {},
   "outputs": [],
   "source": [
    "target_z = target_z.reshape(5, -1)\n",
    "sorted_z, _ = torch.sort(target_z, dim=-1)\n",
    "sorted_z = sorted_z[:, :96-10]\n",
    "print(sorted_z.shape)"
   ]
  },
  {
   "cell_type": "code",
   "execution_count": null,
   "id": "4b2e5ade-e996-4046-922c-194158d2bff1",
   "metadata": {},
   "outputs": [],
   "source": [
    "curr_z = curr_z[:, :, :, None]\n",
    "sorted_z = sorted_z[:, None, None, :]\n",
    "\n",
    "print(curr_z.shape)\n",
    "print(sorted_z.shape)"
   ]
  },
  {
   "cell_type": "code",
   "execution_count": null,
   "id": "a7238f17-0386-45d6-93fa-7fb9efcd026d",
   "metadata": {},
   "outputs": [],
   "source": [
    "pairwise_delta = sorted_z - curr_z\n",
    "\n",
    "print(pairwise_delta.shape)"
   ]
  },
  {
   "cell_type": "code",
   "execution_count": null,
   "id": "52d535c9-1ac2-4786-9d52-6dca939387fb",
   "metadata": {},
   "outputs": [],
   "source": [
    "ex_input, ex_target = torch.broadcast_tensors(curr_z, sorted_z)\n",
    "\n",
    "print(ex_input.shape)\n",
    "print(ex_target.shape)"
   ]
  },
  {
   "cell_type": "code",
   "execution_count": null,
   "id": "c00258cd-2c66-402d-b9fd-a3c15d3ee444",
   "metadata": {},
   "outputs": [],
   "source": [
    "ex_pairwise_delta = ex_target - ex_input\n",
    "\n",
    "print(ex_pairwise_delta.shape)"
   ]
  },
  {
   "cell_type": "code",
   "execution_count": null,
   "id": "8ef924a0-df6b-45de-ba6d-951bb08654ee",
   "metadata": {},
   "outputs": [],
   "source": [
    "# batch, nets, quantiles, samples"
   ]
  },
  {
   "cell_type": "code",
   "execution_count": null,
   "id": "a5d83157-d2d6-4751-b420-92e978ca4d71",
   "metadata": {},
   "outputs": [],
   "source": []
  },
  {
   "cell_type": "code",
   "execution_count": null,
   "id": "faf9e7ea-3b4a-4a12-8831-c8a82fcf2db3",
   "metadata": {},
   "outputs": [],
   "source": [
    "_, _, _, log_pi, *_ = policy(\n",
    "    obs,\n",
    "    reparameterize=True,\n",
    "    return_log_prob=True,\n",
    ")"
   ]
  },
  {
   "cell_type": "code",
   "execution_count": null,
   "id": "34457b09-3ec0-4afb-afe0-0ca21a0629d0",
   "metadata": {},
   "outputs": [],
   "source": [
    "log_pi.shape"
   ]
  },
  {
   "cell_type": "code",
   "execution_count": null,
   "id": "35d1a00b-8b0d-47d8-9c18-1ca0cadec9d7",
   "metadata": {},
   "outputs": [],
   "source": []
  }
 ],
 "metadata": {
  "kernelspec": {
   "display_name": "Python 3 (ipykernel)",
   "language": "python",
   "name": "python3"
  },
  "language_info": {
   "codemirror_mode": {
    "name": "ipython",
    "version": 3
   },
   "file_extension": ".py",
   "mimetype": "text/x-python",
   "name": "python",
   "nbconvert_exporter": "python",
   "pygments_lexer": "ipython3",
   "version": "3.11.4"
  }
 },
 "nbformat": 4,
 "nbformat_minor": 5
}
