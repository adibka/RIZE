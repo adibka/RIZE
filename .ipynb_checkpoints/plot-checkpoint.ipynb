{
 "cells": [
  {
   "cell_type": "code",
   "execution_count": null,
   "id": "426f1356-7cf4-443e-a081-a3dcb7b5be01",
   "metadata": {},
   "outputs": [],
   "source": [
    "import matplotlib.pyplot as plt\n",
    "import numpy as np\n",
    "import pandas\n",
    "import seaborn as sns\n",
    "import scipy.stats as st "
   ]
  },
  {
   "cell_type": "markdown",
   "id": "dcd09239-19b1-4ba7-a743-d10d8ca6ebf4",
   "metadata": {
    "jp-MarkdownHeadingCollapsed": true
   },
   "source": [
    "# one run"
   ]
  },
  {
   "cell_type": "code",
   "execution_count": null,
   "id": "8a5cb0ad-3327-4822-981d-538780461fa3",
   "metadata": {},
   "outputs": [],
   "source": [
    "path = 'data/idsac-hopper-normal-iqn-neutral/idsac_hopper_normal-iqn-neutral_2024_06_08_22_01_08_0000--s-1/progress.csv'"
   ]
  },
  {
   "cell_type": "code",
   "execution_count": null,
   "id": "4345d568-9b6c-46d5-bcd7-5ed4c86b7d13",
   "metadata": {},
   "outputs": [],
   "source": [
    "file = pandas.read_csv(path)"
   ]
  },
  {
   "cell_type": "code",
   "execution_count": null,
   "id": "5bed456e-27e7-498f-9aff-47e71d01a9b8",
   "metadata": {},
   "outputs": [],
   "source": [
    "returns = file['evaluation/Returns Mean']\n",
    "ma_returns = file['evaluation/Returns Mean'].rolling(window=10).mean()\n",
    "steps = (file['Epoch'] + 11) * 1000"
   ]
  },
  {
   "cell_type": "code",
   "execution_count": null,
   "id": "8efe85e9-ff83-4051-8ac8-47a7a5b82421",
   "metadata": {},
   "outputs": [],
   "source": [
    "plt.plot(steps, returns)\n",
    "plt.plot(steps, ma_returns, linewidth=2)\n",
    "plt.axhline(3500, color='r', ls=':')\n",
    "plt.title(\"Returns\")\n",
    "# plt.savefig('temp')\n",
    "plt.show()"
   ]
  },
  {
   "cell_type": "code",
   "execution_count": null,
   "id": "3dbe5bb4-c1e0-46e5-bb9d-313dde8b5302",
   "metadata": {},
   "outputs": [],
   "source": [
    "bias = file['evaluation/Estimation Bias Mean']\n",
    "q_pred = file['evaluation/EB/Q_Pred Mean']\n",
    "q_true = file['evaluation/EB/Q_True Mean']"
   ]
  },
  {
   "cell_type": "code",
   "execution_count": null,
   "id": "afb0a6fd-3690-48a6-bb1d-66ac35ee33b6",
   "metadata": {},
   "outputs": [],
   "source": [
    "# plt.plot(steps, bias, label='Estimation Bias')\n",
    "plt.plot(steps, q_pred, label='Q pred')\n",
    "plt.plot(steps, q_true, label='Q true')\n",
    "plt.legend()\n",
    "plt.title(\"Estimation Bias\")\n",
    "# plt.savefig('temp1')\n",
    "plt.show()"
   ]
  },
  {
   "cell_type": "code",
   "execution_count": null,
   "id": "cc8a441a-b3de-4592-a428-4ae8fd684746",
   "metadata": {},
   "outputs": [],
   "source": [
    "min_ret = file['evaluation/Returns Min']\n",
    "max_ret = file['evaluation/Returns Max']\n",
    "std_ret = file['evaluation/Returns Std']"
   ]
  },
  {
   "cell_type": "code",
   "execution_count": null,
   "id": "02f0669d-7f97-460b-ada3-a2ecb777b57f",
   "metadata": {},
   "outputs": [],
   "source": [
    "plt.plot(steps, min_ret, label='min_ret')\n",
    "plt.plot(steps, max_ret, label='max_ret')\n",
    "plt.plot(steps, std_ret, label='std_ret')\n",
    "plt.legend()\n",
    "# plt.savefig('temp', pad_inches=0)\n",
    "plt.show()"
   ]
  },
  {
   "cell_type": "code",
   "execution_count": null,
   "id": "f300124a-a04f-447d-9768-db9cc4ad3584",
   "metadata": {},
   "outputs": [],
   "source": [
    "mean = file['trainer/Z Expert Predictions Mean']\n",
    "std = file['trainer/Z Expert Predictions Std']\n",
    "min = file['trainer/Z Expert Predictions Min']\n",
    "max = file['trainer/Z Expert Predictions Max']"
   ]
  },
  {
   "cell_type": "code",
   "execution_count": null,
   "id": "b0b6e08a-251d-42e7-b3f0-5174b885f981",
   "metadata": {},
   "outputs": [],
   "source": [
    "plt.plot(steps, mean, label='mean')\n",
    "plt.plot(steps, std, label='std')\n",
    "plt.plot(steps, min, label='min')\n",
    "plt.plot(steps, max, label='max')\n",
    "plt.legend()\n",
    "plt.title('Expert Z preds')\n",
    "# plt.savefig('temp', pad_inches=0)\n",
    "plt.show()"
   ]
  },
  {
   "cell_type": "code",
   "execution_count": null,
   "id": "becd081b-54f2-4a55-9587-d1f470882034",
   "metadata": {},
   "outputs": [],
   "source": [
    "mean = file['trainer/Z Policy Predictions Mean']\n",
    "std = file['trainer/Z Policy Predictions Std']\n",
    "min = file['trainer/Z Policy Predictions Min']\n",
    "max = file['trainer/Z Policy Predictions Max']"
   ]
  },
  {
   "cell_type": "code",
   "execution_count": null,
   "id": "29ec1854-7a6c-4788-9317-24e7e5eff5aa",
   "metadata": {},
   "outputs": [],
   "source": [
    "plt.plot(steps, mean, label='mean')\n",
    "plt.plot(steps, std, label='std')\n",
    "plt.plot(steps, min, label='min')\n",
    "plt.plot(steps, max, label='max')\n",
    "plt.legend()\n",
    "plt.title('Policy Z preds')\n",
    "# plt.savefig('temp', pad_inches=0)\n",
    "plt.show()"
   ]
  },
  {
   "cell_type": "code",
   "execution_count": null,
   "id": "5d86bdcf-45c0-4779-b9d5-43f13fa6af46",
   "metadata": {},
   "outputs": [],
   "source": [
    "loss1 = file['trainer/ZF1 Loss']\n",
    "loss2 = file['trainer/ZF2 Loss']"
   ]
  },
  {
   "cell_type": "code",
   "execution_count": null,
   "id": "0818f872-0a82-40d6-856e-821838707b35",
   "metadata": {},
   "outputs": [],
   "source": [
    "plt.plot(steps, loss1, label='Loss 1')\n",
    "plt.plot(steps, loss2, label='Loss 2')\n",
    "plt.legend()\n",
    "plt.title('ZF Loss')\n",
    "plt.show()"
   ]
  },
  {
   "cell_type": "code",
   "execution_count": null,
   "id": "2dd5e240-3ee8-45b8-8903-2225d914ffb1",
   "metadata": {},
   "outputs": [],
   "source": [
    "expert_reward = file['trainer/Z Expert Predictions Mean'] - file['trainer/Z Expert Targets Mean']\n",
    "policy_reward = file['trainer/Z Policy Predictions Mean'] - file['trainer/Z Policy Targets Mean']"
   ]
  },
  {
   "cell_type": "code",
   "execution_count": null,
   "id": "6e2442ad-2e7b-480e-aea5-48db4586807e",
   "metadata": {},
   "outputs": [],
   "source": [
    "plt.plot(steps, expert_reward, label='Expert')\n",
    "plt.plot(steps, policy_reward, label='Policy')\n",
    "plt.legend()\n",
    "plt.title('Rewards')\n",
    "plt.show()"
   ]
  },
  {
   "cell_type": "code",
   "execution_count": null,
   "id": "82171eee-02c4-47e4-96e1-7f127731dd35",
   "metadata": {},
   "outputs": [],
   "source": [
    "policy_loss = file['trainer/Policy Loss']"
   ]
  },
  {
   "cell_type": "code",
   "execution_count": null,
   "id": "c1c0b789-07fb-4b17-b5da-869cca265bc5",
   "metadata": {},
   "outputs": [],
   "source": [
    "plt.plot(steps, policy_loss)\n",
    "plt.title('Policy Loss')\n",
    "plt.show()"
   ]
  },
  {
   "cell_type": "code",
   "execution_count": null,
   "id": "3649e148-8d5f-4f10-8658-1d8d4873f31d",
   "metadata": {},
   "outputs": [],
   "source": [
    "path_l_mean = file['evaluation/path length Mean']\n",
    "path_l_std = file['evaluation/path length Std']\n",
    "path_l_min = file['evaluation/path length Min']\n",
    "path_l_max = file['evaluation/path length Max']"
   ]
  },
  {
   "cell_type": "code",
   "execution_count": null,
   "id": "bef2945a-81b3-4c51-a136-27b3f2fd42cd",
   "metadata": {},
   "outputs": [],
   "source": [
    "failure = (1000. - path_l_mean) / 1000.\n",
    "plt.plot(steps, failure)\n",
    "plt.title('Policy Loss')\n",
    "plt.show()"
   ]
  },
  {
   "cell_type": "code",
   "execution_count": null,
   "id": "acc2d1bd-6684-4d6f-9013-764a9417b961",
   "metadata": {},
   "outputs": [],
   "source": [
    "# plt.plot(steps, path_l_min)\n",
    "# plt.title('Policy Loss')\n",
    "# plt.show()"
   ]
  },
  {
   "cell_type": "code",
   "execution_count": null,
   "id": "b9f4fdf3-32b4-489f-af19-0d1ea441bc50",
   "metadata": {},
   "outputs": [],
   "source": [
    "# ood1_mean = file['trainer/Q1 OOD Mean']\n",
    "# ood1_std = file['trainer/Q1 OOD Std']"
   ]
  },
  {
   "cell_type": "code",
   "execution_count": null,
   "id": "4d8d7d98-24bb-4645-a7ab-1ab204e50de5",
   "metadata": {},
   "outputs": [],
   "source": [
    "# plt.plot(steps, ood1_mean, label='mean')\n",
    "# plt.plot(steps, ood1_std, label='std')\n",
    "# plt.legend()\n",
    "# plt.yscale('log')\n",
    "# plt.title('Delta_Q1 (OOD)')\n",
    "# plt.show()"
   ]
  },
  {
   "cell_type": "code",
   "execution_count": null,
   "id": "4913a011-d226-4b6a-9df1-f734ae881332",
   "metadata": {},
   "outputs": [],
   "source": [
    "# ood2_mean = file['trainer/Q2 OOD Mean']\n",
    "# ood2_std = file['trainer/Q2 OOD Std']"
   ]
  },
  {
   "cell_type": "code",
   "execution_count": null,
   "id": "1bfdd103-70e2-4700-b80c-507ae9a41f32",
   "metadata": {},
   "outputs": [],
   "source": [
    "# plt.plot(steps, ood2_mean, label='mean')\n",
    "# plt.plot(steps, ood2_std, label='std')\n",
    "# plt.legend()\n",
    "# plt.yscale('log')\n",
    "# plt.title('Delta_Q2 (OOD)')\n",
    "# plt.show()"
   ]
  },
  {
   "cell_type": "code",
   "execution_count": null,
   "id": "3acfbbae-8710-47dd-a2e9-c65a6416b549",
   "metadata": {},
   "outputs": [],
   "source": [
    "# plt.plot(steps, ood1_mean, label='deltaQ1')\n",
    "# plt.plot(steps, ood2_mean, label='deltaQ2')\n",
    "# plt.legend()\n",
    "# # plt.yscale('log')\n",
    "# plt.title('DeltaQ Mean (OOD)')\n",
    "# plt.show()"
   ]
  },
  {
   "cell_type": "code",
   "execution_count": null,
   "id": "4c54b9f5-5c01-4a4c-a0cf-dc18e676fc48",
   "metadata": {},
   "outputs": [],
   "source": [
    "# plt.plot(steps, ood1_std, label='deltaQ1')\n",
    "# plt.plot(steps, ood2_std, label='deltaQ2')\n",
    "# plt.legend()\n",
    "# # plt.yscale('log')\n",
    "# plt.title('DeltaQ STD (OOD)')\n",
    "# plt.show()"
   ]
  },
  {
   "cell_type": "code",
   "execution_count": null,
   "id": "08b47f3c-bdf7-41bd-9c96-472489d2c6b8",
   "metadata": {},
   "outputs": [],
   "source": [
    "p_grad = file['trainer/Policy Grad Norm']\n",
    "z1_grad = file['trainer/Zf1 Grad Norm']\n",
    "z2_grad = file['trainer/Zf2 Grad Norm']"
   ]
  },
  {
   "cell_type": "code",
   "execution_count": null,
   "id": "309c28de-0b05-4e9d-a31e-c6deb842f545",
   "metadata": {},
   "outputs": [],
   "source": [
    "p_param = file['trainer/Policy Param Norm']\n",
    "z1_param = file['trainer/Zf1 Param Norm']\n",
    "z2_param = file['trainer/Zf2 Param Norm']"
   ]
  },
  {
   "cell_type": "code",
   "execution_count": null,
   "id": "97fed107-e4dc-4214-bd14-4a604a7801f4",
   "metadata": {},
   "outputs": [],
   "source": [
    "plt.plot(steps, p_grad, label='grad norm')\n",
    "plt.plot(steps, p_param, label='weights norm ')\n",
    "plt.legend()\n",
    "plt.title('Policy')\n",
    "plt.show()"
   ]
  },
  {
   "cell_type": "code",
   "execution_count": null,
   "id": "e031bd3a-5e92-4449-a0d3-6a3451daa31b",
   "metadata": {},
   "outputs": [],
   "source": [
    "z_grad = (z1_grad + z2_grad) / 2.\n",
    "z_param = (z1_param + z2_param) / 2."
   ]
  },
  {
   "cell_type": "code",
   "execution_count": null,
   "id": "0d12c9a0-58be-4db5-8e81-01c2f100fb13",
   "metadata": {},
   "outputs": [],
   "source": [
    "plt.plot(steps, z_grad, label='z grad norm')\n",
    "plt.plot(steps, z_param, label='z weights norm')\n",
    "plt.yscale('log')\n",
    "plt.legend()\n",
    "plt.title('Z-value Function')\n",
    "plt.show()"
   ]
  },
  {
   "cell_type": "markdown",
   "id": "988c8c33-8fb5-4276-bb87-6ef316a13491",
   "metadata": {},
   "source": [
    "# many runs"
   ]
  },
  {
   "cell_type": "markdown",
   "id": "62b18838-1dec-4876-a9e2-6b48b8419ef8",
   "metadata": {
    "jp-MarkdownHeadingCollapsed": true
   },
   "source": [
    "## Ex7: Q(s,a), no-mean-std, rectified idsac.py & iqloss.py"
   ]
  },
  {
   "cell_type": "code",
   "execution_count": null,
   "id": "6c289929-e2a5-4556-8c4b-00b189770353",
   "metadata": {},
   "outputs": [],
   "source": [
    "# Walker 300 7.5e-5\n",
    "path_s0 = 'data/idsac-walker2d-normal-iqn-neutral/idsac_walker2d_normal-iqn-neutral_2024_06_08_15_18_05_0000--s-0/progress.csv'\n",
    "path_s1 = 'data/idsac-walker2d-normal-iqn-neutral/idsac_walker2d_normal-iqn-neutral_2024_06_08_16_46_36_0000--s-1/progress.csv'\n",
    "path_s2 = 'data/idsac-walker2d-normal-iqn-neutral/idsac_walker2d_normal-iqn-neutral_2024_06_08_18_12_35_0000--s-2/progress.csv'"
   ]
  },
  {
   "cell_type": "code",
   "execution_count": null,
   "id": "e939f389-1252-4b7c-b905-3801903f085b",
   "metadata": {},
   "outputs": [],
   "source": [
    "# Ant 300 7.5e-5\n"
   ]
  },
  {
   "cell_type": "markdown",
   "id": "08de5ed8-cdb5-49cd-858b-6c76e6357460",
   "metadata": {
    "jp-MarkdownHeadingCollapsed": true
   },
   "source": [
    "## Ex6: Z(s,a), mean-std, rectified idsac.py & iqloss.py"
   ]
  },
  {
   "cell_type": "code",
   "execution_count": null,
   "id": "1f4139c9-0049-4d80-aa85-a168fca78df6",
   "metadata": {},
   "outputs": [],
   "source": [
    "# Walker 360 1e-4\n",
    "path_s0 = 'data/idsac-walker2d-normal-iqn-neutral/idsac_walker2d_normal-iqn-neutral_2024_06_06_14_32_57_0000--s-0/progress.csv'\n",
    "path_s1 = 'data/idsac-walker2d-normal-iqn-neutral/idsac_walker2d_normal-iqn-neutral_2024_06_06_16_17_40_0000--s-1/progress.csv'\n",
    "path_s2 = ''"
   ]
  },
  {
   "cell_type": "markdown",
   "id": "d49e8073-c63e-4c2f-b8b9-6fd13b2bbba4",
   "metadata": {
    "jp-MarkdownHeadingCollapsed": true
   },
   "source": [
    "## Ex5: Z(s,a), no mean-std, rectified idsac.py & iqloss.py"
   ]
  },
  {
   "cell_type": "code",
   "execution_count": null,
   "id": "d3580664-c7a4-41ff-8c17-04226caa8ba1",
   "metadata": {},
   "outputs": [],
   "source": [
    "# Walker 360 1e-4\n",
    "path_s0 = 'data/idsac-walker2d-normal-iqn-neutral/idsac_walker2d_normal-iqn-neutral_2024_06_06_00_17_24_0000--s-0/progress.csv'\n",
    "path_s1 = 'data/idsac-walker2d-normal-iqn-neutral/idsac_walker2d_normal-iqn-neutral_2024_06_06_11_05_46_0000--s-1/progress.csv'\n",
    "path_s2 = 'data/idsac-walker2d-normal-iqn-neutral/idsac_walker2d_normal-iqn-neutral_2024_06_06_12_48_03_0000--s-2/progress.csv'"
   ]
  },
  {
   "cell_type": "code",
   "execution_count": null,
   "id": "b1b2e563-63d9-4890-b9df-a367feae53f1",
   "metadata": {},
   "outputs": [],
   "source": [
    "# Walker 360 5e-5\n",
    "path_s0 = 'data/idsac-walker2d-normal-iqn-neutral/idsac_walker2d_normal-iqn-neutral_2024_06_06_23_50_59_0000--s-0/progress.csv'\n",
    "path_s1 = 'data/idsac-walker2d-normal-iqn-neutral/idsac_walker2d_normal-iqn-neutral_2024_06_07_09_52_53_0000--s-1/progress.csv'\n",
    "path_s2 = 'data/idsac-walker2d-normal-iqn-neutral/idsac_walker2d_normal-iqn-neutral_2024_06_07_11_36_02_0000--s-2/progress.csv'"
   ]
  },
  {
   "cell_type": "code",
   "execution_count": null,
   "id": "43883053-83c4-4135-b6d7-c8f13014cde3",
   "metadata": {},
   "outputs": [],
   "source": [
    "# Walker 300 7.5e-5\n",
    "path_s0 = 'data/idsac-walker2d-normal-iqn-neutral/idsac_walker2d_normal-iqn-neutral_2024_06_07_12_09_18_0000--s-0/progress.csv'\n",
    "path_s1 = 'data/idsac-walker2d-normal-iqn-neutral/idsac_walker2d_normal-iqn-neutral_2024_06_07_13_59_27_0000--s-1/progress.csv'\n",
    "path_s2 = 'data/idsac-walker2d-normal-iqn-neutral/idsac_walker2d_normal-iqn-neutral_2024_06_07_15_27_33_0000--s-2/progress.csv'"
   ]
  },
  {
   "cell_type": "code",
   "execution_count": null,
   "id": "b91a0bc6-1a78-4004-9ade-9a4233f7ccdb",
   "metadata": {},
   "outputs": [],
   "source": [
    "# Ant 300 7.5e-5\n",
    "path_s0 = 'data/idsac-ant-normal-iqn-neutral/idsac_ant_normal-iqn-neutral_2024_06_07_17_07_28_0000--s-0/progress.csv'\n",
    "path_s1 = 'data/idsac-ant-normal-iqn-neutral/idsac_ant_normal-iqn-neutral_2024_06_08_08_39_26_0000--s-1/progress.csv'\n",
    "path_s2 = 'data/idsac-ant-normal-iqn-neutral/idsac_ant_normal-iqn-neutral_2024_06_08_10_21_35_0000--s-2/progress.csv'"
   ]
  },
  {
   "cell_type": "code",
   "execution_count": null,
   "id": "9b2243b1-a173-4d09-93a5-d61751dee077",
   "metadata": {},
   "outputs": [],
   "source": [
    "# Humanoid 400 5e-5\n",
    "path_s0 = 'data/idsac-humanoid-normal-iqn-neutral/idsac_humanoid_normal-iqn-neutral_2024_06_06_18_12_07_0000--s-0/progress.csv'\n",
    "path_s1 = 'data/idsac-humanoid-normal-iqn-neutral/idsac_humanoid_normal-iqn-neutral_2024_06_06_20_50_39_0000--s-1/progress.csv'\n",
    "path_s2 = 'data/idsac-humanoid-normal-iqn-neutral/idsac_humanoid_normal-iqn-neutral_2024_06_08_12_08_58_0000--s-2/progress.csv'"
   ]
  },
  {
   "cell_type": "markdown",
   "id": "2014da99-6268-48e7-9522-b0484a97c252",
   "metadata": {
    "jp-MarkdownHeadingCollapsed": true
   },
   "source": [
    "## Ex4: Z(s,a), no mean-std, omitted entropy from chi_loss"
   ]
  },
  {
   "cell_type": "code",
   "execution_count": null,
   "id": "c121d456-2f05-4bcc-af64-b4e883c65026",
   "metadata": {},
   "outputs": [],
   "source": [
    "# Ant 360\n",
    "path_s0 = 'data/idsac-ant-normal-iqn-neutral/idsac_ant_normal-iqn-neutral_2024_05_30_11_13_12_0000--s-0/progress.csv'\n",
    "path_s1 = 'data/idsac-ant-normal-iqn-neutral/idsac_ant_normal-iqn-neutral_2024_05_30_17_28_59_0000--s-1/progress.csv'\n",
    "path_s2 = 'data/idsac-ant-normal-iqn-neutral/idsac_ant_normal-iqn-neutral_2024_05_30_19_14_46_0000--s-2/progress.csv'"
   ]
  },
  {
   "cell_type": "code",
   "execution_count": null,
   "id": "fcff0a1f-9ca0-42cc-b55a-ac0ecf004012",
   "metadata": {},
   "outputs": [],
   "source": [
    "# Humanoid 510\n",
    "path_s0 = 'data/idsac-humanoid-normal-iqn-neutral/idsac_humanoid_normal-iqn-neutral_2024_05_31_10_13_58_0000--s-0/progress.csv'\n",
    "path_s1 = 'data/idsac-humanoid-normal-iqn-neutral/idsac_humanoid_normal-iqn-neutral_2024_05_31_12_51_43_0000--s-1/progress.csv'\n",
    "path_s2 = 'data/idsac-humanoid-normal-iqn-neutral/idsac_humanoid_normal-iqn-neutral_2024_05_31_15_23_07_0000--s-2/progress.csv'"
   ]
  },
  {
   "cell_type": "code",
   "execution_count": null,
   "id": "d3d7ca86-98cc-4b62-84bc-6c91b8f4a978",
   "metadata": {},
   "outputs": [],
   "source": [
    "# Walker 360\n",
    "path_s0 = 'data/idsac-walker2d-normal-iqn-neutral/idsac_walker2d_normal-iqn-neutral_2024_05_31_18_12_06_0000--s-0/progress.csv'\n",
    "path_s1 = 'data/idsac-walker2d-normal-iqn-neutral/idsac_walker2d_normal-iqn-neutral_2024_05_31_19_49_52_0000--s-1/progress.csv'\n",
    "path_s2 = 'data/idsac-walker2d-normal-iqn-neutral/idsac_walker2d_normal-iqn-neutral_2024_06_01_16_34_09_0000--s-2/progress.csv'"
   ]
  },
  {
   "cell_type": "markdown",
   "id": "6082d6f0-f345-4dcc-ab7b-a050b544f129",
   "metadata": {
    "jp-MarkdownHeadingCollapsed": true
   },
   "source": [
    "## Ex3: Q(s,a), withou mean-STD"
   ]
  },
  {
   "cell_type": "code",
   "execution_count": null,
   "id": "6cf4acf7-8f90-4147-b86e-05feb03d41d1",
   "metadata": {},
   "outputs": [],
   "source": [
    "# Ant 360\n",
    "path_s0 = 'data/idsac-ant-normal-iqn-neutral/idsac_ant_normal-iqn-neutral_2024_05_28_10_07_42_0000--s-0/progress.csv'\n",
    "path_s1 = 'data/idsac-ant-normal-iqn-neutral/idsac_ant_normal-iqn-neutral_2024_05_28_12_03_37_0000--s-1/progress.csv'\n",
    "path_s2 = 'data/idsac-ant-normal-iqn-neutral/idsac_ant_normal-iqn-neutral_2024_05_28_14_04_47_0000--s-2/progress.csv'"
   ]
  },
  {
   "cell_type": "code",
   "execution_count": null,
   "id": "6257c376-5dd3-4d9a-a7b5-7666d0a9cd8a",
   "metadata": {},
   "outputs": [],
   "source": [
    "# Walker 360\n",
    "path_s0 = 'data/idsac-walker2d-normal-iqn-neutral/idsac_walker2d_normal-iqn-neutral_2024_06_04_12_44_29_0000--s-0/progress.csv'\n",
    "path_s1 = 'data/idsac-walker2d-normal-iqn-neutral/idsac_walker2d_normal-iqn-neutral_2024_06_04_14_47_59_0000--s-1/progress.csv'\n",
    "path_s2 = 'data/idsac-walker2d-normal-iqn-neutral/idsac_walker2d_normal-iqn-neutral_2024_06_04_16_32_22_0000--s-2/progress.csv'"
   ]
  },
  {
   "cell_type": "markdown",
   "id": "0c68dc37-db6e-42b1-835d-51a5de8d9dc8",
   "metadata": {
    "jp-MarkdownHeadingCollapsed": true
   },
   "source": [
    "## EX2: Runs on IQ venv (gym==0.17) with experts from (gym==0.17)"
   ]
  },
  {
   "cell_type": "code",
   "execution_count": null,
   "id": "bd546fac-0db7-4571-b479-e62a2e420c2d",
   "metadata": {},
   "outputs": [],
   "source": [
    "# Chettah 360\n",
    "path_s0 = 'data/idsac-halfcheetah-normal-iqn-neutral/idsac_halfcheetah_normal-iqn-neutral_2024_05_27_09_12_27_0000--s-0/progress.csv'\n",
    "path_s1 = 'data/idsac-halfcheetah-normal-iqn-neutral/idsac_halfcheetah_normal-iqn-neutral_2024_05_27_11_02_13_0000--s-1/progress.csv'\n",
    "path_s2 = 'data/idsac-halfcheetah-normal-iqn-neutral/idsac_halfcheetah_normal-iqn-neutral_2024_05_27_12_48_42_0000--s-2/progress.csv'"
   ]
  },
  {
   "cell_type": "code",
   "execution_count": null,
   "id": "40868e77-7956-4083-a979-4a39965139b8",
   "metadata": {},
   "outputs": [],
   "source": [
    "# Ant 359\n",
    "path_s0 = 'data/idsac-ant-normal-iqn-neutral/idsac_ant_normal-iqn-neutral_2024_05_23_22_51_35_0000--s-0/progress.csv'\n",
    "path_s1 = 'data/idsac-ant-normal-iqn-neutral/idsac_ant_normal-iqn-neutral_2024_05_24_09_08_41_0000--s-1/progress.csv'\n",
    "path_s2 = 'data/idsac-ant-normal-iqn-neutral/idsac_ant_normal-iqn-neutral_2024_05_24_11_11_54_0000--s-2/progress.csv'"
   ]
  },
  {
   "cell_type": "code",
   "execution_count": null,
   "id": "bc2c81b0-3852-4edb-a9a1-78186218964a",
   "metadata": {},
   "outputs": [],
   "source": [
    "# Walker 360\n",
    "path_s0 = 'data/idsac-walker2d-normal-iqn-neutral/idsac_walker2d_normal-iqn-neutral_2024_05_23_17_26_14_0000--s-0/progress.csv'\n",
    "path_s1 = 'data/idsac-walker2d-normal-iqn-neutral/idsac_walker2d_normal-iqn-neutral_2024_05_25_09_29_43_0000--s-1/progress.csv'\n",
    "path_s2 = 'data/idsac-walker2d-normal-iqn-neutral/idsac_walker2d_normal-iqn-neutral_2024_05_25_11_18_46_0000--s-2/progress.csv'"
   ]
  },
  {
   "cell_type": "code",
   "execution_count": null,
   "id": "09a5f615-157c-4b63-a234-0349b345da1d",
   "metadata": {},
   "outputs": [],
   "source": [
    "# Hopper 360\n",
    "path_s0 = 'data/idsac-hopper-normal-iqn-neutral/idsac_hopper_normal-iqn-neutral_2024_05_25_13_08_00_0000--s-0/progress.csv'\n",
    "path_s1 = 'data/idsac-hopper-normal-iqn-neutral/idsac_hopper_normal-iqn-neutral_2024_05_25_14_58_33_0000--s-1/progress.csv'\n",
    "path_s2 = 'data/idsac-hopper-normal-iqn-neutral/idsac_hopper_normal-iqn-neutral_2024_05_25_16_46_08_0000--s-2/progress.csv'"
   ]
  },
  {
   "cell_type": "code",
   "execution_count": null,
   "id": "b7663959-0010-44ee-9abf-7baac380d6cb",
   "metadata": {},
   "outputs": [],
   "source": [
    "# Humanoid 470\n",
    "path_s2 = 'data/idsac-humanoid-normal-iqn-neutral/idsac_humanoid_normal-iqn-neutral_2024_05_26_12_53_12_0000--s-2/progress.csv'\n",
    "path_s1 = 'data/idsac-humanoid-normal-iqn-neutral/idsac_humanoid_normal-iqn-neutral_2024_05_26_10_05_13_0000--s-1/progress.csv'\n",
    "path_s0 = 'data/idsac-humanoid-normal-iqn-neutral/idsac_humanoid_normal-iqn-neutral_2024_05_20_14_43_39_0000--s-0/progress.csv'"
   ]
  },
  {
   "cell_type": "markdown",
   "id": "f81376e9-2c48-422a-8bce-eb6737dccfc0",
   "metadata": {
    "jp-MarkdownHeadingCollapsed": true
   },
   "source": [
    "## EX1: Runs on iq venv (gym==0.25.2) with experts from (gym==0.17)"
   ]
  },
  {
   "cell_type": "markdown",
   "id": "49dc2e94-a1b6-49a8-b9d1-717fc0629ca4",
   "metadata": {},
   "source": [
    "### 1 E-4"
   ]
  },
  {
   "cell_type": "code",
   "execution_count": null,
   "id": "197d9312-9389-4712-a28d-033f4208fb33",
   "metadata": {},
   "outputs": [],
   "source": [
    "# Ant 534 402 491\n",
    "path_s0 = 'data/idsac-ant-normal-iqn-neutral/idsac_ant_normal-iqn-neutral_2024_03_22_04_46_59_0000--s-0/progress.csv'\n",
    "path_s1 = 'data/idsac-ant-normal-iqn-neutral/idsac_ant_normal-iqn-neutral_2024_04_07_08_08_46_0000--s-1/progress.csv'\n",
    "path_s2 = 'data/idsac-ant-normal-iqn-neutral/idsac_ant_normal-iqn-neutral_2024_04_08_02_56_10_0000--s-2/progress.csv'"
   ]
  },
  {
   "cell_type": "code",
   "execution_count": null,
   "id": "3558b8db-1253-4af2-9e3f-24603e0fd2f5",
   "metadata": {},
   "outputs": [],
   "source": [
    "# HalfCheetah\n",
    "path_s0 = ''\n",
    "path_s1 = ''\n",
    "path_s2 = ''"
   ]
  },
  {
   "cell_type": "code",
   "execution_count": null,
   "id": "0fd01693-d30e-43b2-bfdc-c50c1ea3e547",
   "metadata": {},
   "outputs": [],
   "source": [
    "# Walker 332 441 393\n",
    "path_s0 = 'data/idsac-walker2d-normal-iqn-neutral/idsac_walker2d_normal-iqn-neutral_2024_04_04_04_04_28_0000--s-0/progress.csv'\n",
    "path_s1 = 'data/idsac-walker2d-normal-iqn-neutral/idsac_walker2d_normal-iqn-neutral_2024_04_05_01_05_34_0000--s-1/progress.csv'\n",
    "path_s2 = 'data/idsac-walker2d-normal-iqn-neutral/idsac_walker2d_normal-iqn-neutral_2024_04_09_09_35_19_0000--s-2/progress.csv'"
   ]
  },
  {
   "cell_type": "code",
   "execution_count": null,
   "id": "2f8c1917-4067-40cb-aad9-0af7de52a8e3",
   "metadata": {},
   "outputs": [],
   "source": [
    "# Humanoid 530\n",
    "path_s0 = 'data/idsac-humanoid-normal-iqn-neutral/idsac_humanoid_normal-iqn-neutral_2024_03_23_09_30_23_0000--s-0/progress.csv'\n",
    "path_s1 = 'data/idsac-humanoid-normal-iqn-neutral/idsac_humanoid_normal-iqn-neutral_2024_04_03_03_42_01_0000--s-1/progress.csv'\n",
    "path_s2 = 'data/idsac-humanoid-normal-iqn-neutral/idsac_humanoid_normal-iqn-neutral_2024_04_13_06_20_12_0000--s-2/progress.csv'"
   ]
  },
  {
   "cell_type": "code",
   "execution_count": null,
   "id": "2cc74244-2d51-4a6d-b2cf-7124312b722c",
   "metadata": {},
   "outputs": [],
   "source": [
    "# Hopper 342 343 350\n",
    "path_s0 = 'data/idsac-hopper-normal-iqn-neutral/idsac_hopper_normal-iqn-neutral_2024_03_23_02_14_46_0000--s-0/progress.csv'\n",
    "path_s1 = 'data/idsac-hopper-normal-iqn-neutral/idsac_hopper_normal-iqn-neutral_2024_04_09_07_49_45_0000--s-1/progress.csv'\n",
    "path_s2 = 'data/idsac-hopper-normal-iqn-neutral/idsac_hopper_normal-iqn-neutral_2024_04_14_05_41_35_0000--s-2/progress.csv'"
   ]
  },
  {
   "cell_type": "markdown",
   "id": "ec50df75-3b5b-4bbd-b73f-5d294cec05a4",
   "metadata": {},
   "source": [
    "### 7.5 E-5"
   ]
  },
  {
   "cell_type": "code",
   "execution_count": null,
   "id": "3de4d415-fdcb-4539-95fd-aa8a7f560fef",
   "metadata": {},
   "outputs": [],
   "source": [
    "# Ant 390 390 390\n",
    "path_s0 = 'data/idsac-ant-normal-iqn-neutral/idsac_ant_normal-iqn-neutral_2024_04_11_07_11_42_0000--s-0/progress.csv'\n",
    "path_s1 = 'data/idsac-ant-normal-iqn-neutral/idsac_ant_normal-iqn-neutral_2024_04_11_09_11_34_0000--s-1/progress.csv'\n",
    "path_s2 = 'data/idsac-ant-normal-iqn-neutral/idsac_ant_normal-iqn-neutral_2024_04_11_11_06_44_0000--s-2/progress.csv'"
   ]
  },
  {
   "cell_type": "code",
   "execution_count": null,
   "id": "db799e9b-7b85-44a5-9a10-258dbd30e1e7",
   "metadata": {},
   "outputs": [],
   "source": [
    "# HalfCheetah 290 335 290\n",
    "path_s0 = 'data/idsac-halfcheetah-normal-iqn-neutral/idsac_halfcheetah_normal-iqn-neutral_2024_04_12_07_50_47_0000--s-0/progress.csv'\n",
    "path_s1 = 'data/idsac-halfcheetah-normal-iqn-neutral/idsac_halfcheetah_normal-iqn-neutral_2024_04_12_09_12_45_0000--s-1/progress.csv'\n",
    "path_s2 = 'data/idsac-halfcheetah-normal-iqn-neutral/idsac_halfcheetah_normal-iqn-neutral_2024_04_12_10_42_26_0000--s-2/progress.csv'"
   ]
  },
  {
   "cell_type": "code",
   "execution_count": null,
   "id": "0e741953-9dc9-41a5-8365-260b6af47f34",
   "metadata": {},
   "outputs": [],
   "source": [
    "# Walker 350, 400, 400\n",
    "path_s0 = 'data/idsac-walker2d-normal-iqn-neutral/idsac_walker2d_normal-iqn-neutral_2024_04_10_05_26_01_0000--s-0/progress.csv'\n",
    "path_s1 = 'data/idsac-walker2d-normal-iqn-neutral/idsac_walker2d_normal-iqn-neutral_2024_04_10_09_06_17_0000--s-1/progress.csv'\n",
    "path_s2 = 'data/idsac-walker2d-normal-iqn-neutral/idsac_walker2d_normal-iqn-neutral_2024_04_10_07_11_08_0000--s-2/progress.csv'"
   ]
  },
  {
   "cell_type": "code",
   "execution_count": null,
   "id": "c1c5e76d-968b-4ae3-86b9-39b2758f421a",
   "metadata": {},
   "outputs": [],
   "source": [
    "# Humanoid 530\n",
    "path_s0 = 'data/idsac-humanoid-normal-iqn-neutral/idsac_humanoid_normal-iqn-neutral_2024_03_23_09_30_23_0000--s-0/progress.csv'\n",
    "path_s1 = 'data/idsac-humanoid-normal-iqn-neutral/idsac_humanoid_normal-iqn-neutral_2024_04_03_03_42_01_0000--s-1/progress.csv'\n",
    "path_s2 = 'data/idsac-humanoid-normal-iqn-neutral/idsac_humanoid_normal-iqn-neutral_2024_04_13_06_20_12_0000--s-2/progress.csv'"
   ]
  },
  {
   "cell_type": "code",
   "execution_count": null,
   "id": "5f06e481-b967-48b5-b929-2095ec14b1d6",
   "metadata": {},
   "outputs": [],
   "source": [
    "# Hopper 274 350 350 \n",
    "path_s0 = 'data/idsac-hopper-normal-iqn-neutral/idsac_hopper_normal-iqn-neutral_2024_04_07_05_32_05_0000--s-0/progress.csv'\n",
    "path_s1 = 'data/idsac-hopper-normal-iqn-neutral/idsac_hopper_normal-iqn-neutral_2024_04_14_02_03_04_0000--s-1/progress.csv'\n",
    "path_s2 = 'data/idsac-hopper-normal-iqn-neutral/idsac_hopper_normal-iqn-neutral_2024_04_14_04_00_31_0000--s-2/progress.csv'"
   ]
  },
  {
   "cell_type": "markdown",
   "id": "f89b89ab-7023-4ec1-866e-9ed4c1bea6bd",
   "metadata": {
    "jp-MarkdownHeadingCollapsed": true
   },
   "source": [
    "# Plot (Mu +/- Std)"
   ]
  },
  {
   "cell_type": "code",
   "execution_count": null,
   "id": "638530a4-5bb7-4e0f-8402-9db9c8435141",
   "metadata": {},
   "outputs": [],
   "source": [
    "def plot_curves(paths, \n",
    "                env_id, \n",
    "                max_iter,\n",
    "                std_coef=0.5,\n",
    "                rolling=False, \n",
    "                window=20):\n",
    "\n",
    "    tresholds = {\n",
    "        'Ant': 4500,\n",
    "        'Walker': 5000,\n",
    "        'Humanoid': 5000,\n",
    "        'HalfCheetah': 5000,\n",
    "        'Hopper': 3500,\n",
    "    }\n",
    "    expert_treshold = tresholds[env_id]\n",
    "    \n",
    "    path_s0, path_s1, path_s2 = paths\n",
    "    def df_util(path, returns=True):\n",
    "        df = pandas.read_csv(path)[:max_iter]\n",
    "        if returns:\n",
    "            return df['evaluation/Returns Mean'].to_numpy()\n",
    "        else:\n",
    "            return df['replay_buffer/size'].to_numpy()\n",
    "\n",
    "    r0 = df_util(path_s0)\n",
    "    r1 = df_util(path_s1)\n",
    "    r2 = df_util(path_s2)\n",
    "    steps = df_util(path_s0, returns=False) // 1000\n",
    "    returns = np.zeros((max_iter, 3))\n",
    "    returns[:, 0] = r0\n",
    "    returns[:, 1] = r1\n",
    "    returns[:, 2] = r2\n",
    "    r_mean = returns.mean(axis=1)\n",
    "    r_std = returns.std(axis=1)\n",
    "\n",
    "    if rolling:\n",
    "        ma_r_mean = pandas.Series(r_mean).rolling(window).mean().to_numpy()\n",
    "        ma_r_std = pandas.Series(r_std).rolling(window).mean().to_numpy()\n",
    "        plt.plot(steps, ma_r_mean, label='iDSAC')\n",
    "        plt.fill_between(x=steps, \n",
    "                         y1=(ma_r_mean - std_coef * ma_r_std), \n",
    "                         y2=(ma_r_mean + std_coef * ma_r_std), \n",
    "                         alpha=0.2)\n",
    "        plt.title(f\"{env_id}-v2  (mu+/-{std_coef} std, rolling={window})\")\n",
    "        # plt.xlim(5 + window, 10 + max_iter)\n",
    "    else:\n",
    "        plt.plot(steps, r_mean, label='iDSAC')\n",
    "        plt.fill_between(x=steps, \n",
    "                         y1=(r_mean - std_coef * r_std), \n",
    "                         y2=(r_mean + std_coef * r_std), \n",
    "                         alpha=0.2)\n",
    "        plt.title(f\"{env_id}-v2  (mu+/-{std_coef} std)\")\n",
    "        # plt.xlim(5, 10 + max_iter)\n",
    "        \n",
    "    plt.axhline(y=expert_treshold, c='r', ls='--', lw=1, alpha=0.8, label='expert')\n",
    "    plt.legend(loc='lower right')\n",
    "    plt.xlabel(\"Steps (1k)\")\n",
    "    plt.ylabel(\"Episode Rewards\")\n",
    "    plt.tight_layout()\n",
    "    plt.show()"
   ]
  },
  {
   "cell_type": "code",
   "execution_count": null,
   "id": "da214cfe-d101-44d7-a1b1-8d2f85fb9db8",
   "metadata": {},
   "outputs": [],
   "source": [
    "paths = (path_s0, path_s1, path_s2)\n",
    "plot_curves(paths, 'Walker', 400, std_coef=0.5, rolling=False, window=10)\n",
    "plot_curves(paths, 'Walker', 400, std_coef=0.5, rolling=True, window=10)"
   ]
  },
  {
   "cell_type": "markdown",
   "id": "7d8b5fb0-f341-46b7-a1ff-a86690deca42",
   "metadata": {
    "jp-MarkdownHeadingCollapsed": true
   },
   "source": [
    "# Plot Lines"
   ]
  },
  {
   "cell_type": "code",
   "execution_count": null,
   "id": "f55a8e38-c6e6-4cb0-b21a-d0a04784f5a1",
   "metadata": {},
   "outputs": [],
   "source": [
    "def plot_lines(paths, \n",
    "                env_id, \n",
    "                max_iter,\n",
    "                std_coef=0.5,\n",
    "                rolling=False, \n",
    "                window=20):\n",
    "\n",
    "    tresholds = {\n",
    "        'Ant': 4500,\n",
    "        'Walker': 5000,\n",
    "        'Humanoid': 5000,\n",
    "        'HalfCheetah': 5000,\n",
    "        'Hopper': 3500,\n",
    "    }\n",
    "    expert_treshold = tresholds[env_id]\n",
    "    \n",
    "    path_s0, path_s1, path_s2 = paths\n",
    "    def df_util(path, returns=True):\n",
    "        df = pandas.read_csv(path)[:max_iter]\n",
    "        if returns:\n",
    "            return df['evaluation/Returns Mean']\n",
    "        else:\n",
    "            return df['replay_buffer/size']\n",
    "\n",
    "    r0 = df_util(path_s0)\n",
    "    r1 = df_util(path_s1)\n",
    "    r2 = df_util(path_s2)\n",
    "    steps = df_util(path_s0, returns=False) // 1000\n",
    "    \n",
    "    colors = ['b', 'r', 'g']\n",
    "    \n",
    "    if rolling:\n",
    "        for i, r in enumerate([r0, r1, r2]):\n",
    "            r = r.rolling(window).mean()\n",
    "            plt.plot(steps, r, color=colors[i])\n",
    "        plt.axhline(y=expert_treshold, c='k', ls='--', lw=1, alpha=0.8)\n",
    "        plt.title(f\"{env_id}-v2 , rolling={window})\")\n",
    "    else:\n",
    "        for i, r in enumerate([r0, r1, r2]):\n",
    "            plt.plot(steps, r, color=colors[i])\n",
    "        plt.axhline(y=expert_treshold, c='k', ls='--', lw=1, alpha=0.8)\n",
    "        plt.title(f\"{env_id}-v2\")\n",
    "        \n",
    "    plt.show()\n",
    "    plt.close()"
   ]
  },
  {
   "cell_type": "code",
   "execution_count": null,
   "id": "e038826f-8ac4-4cc9-96f7-b726ed9c2406",
   "metadata": {},
   "outputs": [],
   "source": [
    "paths = (path_s0, path_s1, path_s2)\n",
    "plot_lines(paths, 'Walker', 400, std_coef=0.5, rolling=False, window=10)\n",
    "plot_lines(paths, 'Walker', 400, std_coef=0.5, rolling=True, window=10)"
   ]
  },
  {
   "cell_type": "markdown",
   "id": "9824faf8-de5d-4505-91a9-3941ea545606",
   "metadata": {
    "jp-MarkdownHeadingCollapsed": true
   },
   "source": [
    "# extra"
   ]
  },
  {
   "cell_type": "markdown",
   "id": "af322d76-360e-454c-a0a4-715ad72b30c7",
   "metadata": {
    "jp-MarkdownHeadingCollapsed": true
   },
   "source": [
    "## not important"
   ]
  },
  {
   "cell_type": "code",
   "execution_count": null,
   "id": "e1c32ab1-66ee-409c-b75b-11ecf8eeb164",
   "metadata": {},
   "outputs": [],
   "source": [
    "def plot_lines(paths, \n",
    "                env_id, \n",
    "                expert_treshold, \n",
    "                max_iter,\n",
    "                std_coef=0.5,\n",
    "                rolling=False, \n",
    "                window=20):\n",
    "    \n",
    "    path_s0, path_s1, path_s2 = paths\n",
    "    def df_util(path, returns=True):\n",
    "        df = pandas.read_csv(path)[:max_iter]\n",
    "        if returns:\n",
    "            return df['evaluation/Returns Mean']\n",
    "        else:\n",
    "            return df['replay_buffer/size']\n",
    "\n",
    "    r0 = df_util(path_s0)\n",
    "    r1 = df_util(path_s1)\n",
    "    r2 = df_util(path_s2)\n",
    "    steps = df_util(path_s0, returns=False) // 1000\n",
    "    \n",
    "    colors = ['b', 'r', 'g']\n",
    "    fig, axs = plt.subplots(1, 3)\n",
    "    \n",
    "    if rolling:\n",
    "        for i, r in enumerate([r0, r1, r2]):\n",
    "            r = r.rolling(window).mean()\n",
    "            axs[i].plot(steps, r, color=colors[i])\n",
    "            axs[i].axhline(y=expert_treshold, c='b', ls='--', lw=1, alpha=0.8)\n",
    "            axs[i].set_title(f'seed={i}')\n",
    "        fig.suptitle(f\"{env_id}-v2  (mu+/-{std_coef} std, rolling={window})\")\n",
    "    else:\n",
    "        for i, r in enumerate([r0, r1, r2]):\n",
    "            r = r.rolling(window).mean()\n",
    "            axs[i].plot(steps, r, color=colors[i])\n",
    "            axs[i].set_title(f'seed={i}')\n",
    "        fig.suptitle(f\"{env_id}-v2  (mu+/-{std_coef} std)\")\n",
    "        \n",
    "    plt.show()"
   ]
  },
  {
   "cell_type": "code",
   "execution_count": null,
   "id": "725ebe0f-4b89-4adc-a3ed-8bc1041173f3",
   "metadata": {},
   "outputs": [],
   "source": [
    "paths = (path_s0, path_s1, path_s2)\n",
    "plot_lines(paths, 'Walker', 5000, 300, std_coef=0.5, rolling=False, window=10)\n",
    "plot_lines(paths, 'Walker', 5000, 300, std_coef=0.5, rolling=True, window=10)"
   ]
  },
  {
   "cell_type": "code",
   "execution_count": null,
   "id": "708d9744-2a38-4bb9-9640-08ba82a4c681",
   "metadata": {},
   "outputs": [],
   "source": []
  },
  {
   "cell_type": "markdown",
   "id": "bb59aa4a-65d7-431d-8141-544f4d422363",
   "metadata": {
    "jp-MarkdownHeadingCollapsed": true
   },
   "source": [
    "## rolling mean"
   ]
  },
  {
   "cell_type": "code",
   "execution_count": null,
   "id": "25d18185-ecaf-40a2-ae59-0f70025b43c4",
   "metadata": {},
   "outputs": [],
   "source": [
    "def create_df(path_s0, path_s1, path_s2, max_iter):\n",
    "    s0 = pandas.read_csv(path_s0)[:max_iter]\n",
    "    s1 = pandas.read_csv(path_s1)[:max_iter]\n",
    "    s2 = pandas.read_csv(path_s2)[:max_iter]\n",
    "    r0 = s0['evaluation/Returns Mean']\n",
    "    r1 = s1['evaluation/Returns Mean']\n",
    "    r2 = s2['evaluation/Returns Mean']\n",
    "    steps = s0['replay_buffer/size']\n",
    "    \n",
    "    def util(data, seed, steps, window=3):\n",
    "        df = pandas.DataFrame(data)\n",
    "        df.columns = ['Returns']\n",
    "        df['Moving Returns'] = df['Returns'].rolling(window=window).mean()\n",
    "        df.bfill(inplace=True)\n",
    "        df['Seed'] = seed\n",
    "        df.index = steps\n",
    "        df.index.name = 'Steps'\n",
    "        return df\n",
    "        \n",
    "    r0 = util(r0, 0, steps)\n",
    "    r1 = util(r1, 1, steps)\n",
    "    r2 = util(r2, 2, steps)\n",
    "    df = pandas.concat([r0, r1, r2], ignore_index=False)\n",
    "    return df\n",
    "    \n",
    "df = create_df(path_s0, path_s1, path_s2, max_iter=400)\n",
    "df = df.drop(['Returns'], axis=1)"
   ]
  },
  {
   "cell_type": "code",
   "execution_count": null,
   "id": "a13fdaa2-aeae-46ef-9385-d8d689aa9adc",
   "metadata": {},
   "outputs": [],
   "source": [
    "def plotty_ma(df, env_name, error_name, treshold):\n",
    "    error_val = 95 if error_name == 'ci' else 0.5\n",
    "    fig, ax = plt.subplots()\n",
    "    sns.lineplot(data=df, x='Steps', y='Moving Returns', errorbar=(error_name, error_val), label='ours', ax=ax)\n",
    "    ax.axhline(treshold, ls='--', c='red', label='expert')\n",
    "    ax.ticklabel_format(style='scientific', scilimits=(3,3), axis='both', useMathText=True)\n",
    "    ax.legend(loc='lower right')\n",
    "    plt.title(f'{env_name} ({error_name} {error_val} | window=5)')\n",
    "    ax.set_xlabel('Steps')\n",
    "    ax.set_ylabel('Returns')\n",
    "    # plt.savefig()\n",
    "    plt.show()"
   ]
  },
  {
   "cell_type": "code",
   "execution_count": null,
   "id": "07868008-d3d8-4869-b707-835550d756cf",
   "metadata": {},
   "outputs": [],
   "source": [
    "plotty_ma(df, 'Humanoid', 'ci', 5000)\n",
    "plotty_ma(df, 'Humanoid', 'sd', 5000)"
   ]
  },
  {
   "cell_type": "markdown",
   "id": "f4beadaf-0312-4300-8118-e536b649780e",
   "metadata": {
    "jp-MarkdownHeadingCollapsed": true
   },
   "source": [
    "## mean"
   ]
  },
  {
   "cell_type": "code",
   "execution_count": null,
   "id": "a9b3c9c2-8bf2-4997-b429-55bbf18f3aa7",
   "metadata": {},
   "outputs": [],
   "source": [
    "def create_df(path_s0, path_s1, path_s2, max_iter):\n",
    "    s0 = pandas.read_csv(path_s0)[:max_iter]\n",
    "    s1 = pandas.read_csv(path_s1)[:max_iter]\n",
    "    s2 = pandas.read_csv(path_s2)[:max_iter]\n",
    "    r0 = s0['evaluation/Returns Mean']\n",
    "    r1 = s1['evaluation/Returns Mean']\n",
    "    r2 = s2['evaluation/Returns Mean']\n",
    "    steps = s0['replay_buffer/size']\n",
    "    \n",
    "    def util(data, seed, steps):\n",
    "        df = pandas.DataFrame(data)\n",
    "        df.columns = ['Returns']\n",
    "        df['Seed'] = seed\n",
    "        df.index = steps\n",
    "        df.index.name = 'Steps'\n",
    "        return df\n",
    "        \n",
    "    r0 = util(r0, 0, steps)\n",
    "    r1 = util(r1, 1, steps)\n",
    "    r2 = util(r2, 2, steps)\n",
    "    df = pandas.concat([r0, r1, r2], ignore_index=False)\n",
    "    return df\n",
    "    \n",
    "df = create_df(path_s0, path_s1, path_s2, max_iter=400)"
   ]
  },
  {
   "cell_type": "code",
   "execution_count": null,
   "id": "997a0236-78f7-445f-ba86-03739cd0e86a",
   "metadata": {},
   "outputs": [],
   "source": [
    "def plotty(df, env_name, error_name, treshold):\n",
    "    error_val = 95 if error_name == 'ci' else 0.5\n",
    "    fig, ax = plt.subplots()\n",
    "    sns.lineplot(data=df, x='Steps', y='Returns', errorbar=(error_name, error_val), label='ours', ax=ax)\n",
    "    ax.axhline(treshold, ls='--', c='red', label='expert')\n",
    "    ax.ticklabel_format(style='scientific', scilimits=(3,3), axis='both', useMathText=True)\n",
    "    ax.legend(loc='lower right')\n",
    "    plt.title(f'{env_name} ({error_name} {error_val})')\n",
    "    ax.set_xlabel('Steps')\n",
    "    ax.set_ylabel('Returns')\n",
    "    # plt.savefig()\n",
    "    plt.show()"
   ]
  },
  {
   "cell_type": "code",
   "execution_count": null,
   "id": "9c3b0648-5f8d-47d4-a087-5bee062965e8",
   "metadata": {},
   "outputs": [],
   "source": [
    "plotty(df, 'Humanoid', 'ci', 5000)\n",
    "plotty(df, 'Humanoid', 'sd', 5000)"
   ]
  }
 ],
 "metadata": {
  "kernelspec": {
   "display_name": "Python 3 (ipykernel)",
   "language": "python",
   "name": "python3"
  },
  "language_info": {
   "codemirror_mode": {
    "name": "ipython",
    "version": 3
   },
   "file_extension": ".py",
   "mimetype": "text/x-python",
   "name": "python",
   "nbconvert_exporter": "python",
   "pygments_lexer": "ipython3",
   "version": "3.10.12"
  }
 },
 "nbformat": 4,
 "nbformat_minor": 5
}
