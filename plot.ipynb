{
 "cells": [
  {
   "cell_type": "code",
   "execution_count": 1,
   "id": "426f1356-7cf4-443e-a081-a3dcb7b5be01",
   "metadata": {},
   "outputs": [],
   "source": [
    "import matplotlib.pyplot as plt\n",
    "import numpy as np\n",
    "import pandas\n",
    "import seaborn as sns\n",
    "import scipy.stats as st "
   ]
  },
  {
   "cell_type": "markdown",
   "id": "dcd09239-19b1-4ba7-a743-d10d8ca6ebf4",
   "metadata": {
    "jp-MarkdownHeadingCollapsed": true
   },
   "source": [
    "# one run"
   ]
  },
  {
   "cell_type": "code",
   "execution_count": null,
   "id": "4345d568-9b6c-46d5-bcd7-5ed4c86b7d13",
   "metadata": {},
   "outputs": [],
   "source": [
    "path = 'data/hopper/hopper_2024_08_24_06_21_23_0000--s-2/progress.csv'\n",
    "file = pandas.read_csv(path)"
   ]
  },
  {
   "cell_type": "code",
   "execution_count": null,
   "id": "8efe85e9-ff83-4051-8ac8-47a7a5b82421",
   "metadata": {},
   "outputs": [],
   "source": [
    "returns = file['evaluation/Returns Mean']\n",
    "ma_returns = file['evaluation/Returns Mean'].rolling(window=5).mean()\n",
    "steps = (file['Epoch'] + 3) * 5000\n",
    "# steps = (file['Epoch'] + 11) * 1000\n",
    "\n",
    "plt.plot(steps, returns)\n",
    "# plt.plot(steps, ma_returns)\n",
    "plt.axhline(3500, color='r', ls=':')\n",
    "plt.title(\"Returns\")\n",
    "# plt.savefig('temp')\n",
    "plt.show()"
   ]
  },
  {
   "cell_type": "code",
   "execution_count": null,
   "id": "007f844e-612e-40f2-8ede-f900699fcc90",
   "metadata": {},
   "outputs": [],
   "source": [
    "alpha = file['trainer/Alpha']\n",
    "plt.plot(steps, alpha)\n",
    "plt.title('entropy temperature')\n",
    "plt.show()"
   ]
  },
  {
   "cell_type": "code",
   "execution_count": null,
   "id": "afb0a6fd-3690-48a6-bb1d-66ac35ee33b6",
   "metadata": {},
   "outputs": [],
   "source": [
    "bias = file['evaluation/Estimation Bias Mean']\n",
    "q_pred = file['evaluation/EB/Q_Pred Mean']\n",
    "q_true = file['evaluation/EB/Q_True Mean']\n",
    "\n",
    "plt.plot(steps, q_pred, label='Q pred')\n",
    "plt.plot(steps, q_true, label='Q true')\n",
    "plt.legend()\n",
    "plt.title(\"Estimation Bias\")\n",
    "# plt.savefig('temp1')\n",
    "plt.show()"
   ]
  },
  {
   "cell_type": "code",
   "execution_count": null,
   "id": "02f0669d-7f97-460b-ada3-a2ecb777b57f",
   "metadata": {},
   "outputs": [],
   "source": [
    "min_ret = file['evaluation/Returns Min']\n",
    "max_ret = file['evaluation/Returns Max']\n",
    "std_ret = file['evaluation/Returns Std']\n",
    "\n",
    "plt.plot(steps, min_ret, label='min_ret')\n",
    "plt.plot(steps, max_ret, label='max_ret')\n",
    "plt.plot(steps, std_ret, label='std_ret')\n",
    "plt.legend()\n",
    "# plt.savefig('temp', pad_inches=0)\n",
    "plt.show()"
   ]
  },
  {
   "cell_type": "code",
   "execution_count": null,
   "id": "b0b6e08a-251d-42e7-b3f0-5174b885f981",
   "metadata": {},
   "outputs": [],
   "source": [
    "mean = file['trainer/Z Expert Predictions Mean']\n",
    "std = file['trainer/Z Expert Predictions Std']\n",
    "min = file['trainer/Z Expert Predictions Min']\n",
    "max = file['trainer/Z Expert Predictions Max']\n",
    "\n",
    "plt.plot(steps, mean, label='mean')\n",
    "plt.plot(steps, std, label='std')\n",
    "plt.plot(steps, min, label='min')\n",
    "plt.plot(steps, max, label='max')\n",
    "plt.legend()\n",
    "plt.title('Expert Z preds')\n",
    "# plt.savefig('temp', pad_inches=0)\n",
    "plt.show()"
   ]
  },
  {
   "cell_type": "code",
   "execution_count": null,
   "id": "29ec1854-7a6c-4788-9317-24e7e5eff5aa",
   "metadata": {},
   "outputs": [],
   "source": [
    "mean = file['trainer/Z Policy Predictions Mean']\n",
    "std = file['trainer/Z Policy Predictions Std']\n",
    "min = file['trainer/Z Policy Predictions Min']\n",
    "max = file['trainer/Z Policy Predictions Max']\n",
    "\n",
    "plt.plot(steps, mean, label='mean')\n",
    "plt.plot(steps, std, label='std')\n",
    "plt.plot(steps, min, label='min')\n",
    "plt.plot(steps, max, label='max')\n",
    "plt.legend()\n",
    "plt.title('Policy Z preds')\n",
    "# plt.savefig('temp', pad_inches=0)\n",
    "plt.show()"
   ]
  },
  {
   "cell_type": "code",
   "execution_count": null,
   "id": "0818f872-0a82-40d6-856e-821838707b35",
   "metadata": {},
   "outputs": [],
   "source": [
    "loss1 = file['trainer/ZF1 Loss']\n",
    "loss2 = file['trainer/ZF2 Loss']\n",
    "\n",
    "plt.plot(steps, loss1, label='Loss 1')\n",
    "plt.plot(steps, loss2, label='Loss 2')\n",
    "plt.legend()\n",
    "plt.title('ZF Loss')\n",
    "plt.show()"
   ]
  },
  {
   "cell_type": "code",
   "execution_count": null,
   "id": "6e2442ad-2e7b-480e-aea5-48db4586807e",
   "metadata": {},
   "outputs": [],
   "source": [
    "expert_reward = file['trainer/Z Expert Predictions Mean'] - file['trainer/Z Expert Targets Mean']\n",
    "policy_reward = file['trainer/Z Policy Predictions Mean'] - file['trainer/Z Policy Targets Mean']\n",
    "\n",
    "print(policy_reward.values[-50:].mean())\n",
    "\n",
    "plt.plot(steps, expert_reward, label='Expert')\n",
    "plt.plot(steps, policy_reward, label='Policy')\n",
    "plt.legend()\n",
    "plt.title('Rewards')\n",
    "plt.show()"
   ]
  },
  {
   "cell_type": "code",
   "execution_count": null,
   "id": "c1c0b789-07fb-4b17-b5da-869cca265bc5",
   "metadata": {},
   "outputs": [],
   "source": [
    "policy_loss = file['trainer/Policy Loss']\n",
    "\n",
    "plt.plot(steps, policy_loss)\n",
    "plt.title('Policy Loss')\n",
    "plt.show()"
   ]
  },
  {
   "cell_type": "code",
   "execution_count": null,
   "id": "bef2945a-81b3-4c51-a136-27b3f2fd42cd",
   "metadata": {},
   "outputs": [],
   "source": [
    "path_l_mean = file['evaluation/path length Mean']\n",
    "path_l_std = file['evaluation/path length Std']\n",
    "path_l_min = file['evaluation/path length Min']\n",
    "path_l_max = file['evaluation/path length Max']\n",
    "\n",
    "failure = (1000. - path_l_mean) / 1000.\n",
    "plt.plot(steps, failure)\n",
    "plt.title('Failure')\n",
    "plt.show()"
   ]
  },
  {
   "cell_type": "code",
   "execution_count": null,
   "id": "2e26cf90-3475-4991-a18e-bef1ddd721a5",
   "metadata": {},
   "outputs": [],
   "source": [
    "bias_value = file['trainer/Bias Value']\n",
    "\n",
    "plt.plot(steps, bias_value)\n",
    "plt.title('b Value')\n",
    "plt.show()"
   ]
  },
  {
   "cell_type": "code",
   "execution_count": null,
   "id": "8bcc6cd8-6551-4ab5-9861-dd80e166a7ac",
   "metadata": {},
   "outputs": [],
   "source": [
    "# Correlation\n",
    "true_r = file[\"evaluation/Rewards Mean\"]\n",
    "implicit_r = file[\"trainer/ZF Policy Reward\"].rolling(20).mean()\n",
    "cor = true_r.corr(implicit_r, method='pearson')\n",
    "print(f\"% {cor * 100:.1f}\")\n",
    "\n",
    "plt.plot(steps, true_r, label='true rewards')\n",
    "plt.plot(steps, implicit_r, label='implicit rewards')\n",
    "plt.legend()\n",
    "plt.show()"
   ]
  },
  {
   "cell_type": "code",
   "execution_count": null,
   "id": "08b47f3c-bdf7-41bd-9c96-472489d2c6b8",
   "metadata": {},
   "outputs": [],
   "source": [
    "p_grad = file['trainer/Policy Grad Norm']\n",
    "z1_grad = file['trainer/Zf1 Grad Norm']\n",
    "z2_grad = file['trainer/Zf2 Grad Norm']\n",
    "\n",
    "p_param = file['trainer/Policy Param Norm']\n",
    "z1_param = file['trainer/Zf1 Param Norm']\n",
    "z2_param = file['trainer/Zf2 Param Norm']\n",
    "\n",
    "z_grad = (z1_grad + z2_grad) / 2.\n",
    "z_param = (z1_param + z2_param) / 2.\n",
    "\n",
    "plt.plot(steps, p_grad, label='grad norm')\n",
    "plt.plot(steps, p_param, label='weights norm ')\n",
    "plt.legend()\n",
    "plt.title('Policy')\n",
    "plt.show()\n",
    "\n",
    "plt.plot(steps, z_grad, label='z grad norm')\n",
    "plt.plot(steps, z_param, label='z weights norm')\n",
    "plt.yscale('log')\n",
    "plt.legend()\n",
    "plt.title('Z-value Function')\n",
    "plt.show()"
   ]
  },
  {
   "cell_type": "code",
   "execution_count": null,
   "id": "acc2d1bd-6684-4d6f-9013-764a9417b961",
   "metadata": {},
   "outputs": [],
   "source": [
    "# plt.plot(steps, path_l_min)\n",
    "# plt.title('Policy Loss')\n",
    "# plt.show()"
   ]
  },
  {
   "cell_type": "code",
   "execution_count": null,
   "id": "b9f4fdf3-32b4-489f-af19-0d1ea441bc50",
   "metadata": {},
   "outputs": [],
   "source": [
    "# ood1_mean = file['trainer/Q1 OOD Mean']\n",
    "# ood1_std = file['trainer/Q1 OOD Std']"
   ]
  },
  {
   "cell_type": "code",
   "execution_count": null,
   "id": "4d8d7d98-24bb-4645-a7ab-1ab204e50de5",
   "metadata": {},
   "outputs": [],
   "source": [
    "# plt.plot(steps, ood1_mean, label='mean')\n",
    "# plt.plot(steps, ood1_std, label='std')\n",
    "# plt.legend()\n",
    "# plt.yscale('log')\n",
    "# plt.title('Delta_Q1 (OOD)')\n",
    "# plt.show()"
   ]
  },
  {
   "cell_type": "code",
   "execution_count": null,
   "id": "4913a011-d226-4b6a-9df1-f734ae881332",
   "metadata": {},
   "outputs": [],
   "source": [
    "# ood2_mean = file['trainer/Q2 OOD Mean']\n",
    "# ood2_std = file['trainer/Q2 OOD Std']"
   ]
  },
  {
   "cell_type": "code",
   "execution_count": null,
   "id": "1bfdd103-70e2-4700-b80c-507ae9a41f32",
   "metadata": {},
   "outputs": [],
   "source": [
    "# plt.plot(steps, ood2_mean, label='mean')\n",
    "# plt.plot(steps, ood2_std, label='std')\n",
    "# plt.legend()\n",
    "# plt.yscale('log')\n",
    "# plt.title('Delta_Q2 (OOD)')\n",
    "# plt.show()"
   ]
  },
  {
   "cell_type": "code",
   "execution_count": null,
   "id": "3acfbbae-8710-47dd-a2e9-c65a6416b549",
   "metadata": {},
   "outputs": [],
   "source": [
    "# plt.plot(steps, ood1_mean, label='deltaQ1')\n",
    "# plt.plot(steps, ood2_mean, label='deltaQ2')\n",
    "# plt.legend()\n",
    "# # plt.yscale('log')\n",
    "# plt.title('DeltaQ Mean (OOD)')\n",
    "# plt.show()"
   ]
  },
  {
   "cell_type": "code",
   "execution_count": null,
   "id": "4c54b9f5-5c01-4a4c-a0cf-dc18e676fc48",
   "metadata": {},
   "outputs": [],
   "source": [
    "# plt.plot(steps, ood1_std, label='deltaQ1')\n",
    "# plt.plot(steps, ood2_std, label='deltaQ2')\n",
    "# plt.legend()\n",
    "# # plt.yscale('log')\n",
    "# plt.title('DeltaQ STD (OOD)')\n",
    "# plt.show()"
   ]
  },
  {
   "cell_type": "markdown",
   "id": "988c8c33-8fb5-4276-bb87-6ef316a13491",
   "metadata": {},
   "source": [
    "# many runs"
   ]
  },
  {
   "cell_type": "markdown",
   "id": "7688b962-0e65-46e0-a8dc-b951c5eaa196",
   "metadata": {},
   "source": [
    "## Ex12-10: z, learn b"
   ]
  },
  {
   "cell_type": "code",
   "execution_count": null,
   "id": "1022a1bb-44bf-4008-9a3e-5d6db731480b",
   "metadata": {},
   "outputs": [],
   "source": [
    "# Ant 340 lr=5e-5 b=10 b_lr=1e-4 ent=0.2 chi_coef=0.5 value demo=10\n",
    "path_s0 = 'data/ant/ant_2024_08_20_01_59_55_0000--s-0/progress.csv'\n",
    "path_s1 = 'data/ant/ant_2024_08_20_03_52_16_0000--s-1/progress.csv'\n",
    "path_s2 = 'data/ant/ant_2024_08_20_05_27_00_0000--s-2/progress.csv'\n",
    "path_s3 = 'data/ant/ant_2024_08_20_07_02_21_0000--s-3/progress.csv'\n",
    "path_s4 = 'data/ant/ant_2024_08_20_07_02_21_0000--s-3/progress.csv'"
   ]
  },
  {
   "cell_type": "code",
   "execution_count": null,
   "id": "1cd94060-df98-4662-9d19-794aba14e4f0",
   "metadata": {},
   "outputs": [],
   "source": [
    "# Walker2d 340 lr=5e-5 b=10 b_lr=1e-4 ent=0.2 chi_coef=0.5 value demo=10\n",
    "path_s0 = 'data/walker2d/walker2d_2024_08_20_17_52_36_0000--s-0/progress.csv'\n",
    "path_s1 = 'data/walker2d/walker2d_2024_08_20_16_09_18_0000--s-1/progress.csv'\n",
    "path_s2 = 'data/walker2d/walker2d_2024_08_20_19_38_47_0000--s-2/progress.csv'\n",
    "path_s3 = 'data/walker2d/walker2d_2024_08_20_21_30_02_0000--s-3/progress.csv'\n",
    "path_s4 = 'data/walker2d/walker2d_2024_08_21_10_54_56_0000--s-4/progress.csv'"
   ]
  },
  {
   "cell_type": "code",
   "execution_count": null,
   "id": "3b5c87aa-2442-4ac6-85c4-37900ad4f522",
   "metadata": {},
   "outputs": [],
   "source": [
    "# HalfCheetah 340 lr=5e-5 b=10 b_lr=1e-4 ent=0.2 chi_coef=0.5 value demo=10\n",
    "path_s0 = 'data/halfcheetah/halfcheetah_2024_08_20_23_08_11_0000--s-0/progress.csv'\n",
    "path_s1 = 'data/halfcheetah/halfcheetah_2024_08_21_00_54_27_0000--s-1/progress.csv'\n",
    "path_s2 = 'data/halfcheetah/halfcheetah_2024_08_21_02_28_03_0000--s-2/progress.csv'\n",
    "path_s3 = 'data/halfcheetah/halfcheetah_2024_08_21_04_00_43_0000--s-3/progress.csv'\n",
    "path_s4 = 'data/halfcheetah/halfcheetah_2024_08_21_05_34_25_0000--s-4/progress.csv'"
   ]
  },
  {
   "cell_type": "code",
   "execution_count": null,
   "id": "7a730d98-4454-44b0-a4d3-8e14fdb7de45",
   "metadata": {},
   "outputs": [],
   "source": [
    "# Humanoid 340 lr=1e-5 b=10 b_lr=1e-4 ent=0.2 chi_coef=0.5 value demo=10\n",
    "path_s0 = 'data/humanoid/humanoid_2024_08_21_17_15_38_0000--s-0/progress.csv'\n",
    "path_s1 = 'data/humanoid/humanoid_2024_08_21_18_59_30_0000--s-1/progress.csv'\n",
    "path_s2 = 'data/humanoid/humanoid_2024_08_23_19_15_15_0000--s-2/progress.csv'\n",
    "path_s3 = 'data/humanoid/humanoid_2024_08_23_20_56_57_0000--s-3/progress.csv'\n",
    "path_s4 = 'data/humanoid/humanoid_2024_08_23_22_39_34_0000--s-4/progress.csv'"
   ]
  },
  {
   "cell_type": "code",
   "execution_count": 2,
   "id": "d42083ce-02d6-48dc-b56d-a9fc7e9adb7d",
   "metadata": {},
   "outputs": [],
   "source": [
    "# Hopper 340 lr=5e-5 b=10 b_lr=1e-4 ent=0.5 chi_coef=0.5 value demo=10\n",
    "path_s0 = 'data/hopper/hopper_2024_08_24_03_08_32_0000--s-0/progress.csv'\n",
    "path_s1 = 'data/hopper/hopper_2024_08_24_04_47_23_0000--s-1/progress.csv'\n",
    "path_s2 = 'data/hopper/hopper_2024_08_24_06_21_23_0000--s-2/progress.csv'\n",
    "path_s3 = 'data/hopper/hopper_2024_08_24_07_54_20_0000--s-3/progress.csv'\n",
    "path_s4 = 'data/hopper/hopper_2024_08_24_09_28_27_0000--s-4/progress.csv'"
   ]
  },
  {
   "cell_type": "markdown",
   "id": "3307922b-99ae-4efa-96ac-f4fb0647cfda",
   "metadata": {
    "jp-MarkdownHeadingCollapsed": true
   },
   "source": [
    "## Ex12-1: z, learn b"
   ]
  },
  {
   "cell_type": "code",
   "execution_count": null,
   "id": "c04e9175-847d-4fdd-a6ca-ccc0481820c6",
   "metadata": {},
   "outputs": [],
   "source": [
    "# Ant 330 lr=5e-5 b=10 b_lr=1e-4 ent=0.01 chi_coef=0.5 value demo=1\n",
    "path_s0 = 'data/ant/ant_2024_07_26_10_57_07_0000--s-0/progress.csv'\n",
    "path_s1 = 'data/ant/ant_2024_07_26_13_15_00_0000--s-1/progress.csv'\n",
    "path_s2 = 'data/ant/ant_2024_07_26_15_27_13_0000--s-2/progress.csv'\n",
    "path_s3 = 'data/ant/ant_2024_08_22_15_24_19_0000--s-3/progress.csv'\n",
    "path_s4 = 'data/ant/ant_2024_08_22_17_14_37_0000--s-4/progress.csv'"
   ]
  },
  {
   "cell_type": "code",
   "execution_count": null,
   "id": "a5b5964f-98d8-4f3e-981d-4ec9e4eb5eba",
   "metadata": {},
   "outputs": [],
   "source": [
    "# walker 330 lr=5e-5 b=10 b_lr=1e-4 ent=0.01 chi_coef=0.5 value demo=1\n",
    "path_s0 = 'data/walker2d/walker2d_2024_07_27_11_23_52_0000--s-0/progress.csv'\n",
    "path_s1 = 'data/walker2d/walker2d_2024_07_27_13_37_41_0000--s-1/progress.csv'\n",
    "path_s2 = 'data/walker2d/walker2d_2024_07_27_15_15_06_0000--s-2/progress.csv'\n",
    "path_s3 = 'data/walker2d/walker2d_2024_08_22_19_01_33_0000--s-3/progress.csv'\n",
    "path_s4 = 'data/walker2d/walker2d_2024_08_22_20_41_11_0000--s-4/progress.csv'"
   ]
  },
  {
   "cell_type": "code",
   "execution_count": null,
   "id": "68059eb9-9e0c-4610-97a6-670a8e4d7e64",
   "metadata": {},
   "outputs": [],
   "source": [
    "# HalfCheetah 330 lr=5e-5 b=10 b_lr=1e-4 ent=0.01 chi_coef=0.5 v0 demo=1\n",
    "path_s0 = 'data/halfcheetah/halfcheetah_2024_07_31_07_30_09_0000--s-0/progress.csv'\n",
    "path_s1 = 'data/halfcheetah/halfcheetah_2024_07_31_09_13_27_0000--s-1/progress.csv'\n",
    "path_s2 = 'data/halfcheetah/halfcheetah_2024_07_31_11_07_40_0000--s-2/progress.csv'\n",
    "path_s3 = 'data/halfcheetah/halfcheetah_2024_08_23_01_24_38_0000--s-3/progress.csv'\n",
    "path_s4 = 'data/halfcheetah/halfcheetah_2024_08_23_02_58_13_0000--s-4/progress.csv'"
   ]
  },
  {
   "cell_type": "code",
   "execution_count": null,
   "id": "165625ae-1f67-440b-a93f-608c85271712",
   "metadata": {},
   "outputs": [],
   "source": [
    "# Humanoid 300 330 330 lr=1e-5 b=10 b_lr=1e-4 ent=0.01 chi_coef=0.5 v0 demo=1\n",
    "# path_s0 = 'data/humanoid/humanoid_2024_07_28_13_20_08_0000--s-0/progress.csv'\n",
    "path_s0 = ''\n",
    "path_s1 = 'data/humanoid/humanoid_2024_07_28_15_08_18_0000--s-1/progress.csv'\n",
    "path_s2 = 'data/humanoid/humanoid_2024_07_29_08_40_48_0000--s-2/progress.csv'\n",
    "path_s3 = 'data/humanoid/humanoid_2024_08_22_22_20_44_0000--s-3/progress.csv'\n",
    "path_s4 = ''"
   ]
  },
  {
   "cell_type": "code",
   "execution_count": null,
   "id": "a8b374f5-5f8c-410c-af82-ed1f98e16b2a",
   "metadata": {},
   "outputs": [],
   "source": [
    "# Hopper 330 lr=5e-5 b=10 b_lr=1e-4 ent=0.01 chi_coef=0.5 value demo=1\n",
    "path_s0 = ''\n",
    "path_s1 = ''\n",
    "path_s2 = ''\n",
    "path_s3 = ''\n",
    "path_s4 = ''"
   ]
  },
  {
   "cell_type": "code",
   "execution_count": null,
   "id": "f9e8b968-fcbd-4a43-a42c-ca15cca6d93e",
   "metadata": {},
   "outputs": [],
   "source": [
    "# walker 330 lr=5e-5 b=20 b_lr=1e-5 ent=0.2 chi_coef=0.1 value demo=1\n",
    "# path_s0 = 'data/walker2d/walker2d_2024_07_21_13_15_17_0000--s-0/progress.csv'\n",
    "# path_s1 = 'data/walker2d/walker2d_2024_07_21_09_41_23_0000--s-1/progress.csv'\n",
    "# path_s2 = 'data/walker2d/walker2d_2024_07_21_11_24_51_0000--s-2/progress.csv'"
   ]
  },
  {
   "cell_type": "markdown",
   "id": "e39eb653-8719-4544-819d-40b60e8d7021",
   "metadata": {
    "jp-MarkdownHeadingCollapsed": true
   },
   "source": [
    "## Ex11: z, value (expert+policy), learn b, demo 10"
   ]
  },
  {
   "cell_type": "code",
   "execution_count": null,
   "id": "ea462730-08b3-4f85-95c8-87799ba765da",
   "metadata": {},
   "outputs": [],
   "source": [
    "# Ant 300 lr=5e-5 b=10 b_lr=1e-5 alpha=0.1\n",
    "path_s0 = 'data/ant/ant_2024_07_11_19_12_14_0000--s-0/progress.csv'\n",
    "path_s1 = 'data/ant/ant_2024_07_12_12_36_15_0000--s-1/progress.csv'\n",
    "path_s2 = 'data/ant/ant_2024_07_12_14_26_39_0000--s-2/progress.csv'"
   ]
  },
  {
   "cell_type": "code",
   "execution_count": null,
   "id": "2dba7bb8-e1c5-4592-b426-2a1ee5f6846e",
   "metadata": {},
   "outputs": [],
   "source": [
    "# walker 300 lr=5e-5 b=10 b_lr=1e-5 alpha=0.1\n",
    "path_s0 = 'data/walker2d/walker2d_2024_07_13_08_32_21_0000--s-0/progress.csv'\n",
    "path_s1 = 'data/walker2d/walker2d_2024_07_13_10_03_42_0000--s-1/progress.csv'\n",
    "path_s2 = 'data/walker2d/walker2d_2024_07_13_13_38_24_0000--s-2/progress.csv'"
   ]
  },
  {
   "cell_type": "code",
   "execution_count": null,
   "id": "7b48991f-ea41-420b-b917-91b73eb390c6",
   "metadata": {},
   "outputs": [],
   "source": [
    "# Humanoid 330 lr=1e-5 b=10 b_lr=1e-5 alpha=0.1\n",
    "path_s0 = 'data/humanoid/humanoid_2024_07_14_15_25_41_0000--s-0/progress.csv'\n",
    "path_s1 = 'data/humanoid/humanoid_2024_07_14_17_14_05_0000--s-1/progress.csv'\n",
    "path_s2 = 'data/humanoid/humanoid_2024_07_14_19_03_21_0000--s-2/progress.csv'"
   ]
  },
  {
   "cell_type": "code",
   "execution_count": null,
   "id": "8f96944e-1d29-415f-8eef-922bf85794b8",
   "metadata": {},
   "outputs": [],
   "source": [
    "# Hopper 300 lr=5e-5 b=12 b_lr=1e-5 alpha=1\n",
    "path_s0 = 'data/hopper/hopper_2024_07_15_18_59_43_0000--s-0/progress.csv'\n",
    "path_s1 = 'data/hopper/hopper_2024_07_16_07_26_09_0000--s-1/progress.csv'\n",
    "path_s2 = 'data/hopper/hopper_2024_07_16_08_55_29_0000--s-2/progress.csv'"
   ]
  },
  {
   "cell_type": "code",
   "execution_count": null,
   "id": "9298308a-1816-4c0c-a530-38b6f01dec27",
   "metadata": {},
   "outputs": [],
   "source": [
    "# HalfCheetah 300 lr=5e-5 b=10 b_lr=1e-5 alpha=0.1\n",
    "path_s0 = 'data/halfcheetah/halfcheetah_2024_07_16_10_29_47_0000--s-0/progress.csv'\n",
    "path_s1 = 'data/halfcheetah/halfcheetah_2024_07_16_11_57_23_0000--s-1/progress.csv'\n",
    "path_s2 = 'data/halfcheetah/halfcheetah_2024_07_16_13_36_17_0000--s-2/progress.csv'"
   ]
  },
  {
   "cell_type": "markdown",
   "id": "6591e0f9-ccf6-4cd2-89cd-503ad587f2cd",
   "metadata": {
    "jp-MarkdownHeadingCollapsed": true
   },
   "source": [
    "## Ex10: Z(s,a), learnable b, constant alpha, no mean-std (omit discount * H in iq_loss)"
   ]
  },
  {
   "cell_type": "code",
   "execution_count": null,
   "id": "eae82ec6-a774-444b-be7f-1a6cc431746e",
   "metadata": {},
   "outputs": [],
   "source": [
    "# Walker 300\n",
    "path_s0 = 'data/idsac-walker2d-normal-iqn-neutral/idsac_walker2d_normal-iqn-neutral_2024_06_27_13_50_58_0000--s-0/progress.csv'\n",
    "path_s1 = 'data/idsac-walker2d-normal-iqn-neutral/idsac_walker2d_normal-iqn-neutral_2024_06_27_12_25_36_0000--s-1/progress.csv'\n",
    "path_s2 = 'data/idsac-walker2d-normal-iqn-neutral/idsac_walker2d_normal-iqn-neutral_2024_06_27_10_54_23_0000--s-2/progress.csv'"
   ]
  },
  {
   "cell_type": "markdown",
   "id": "9cf4f655-88d2-41e6-b4d7-56150098f4a8",
   "metadata": {
    "jp-MarkdownHeadingCollapsed": true
   },
   "source": [
    "## Ex9: Z(s,a), learnable b, constant alpha, no mean-std"
   ]
  },
  {
   "cell_type": "code",
   "execution_count": null,
   "id": "46f6cde3-9185-41e4-8bce-a4148a3df8a3",
   "metadata": {},
   "outputs": [],
   "source": [
    "# Walker 300 5e-5 b=10 b_lr=1e-4 alpha=0.005\n",
    "path_s0 = 'data/idsac-walker2d-normal-iqn-neutral/idsac_walker2d_normal-iqn-neutral_2024_06_19_16_01_06_0000--s-0/progress.csv'\n",
    "path_s1 = 'data/idsac-walker2d-normal-iqn-neutral/idsac_walker2d_normal-iqn-neutral_2024_06_19_17_30_02_0000--s-1/progress.csv'\n",
    "path_s2 = 'data/idsac-walker2d-normal-iqn-neutral/idsac_walker2d_normal-iqn-neutral_2024_06_19_18_56_59_0000--s-2/progress.csv'"
   ]
  },
  {
   "cell_type": "code",
   "execution_count": null,
   "id": "280f7b9a-caee-4ed2-b6b2-2a458d27c15b",
   "metadata": {},
   "outputs": [],
   "source": [
    "# Walker 300 5e-5 b=10 b_lr=1e-4 alpha=0.01\n",
    "path_s0 = 'data/idsac-walker2d-normal-iqn-neutral/idsac_walker2d_normal-iqn-neutral_2024_06_17_10_15_08_0000--s-0/progress.csv'\n",
    "path_s1 = ''\n",
    "path_s2 = ''"
   ]
  },
  {
   "cell_type": "code",
   "execution_count": null,
   "id": "e6f4c1ca-071e-4933-85e6-8e4490710c1e",
   "metadata": {},
   "outputs": [],
   "source": [
    "# Humanoid 400 b=10 b_lr=1e-4 alpha=0.05\n",
    "path_s0 = 'data/idsac-humanoid-normal-iqn-neutral/idsac_humanoid_normal-iqn-neutral_2024_06_19_22_18_33_0000--s-0/progress.csv'\n",
    "path_s1 = 'data/idsac-humanoid-normal-iqn-neutral/idsac_humanoid_normal-iqn-neutral_2024_06_20_14_17_50_0000--s-1/progress.csv'\n",
    "path_s2 = 'data/idsac-humanoid-normal-iqn-neutral/idsac_humanoid_normal-iqn-neutral_2024_06_20_20_48_03_0000--s-2/progress.csv'"
   ]
  },
  {
   "cell_type": "code",
   "execution_count": null,
   "id": "b5bae04a-9aac-4e78-a1a2-5de240ced101",
   "metadata": {},
   "outputs": [],
   "source": [
    "# Ant 300 5e-5 b=10 b_lr=1e-4 alpha=0.005\n",
    "path_s0 = 'data/idsac-ant-normal-iqn-neutral/idsac_ant_normal-iqn-neutral_2024_06_21_13_52_51_0000--s-0/progress.csv'\n",
    "path_s1 = 'data/idsac-ant-normal-iqn-neutral/idsac_ant_normal-iqn-neutral_2024_06_21_15_25_33_0000--s-1/progress.csv'\n",
    "path_s2 = 'data/idsac-ant-normal-iqn-neutral/idsac_ant_normal-iqn-neutral_2024_06_21_16_59_28_0000--s-2/progress.csv'"
   ]
  },
  {
   "cell_type": "code",
   "execution_count": null,
   "id": "67ce5974-4ecc-4a4e-90cc-7987aebd52e6",
   "metadata": {},
   "outputs": [],
   "source": [
    "# Ant 300 5e-5 b=10 b_lr=1e-4 alpha=0.01\n",
    "path_s0 = 'data/idsac-ant-normal-iqn-neutral/idsac_ant_normal-iqn-neutral_2024_06_21_18_50_53_0000--s-0/progress.csv'\n",
    "path_s1 = ''\n",
    "path_s2 = ''"
   ]
  },
  {
   "cell_type": "code",
   "execution_count": null,
   "id": "4eb17b61-004b-4e4f-901d-85ab97f421c3",
   "metadata": {},
   "outputs": [],
   "source": [
    "# Hopper 300 5e-5 b=10 b_lr=1e-4 alpha=0.01\n",
    "path_s1 = ''\n",
    "path_s2 = ''"
   ]
  },
  {
   "cell_type": "code",
   "execution_count": null,
   "id": "0bfe721c-460e-42d1-ad8a-0f50e31fef13",
   "metadata": {},
   "outputs": [],
   "source": [
    "# Hopper 300 5e-5 b=10 b_lr=1e-4 alpha=0.005\n",
    "\"\"\"\n",
    "Not working!\n",
    "\"\"\""
   ]
  },
  {
   "cell_type": "code",
   "execution_count": null,
   "id": "d09b312e-70a6-4bff-aae1-3c7c050d119d",
   "metadata": {},
   "outputs": [],
   "source": [
    "# HalfCheetah 300 5e-5 b=10 b_lr=1e-4 alpha=0.005"
   ]
  },
  {
   "cell_type": "markdown",
   "id": "cc90db75-2b1f-40fd-934c-b09a88e55fb8",
   "metadata": {
    "jp-MarkdownHeadingCollapsed": true
   },
   "source": [
    "## Ex8: Z(s,a), no mean-std, learnable alpha and b"
   ]
  },
  {
   "cell_type": "code",
   "execution_count": null,
   "id": "7ef8a2c7-9bb2-4d35-83aa-62bd1ba1662f",
   "metadata": {},
   "outputs": [],
   "source": [
    "# Ant 300 7.5e-5\n",
    "path_s0 = 'data/idsac-ant-normal-iqn-neutral/idsac_ant_normal-iqn-neutral_2024_06_14_17_36_32_0000--s-0/progress.csv'\n",
    "path_s1 = 'data/idsac-ant-normal-iqn-neutral/idsac_ant_normal-iqn-neutral_2024_06_15_09_19_45_0000--s-1/progress.csv'\n",
    "path_s2 = 'data/idsac-ant-normal-iqn-neutral/idsac_ant_normal-iqn-neutral_2024_06_15_10_52_07_0000--s-2/progress.csv'"
   ]
  },
  {
   "cell_type": "markdown",
   "id": "62b18838-1dec-4876-a9e2-6b48b8419ef8",
   "metadata": {
    "jp-MarkdownHeadingCollapsed": true
   },
   "source": [
    "## Ex7: Q(s,a), no-mean-std, rectified idsac.py & iqloss.py"
   ]
  },
  {
   "cell_type": "code",
   "execution_count": null,
   "id": "6c289929-e2a5-4556-8c4b-00b189770353",
   "metadata": {},
   "outputs": [],
   "source": [
    "# Walker 300 7.5e-5\n",
    "path_s0 = 'data/idsac-walker2d-normal-iqn-neutral/idsac_walker2d_normal-iqn-neutral_2024_06_08_15_18_05_0000--s-0/progress.csv'\n",
    "path_s1 = 'data/idsac-walker2d-normal-iqn-neutral/idsac_walker2d_normal-iqn-neutral_2024_06_08_16_46_36_0000--s-1/progress.csv'\n",
    "path_s2 = 'data/idsac-walker2d-normal-iqn-neutral/idsac_walker2d_normal-iqn-neutral_2024_06_08_18_12_35_0000--s-2/progress.csv'"
   ]
  },
  {
   "cell_type": "code",
   "execution_count": null,
   "id": "e939f389-1252-4b7c-b905-3801903f085b",
   "metadata": {},
   "outputs": [],
   "source": [
    "# Ant 300 7.5e-5\n",
    "path_s0 = 'data/idsac-ant-normal-iqn-neutral/idsac_ant_normal-iqn-neutral_2024_06_09_09_27_39_0000--s-0/progress.csv'\n",
    "path_s1 = ''\n",
    "path_s2 = ''"
   ]
  },
  {
   "cell_type": "markdown",
   "id": "08de5ed8-cdb5-49cd-858b-6c76e6357460",
   "metadata": {
    "jp-MarkdownHeadingCollapsed": true
   },
   "source": [
    "## Ex6: Z(s,a), mean-std, rectified idsac.py & iqloss.py"
   ]
  },
  {
   "cell_type": "code",
   "execution_count": null,
   "id": "1f4139c9-0049-4d80-aa85-a168fca78df6",
   "metadata": {},
   "outputs": [],
   "source": [
    "# Walker 360 1e-4\n",
    "path_s0 = 'data/idsac-walker2d-normal-iqn-neutral/idsac_walker2d_normal-iqn-neutral_2024_06_06_14_32_57_0000--s-0/progress.csv'\n",
    "path_s1 = 'data/idsac-walker2d-normal-iqn-neutral/idsac_walker2d_normal-iqn-neutral_2024_06_06_16_17_40_0000--s-1/progress.csv'\n",
    "path_s2 = ''"
   ]
  },
  {
   "cell_type": "markdown",
   "id": "d49e8073-c63e-4c2f-b8b9-6fd13b2bbba4",
   "metadata": {
    "jp-MarkdownHeadingCollapsed": true
   },
   "source": [
    "## Ex5: Z(s,a), no mean-std, rectified idsac.py & iqloss.py"
   ]
  },
  {
   "cell_type": "code",
   "execution_count": null,
   "id": "d3580664-c7a4-41ff-8c17-04226caa8ba1",
   "metadata": {},
   "outputs": [],
   "source": [
    "# Walker 360 1e-4\n",
    "path_s0 = 'data/idsac-walker2d-normal-iqn-neutral/idsac_walker2d_normal-iqn-neutral_2024_06_06_00_17_24_0000--s-0/progress.csv'\n",
    "path_s1 = 'data/idsac-walker2d-normal-iqn-neutral/idsac_walker2d_normal-iqn-neutral_2024_06_06_11_05_46_0000--s-1/progress.csv'\n",
    "path_s2 = 'data/idsac-walker2d-normal-iqn-neutral/idsac_walker2d_normal-iqn-neutral_2024_06_06_12_48_03_0000--s-2/progress.csv'"
   ]
  },
  {
   "cell_type": "code",
   "execution_count": null,
   "id": "b1b2e563-63d9-4890-b9df-a367feae53f1",
   "metadata": {},
   "outputs": [],
   "source": [
    "# Walker 360 5e-5\n",
    "path_s0 = 'data/idsac-walker2d-normal-iqn-neutral/idsac_walker2d_normal-iqn-neutral_2024_06_06_23_50_59_0000--s-0/progress.csv'\n",
    "path_s1 = 'data/idsac-walker2d-normal-iqn-neutral/idsac_walker2d_normal-iqn-neutral_2024_06_07_09_52_53_0000--s-1/progress.csv'\n",
    "path_s2 = 'data/idsac-walker2d-normal-iqn-neutral/idsac_walker2d_normal-iqn-neutral_2024_06_07_11_36_02_0000--s-2/progress.csv'"
   ]
  },
  {
   "cell_type": "code",
   "execution_count": null,
   "id": "43883053-83c4-4135-b6d7-c8f13014cde3",
   "metadata": {},
   "outputs": [],
   "source": [
    "# Walker 300 7.5e-5\n",
    "path_s0 = 'data/idsac-walker2d-normal-iqn-neutral/idsac_walker2d_normal-iqn-neutral_2024_06_07_12_09_18_0000--s-0/progress.csv'\n",
    "path_s1 = 'data/idsac-walker2d-normal-iqn-neutral/idsac_walker2d_normal-iqn-neutral_2024_06_07_13_59_27_0000--s-1/progress.csv'\n",
    "path_s2 = 'data/idsac-walker2d-normal-iqn-neutral/idsac_walker2d_normal-iqn-neutral_2024_06_07_15_27_33_0000--s-2/progress.csv'"
   ]
  },
  {
   "cell_type": "code",
   "execution_count": null,
   "id": "b91a0bc6-1a78-4004-9ade-9a4233f7ccdb",
   "metadata": {},
   "outputs": [],
   "source": [
    "# Ant 300 7.5e-5\n",
    "path_s0 = 'data/idsac-ant-normal-iqn-neutral/idsac_ant_normal-iqn-neutral_2024_06_07_17_07_28_0000--s-0/progress.csv'\n",
    "path_s1 = 'data/idsac-ant-normal-iqn-neutral/idsac_ant_normal-iqn-neutral_2024_06_08_08_39_26_0000--s-1/progress.csv'\n",
    "path_s2 = 'data/idsac-ant-normal-iqn-neutral/idsac_ant_normal-iqn-neutral_2024_06_08_10_21_35_0000--s-2/progress.csv'"
   ]
  },
  {
   "cell_type": "code",
   "execution_count": null,
   "id": "9b2243b1-a173-4d09-93a5-d61751dee077",
   "metadata": {},
   "outputs": [],
   "source": [
    "# Humanoid 400 5e-5\n",
    "path_s0 = 'data/idsac-humanoid-normal-iqn-neutral/idsac_humanoid_normal-iqn-neutral_2024_06_06_18_12_07_0000--s-0/progress.csv'\n",
    "path_s1 = 'data/idsac-humanoid-normal-iqn-neutral/idsac_humanoid_normal-iqn-neutral_2024_06_06_20_50_39_0000--s-1/progress.csv'\n",
    "path_s2 = 'data/idsac-humanoid-normal-iqn-neutral/idsac_humanoid_normal-iqn-neutral_2024_06_08_12_08_58_0000--s-2/progress.csv'"
   ]
  },
  {
   "cell_type": "markdown",
   "id": "2014da99-6268-48e7-9522-b0484a97c252",
   "metadata": {
    "jp-MarkdownHeadingCollapsed": true
   },
   "source": [
    "## Ex4: Z(s,a), no mean-std, omitted entropy from chi_loss"
   ]
  },
  {
   "cell_type": "code",
   "execution_count": null,
   "id": "c121d456-2f05-4bcc-af64-b4e883c65026",
   "metadata": {},
   "outputs": [],
   "source": [
    "# Ant 360\n",
    "path_s0 = 'data/idsac-ant-normal-iqn-neutral/idsac_ant_normal-iqn-neutral_2024_05_30_11_13_12_0000--s-0/progress.csv'\n",
    "path_s1 = 'data/idsac-ant-normal-iqn-neutral/idsac_ant_normal-iqn-neutral_2024_05_30_17_28_59_0000--s-1/progress.csv'\n",
    "path_s2 = 'data/idsac-ant-normal-iqn-neutral/idsac_ant_normal-iqn-neutral_2024_05_30_19_14_46_0000--s-2/progress.csv'"
   ]
  },
  {
   "cell_type": "code",
   "execution_count": null,
   "id": "fcff0a1f-9ca0-42cc-b55a-ac0ecf004012",
   "metadata": {},
   "outputs": [],
   "source": [
    "# Humanoid 510\n",
    "path_s0 = 'data/idsac-humanoid-normal-iqn-neutral/idsac_humanoid_normal-iqn-neutral_2024_05_31_10_13_58_0000--s-0/progress.csv'\n",
    "path_s1 = 'data/idsac-humanoid-normal-iqn-neutral/idsac_humanoid_normal-iqn-neutral_2024_05_31_12_51_43_0000--s-1/progress.csv'\n",
    "path_s2 = 'data/idsac-humanoid-normal-iqn-neutral/idsac_humanoid_normal-iqn-neutral_2024_05_31_15_23_07_0000--s-2/progress.csv'"
   ]
  },
  {
   "cell_type": "code",
   "execution_count": null,
   "id": "d3d7ca86-98cc-4b62-84bc-6c91b8f4a978",
   "metadata": {},
   "outputs": [],
   "source": [
    "# Walker 360\n",
    "path_s0 = 'data/idsac-walker2d-normal-iqn-neutral/idsac_walker2d_normal-iqn-neutral_2024_05_31_18_12_06_0000--s-0/progress.csv'\n",
    "path_s1 = 'data/idsac-walker2d-normal-iqn-neutral/idsac_walker2d_normal-iqn-neutral_2024_05_31_19_49_52_0000--s-1/progress.csv'\n",
    "path_s2 = 'data/idsac-walker2d-normal-iqn-neutral/idsac_walker2d_normal-iqn-neutral_2024_06_01_16_34_09_0000--s-2/progress.csv'"
   ]
  },
  {
   "cell_type": "markdown",
   "id": "6082d6f0-f345-4dcc-ab7b-a050b544f129",
   "metadata": {
    "jp-MarkdownHeadingCollapsed": true
   },
   "source": [
    "## Ex3: Q(s,a), withou mean-STD"
   ]
  },
  {
   "cell_type": "code",
   "execution_count": null,
   "id": "6cf4acf7-8f90-4147-b86e-05feb03d41d1",
   "metadata": {},
   "outputs": [],
   "source": [
    "# Ant 360\n",
    "path_s0 = 'data/idsac-ant-normal-iqn-neutral/idsac_ant_normal-iqn-neutral_2024_05_28_10_07_42_0000--s-0/progress.csv'\n",
    "path_s1 = 'data/idsac-ant-normal-iqn-neutral/idsac_ant_normal-iqn-neutral_2024_05_28_12_03_37_0000--s-1/progress.csv'\n",
    "path_s2 = 'data/idsac-ant-normal-iqn-neutral/idsac_ant_normal-iqn-neutral_2024_05_28_14_04_47_0000--s-2/progress.csv'"
   ]
  },
  {
   "cell_type": "code",
   "execution_count": null,
   "id": "6257c376-5dd3-4d9a-a7b5-7666d0a9cd8a",
   "metadata": {},
   "outputs": [],
   "source": [
    "# Walker 360\n",
    "path_s0 = 'data/idsac-walker2d-normal-iqn-neutral/idsac_walker2d_normal-iqn-neutral_2024_06_04_12_44_29_0000--s-0/progress.csv'\n",
    "path_s1 = 'data/idsac-walker2d-normal-iqn-neutral/idsac_walker2d_normal-iqn-neutral_2024_06_04_14_47_59_0000--s-1/progress.csv'\n",
    "path_s2 = 'data/idsac-walker2d-normal-iqn-neutral/idsac_walker2d_normal-iqn-neutral_2024_06_04_16_32_22_0000--s-2/progress.csv'"
   ]
  },
  {
   "cell_type": "markdown",
   "id": "0c68dc37-db6e-42b1-835d-51a5de8d9dc8",
   "metadata": {
    "jp-MarkdownHeadingCollapsed": true
   },
   "source": [
    "## EX2: Runs on IQ venv (gym==0.17) with experts from (gym==0.17)"
   ]
  },
  {
   "cell_type": "code",
   "execution_count": null,
   "id": "bd546fac-0db7-4571-b479-e62a2e420c2d",
   "metadata": {},
   "outputs": [],
   "source": [
    "# Chettah 360\n",
    "path_s0 = 'data/idsac-halfcheetah-normal-iqn-neutral/idsac_halfcheetah_normal-iqn-neutral_2024_05_27_09_12_27_0000--s-0/progress.csv'\n",
    "path_s1 = 'data/idsac-halfcheetah-normal-iqn-neutral/idsac_halfcheetah_normal-iqn-neutral_2024_05_27_11_02_13_0000--s-1/progress.csv'\n",
    "path_s2 = 'data/idsac-halfcheetah-normal-iqn-neutral/idsac_halfcheetah_normal-iqn-neutral_2024_05_27_12_48_42_0000--s-2/progress.csv'"
   ]
  },
  {
   "cell_type": "code",
   "execution_count": null,
   "id": "40868e77-7956-4083-a979-4a39965139b8",
   "metadata": {},
   "outputs": [],
   "source": [
    "# Ant 359\n",
    "path_s0 = 'data/idsac-ant-normal-iqn-neutral/idsac_ant_normal-iqn-neutral_2024_05_23_22_51_35_0000--s-0/progress.csv'\n",
    "path_s1 = 'data/idsac-ant-normal-iqn-neutral/idsac_ant_normal-iqn-neutral_2024_05_24_09_08_41_0000--s-1/progress.csv'\n",
    "path_s2 = 'data/idsac-ant-normal-iqn-neutral/idsac_ant_normal-iqn-neutral_2024_05_24_11_11_54_0000--s-2/progress.csv'"
   ]
  },
  {
   "cell_type": "code",
   "execution_count": null,
   "id": "bc2c81b0-3852-4edb-a9a1-78186218964a",
   "metadata": {},
   "outputs": [],
   "source": [
    "# Walker 360\n",
    "path_s0 = 'data/idsac-walker2d-normal-iqn-neutral/idsac_walker2d_normal-iqn-neutral_2024_05_23_17_26_14_0000--s-0/progress.csv'\n",
    "path_s1 = 'data/idsac-walker2d-normal-iqn-neutral/idsac_walker2d_normal-iqn-neutral_2024_05_25_09_29_43_0000--s-1/progress.csv'\n",
    "path_s2 = 'data/idsac-walker2d-normal-iqn-neutral/idsac_walker2d_normal-iqn-neutral_2024_05_25_11_18_46_0000--s-2/progress.csv'"
   ]
  },
  {
   "cell_type": "code",
   "execution_count": null,
   "id": "09a5f615-157c-4b63-a234-0349b345da1d",
   "metadata": {},
   "outputs": [],
   "source": [
    "# Hopper 360\n",
    "path_s0 = 'data/idsac-hopper-normal-iqn-neutral/idsac_hopper_normal-iqn-neutral_2024_05_25_13_08_00_0000--s-0/progress.csv'\n",
    "path_s1 = 'data/idsac-hopper-normal-iqn-neutral/idsac_hopper_normal-iqn-neutral_2024_05_25_14_58_33_0000--s-1/progress.csv'\n",
    "path_s2 = 'data/idsac-hopper-normal-iqn-neutral/idsac_hopper_normal-iqn-neutral_2024_05_25_16_46_08_0000--s-2/progress.csv'"
   ]
  },
  {
   "cell_type": "code",
   "execution_count": null,
   "id": "b7663959-0010-44ee-9abf-7baac380d6cb",
   "metadata": {},
   "outputs": [],
   "source": [
    "# Humanoid 470\n",
    "path_s2 = 'data/idsac-humanoid-normal-iqn-neutral/idsac_humanoid_normal-iqn-neutral_2024_05_26_12_53_12_0000--s-2/progress.csv'\n",
    "path_s1 = 'data/idsac-humanoid-normal-iqn-neutral/idsac_humanoid_normal-iqn-neutral_2024_05_26_10_05_13_0000--s-1/progress.csv'\n",
    "path_s0 = 'data/idsac-humanoid-normal-iqn-neutral/idsac_humanoid_normal-iqn-neutral_2024_05_20_14_43_39_0000--s-0/progress.csv'"
   ]
  },
  {
   "cell_type": "markdown",
   "id": "f81376e9-2c48-422a-8bce-eb6737dccfc0",
   "metadata": {
    "jp-MarkdownHeadingCollapsed": true
   },
   "source": [
    "## EX1: Runs on iq venv (gym==0.25.2) with experts from (gym==0.17)"
   ]
  },
  {
   "cell_type": "markdown",
   "id": "49dc2e94-a1b6-49a8-b9d1-717fc0629ca4",
   "metadata": {},
   "source": [
    "### 1 E-4"
   ]
  },
  {
   "cell_type": "code",
   "execution_count": null,
   "id": "197d9312-9389-4712-a28d-033f4208fb33",
   "metadata": {},
   "outputs": [],
   "source": [
    "# Ant 534 402 491\n",
    "path_s0 = 'data/idsac-ant-normal-iqn-neutral/idsac_ant_normal-iqn-neutral_2024_03_22_04_46_59_0000--s-0/progress.csv'\n",
    "path_s1 = 'data/idsac-ant-normal-iqn-neutral/idsac_ant_normal-iqn-neutral_2024_04_07_08_08_46_0000--s-1/progress.csv'\n",
    "path_s2 = 'data/idsac-ant-normal-iqn-neutral/idsac_ant_normal-iqn-neutral_2024_04_08_02_56_10_0000--s-2/progress.csv'"
   ]
  },
  {
   "cell_type": "code",
   "execution_count": null,
   "id": "3558b8db-1253-4af2-9e3f-24603e0fd2f5",
   "metadata": {},
   "outputs": [],
   "source": [
    "# HalfCheetah\n",
    "path_s0 = ''\n",
    "path_s1 = ''\n",
    "path_s2 = ''"
   ]
  },
  {
   "cell_type": "code",
   "execution_count": null,
   "id": "0fd01693-d30e-43b2-bfdc-c50c1ea3e547",
   "metadata": {},
   "outputs": [],
   "source": [
    "# Walker 332 441 393\n",
    "path_s0 = 'data/idsac-walker2d-normal-iqn-neutral/idsac_walker2d_normal-iqn-neutral_2024_04_04_04_04_28_0000--s-0/progress.csv'\n",
    "path_s1 = 'data/idsac-walker2d-normal-iqn-neutral/idsac_walker2d_normal-iqn-neutral_2024_04_05_01_05_34_0000--s-1/progress.csv'\n",
    "path_s2 = 'data/idsac-walker2d-normal-iqn-neutral/idsac_walker2d_normal-iqn-neutral_2024_04_09_09_35_19_0000--s-2/progress.csv'"
   ]
  },
  {
   "cell_type": "code",
   "execution_count": null,
   "id": "2f8c1917-4067-40cb-aad9-0af7de52a8e3",
   "metadata": {},
   "outputs": [],
   "source": [
    "# Humanoid 530\n",
    "path_s0 = 'data/idsac-humanoid-normal-iqn-neutral/idsac_humanoid_normal-iqn-neutral_2024_03_23_09_30_23_0000--s-0/progress.csv'\n",
    "path_s1 = 'data/idsac-humanoid-normal-iqn-neutral/idsac_humanoid_normal-iqn-neutral_2024_04_03_03_42_01_0000--s-1/progress.csv'\n",
    "path_s2 = 'data/idsac-humanoid-normal-iqn-neutral/idsac_humanoid_normal-iqn-neutral_2024_04_13_06_20_12_0000--s-2/progress.csv'"
   ]
  },
  {
   "cell_type": "code",
   "execution_count": null,
   "id": "2cc74244-2d51-4a6d-b2cf-7124312b722c",
   "metadata": {},
   "outputs": [],
   "source": [
    "# Hopper 342 343 350\n",
    "path_s0 = 'data/idsac-hopper-normal-iqn-neutral/idsac_hopper_normal-iqn-neutral_2024_03_23_02_14_46_0000--s-0/progress.csv'\n",
    "path_s1 = 'data/idsac-hopper-normal-iqn-neutral/idsac_hopper_normal-iqn-neutral_2024_04_09_07_49_45_0000--s-1/progress.csv'\n",
    "path_s2 = 'data/idsac-hopper-normal-iqn-neutral/idsac_hopper_normal-iqn-neutral_2024_04_14_05_41_35_0000--s-2/progress.csv'"
   ]
  },
  {
   "cell_type": "markdown",
   "id": "ec50df75-3b5b-4bbd-b73f-5d294cec05a4",
   "metadata": {},
   "source": [
    "### 7.5 E-5"
   ]
  },
  {
   "cell_type": "code",
   "execution_count": null,
   "id": "3de4d415-fdcb-4539-95fd-aa8a7f560fef",
   "metadata": {},
   "outputs": [],
   "source": [
    "# Ant 390 390 390\n",
    "path_s0 = 'data/idsac-ant-normal-iqn-neutral/idsac_ant_normal-iqn-neutral_2024_04_11_07_11_42_0000--s-0/progress.csv'\n",
    "path_s1 = 'data/idsac-ant-normal-iqn-neutral/idsac_ant_normal-iqn-neutral_2024_04_11_09_11_34_0000--s-1/progress.csv'\n",
    "path_s2 = 'data/idsac-ant-normal-iqn-neutral/idsac_ant_normal-iqn-neutral_2024_04_11_11_06_44_0000--s-2/progress.csv'"
   ]
  },
  {
   "cell_type": "code",
   "execution_count": null,
   "id": "db799e9b-7b85-44a5-9a10-258dbd30e1e7",
   "metadata": {},
   "outputs": [],
   "source": [
    "# HalfCheetah 290 335 290\n",
    "path_s0 = 'data/idsac-halfcheetah-normal-iqn-neutral/idsac_halfcheetah_normal-iqn-neutral_2024_04_12_07_50_47_0000--s-0/progress.csv'\n",
    "path_s1 = 'data/idsac-halfcheetah-normal-iqn-neutral/idsac_halfcheetah_normal-iqn-neutral_2024_04_12_09_12_45_0000--s-1/progress.csv'\n",
    "path_s2 = 'data/idsac-halfcheetah-normal-iqn-neutral/idsac_halfcheetah_normal-iqn-neutral_2024_04_12_10_42_26_0000--s-2/progress.csv'"
   ]
  },
  {
   "cell_type": "code",
   "execution_count": null,
   "id": "0e741953-9dc9-41a5-8365-260b6af47f34",
   "metadata": {},
   "outputs": [],
   "source": [
    "# Walker 350, 400, 400\n",
    "path_s0 = 'data-oldy/idsac-walker2d-normal-iqn-neutral/idsac_walker2d_normal-iqn-neutral_2024_04_10_05_26_01_0000--s-0/progress.csv'\n",
    "path_s1 = 'data-oldy/idsac-walker2d-normal-iqn-neutral/idsac_walker2d_normal-iqn-neutral_2024_04_10_09_06_17_0000--s-1/progress.csv'\n",
    "path_s2 = 'data-oldy/idsac-walker2d-normal-iqn-neutral/idsac_walker2d_normal-iqn-neutral_2024_04_10_07_11_08_0000--s-2/progress.csv'"
   ]
  },
  {
   "cell_type": "code",
   "execution_count": null,
   "id": "c1c5e76d-968b-4ae3-86b9-39b2758f421a",
   "metadata": {},
   "outputs": [],
   "source": [
    "# Humanoid 530\n",
    "path_s0 = 'data/idsac-humanoid-normal-iqn-neutral/idsac_humanoid_normal-iqn-neutral_2024_03_23_09_30_23_0000--s-0/progress.csv'\n",
    "path_s1 = 'data/idsac-humanoid-normal-iqn-neutral/idsac_humanoid_normal-iqn-neutral_2024_04_03_03_42_01_0000--s-1/progress.csv'\n",
    "path_s2 = 'data/idsac-humanoid-normal-iqn-neutral/idsac_humanoid_normal-iqn-neutral_2024_04_13_06_20_12_0000--s-2/progress.csv'"
   ]
  },
  {
   "cell_type": "code",
   "execution_count": null,
   "id": "5f06e481-b967-48b5-b929-2095ec14b1d6",
   "metadata": {},
   "outputs": [],
   "source": [
    "# Hopper 274 350 350 \n",
    "path_s0 = 'data/idsac-hopper-normal-iqn-neutral/idsac_hopper_normal-iqn-neutral_2024_04_07_05_32_05_0000--s-0/progress.csv'\n",
    "path_s1 = 'data/idsac-hopper-normal-iqn-neutral/idsac_hopper_normal-iqn-neutral_2024_04_14_02_03_04_0000--s-1/progress.csv'\n",
    "path_s2 = 'data/idsac-hopper-normal-iqn-neutral/idsac_hopper_normal-iqn-neutral_2024_04_14_04_00_31_0000--s-2/progress.csv'"
   ]
  },
  {
   "cell_type": "markdown",
   "id": "a7470b25-c0a7-434a-a8c1-45cf3b5c2ce2",
   "metadata": {},
   "source": [
    "# Agg df"
   ]
  },
  {
   "cell_type": "code",
   "execution_count": 3,
   "id": "87d712b5-d7aa-4e54-9d5c-d2398a3eb227",
   "metadata": {},
   "outputs": [],
   "source": [
    "def x_runs(paths,\n",
    "           env: str,\n",
    "           d1: bool,\n",
    "           save_df=False,\n",
    "           item: str='evaluation/Returns Mean',\n",
    "          ):\n",
    "    \n",
    "    tresholds = {\n",
    "        'ant': 4700,\n",
    "        'walker': 5200,\n",
    "        'humanoid': 5300,\n",
    "        'cheetah': 5098,\n",
    "        'hopper': 3500,\n",
    "    }\n",
    "    expert_treshold = tresholds[env]\n",
    "    path_s0, path_s1, path_s2, path_s3, path_s4 = paths\n",
    "    if d1:\n",
    "        r0 = pandas.read_csv(path_s0)[item][4: 330: 5].reset_index(drop=True)\n",
    "        r1 = pandas.read_csv(path_s1)[item][4: 330: 5].reset_index(drop=True)\n",
    "        r2 = pandas.read_csv(path_s2)[item][4: 330: 5].reset_index(drop=True)\n",
    "    else:\n",
    "        r0 = pandas.read_csv(path_s0)[item][:66]\n",
    "        r1 = pandas.read_csv(path_s1)[item][:66]\n",
    "        r2 = pandas.read_csv(path_s2)[item][:66]\n",
    "        \n",
    "    r3 = pandas.read_csv(path_s3)[item][:66]\n",
    "    r4 = pandas.read_csv(path_s4)[item][:66]\n",
    "    steps = pandas.read_csv(path_s4)['replay_buffer/size'][:66] // 1000\n",
    "    data = {'r0': r0,\n",
    "           'r1': r1,\n",
    "           'r2': r2,\n",
    "           'r3': r3,\n",
    "           'r4': r4,\n",
    "           }\n",
    "    df = pandas.DataFrame(data=data)\n",
    "    if item == 'evaluation/Returns Mean':\n",
    "        df /= expert_treshold\n",
    "    df['mean'] = df.mean(axis=1)\n",
    "    df['std'] = df.std(axis=1)\n",
    "    df['steps'] = steps\n",
    "    if save_df: \n",
    "        df.to_csv(f'x-{env}-{1 if d1 else 10}.csv', index=False)\n",
    "    return df"
   ]
  },
  {
   "cell_type": "code",
   "execution_count": 4,
   "id": "34340d32-3168-486f-b82c-8129008629ce",
   "metadata": {},
   "outputs": [],
   "source": [
    "paths = (path_s0, path_s1, path_s2, path_s3, path_s4)\n",
    "df = x_runs(paths, 'hopper', d1=False, save_df=True)"
   ]
  },
  {
   "cell_type": "markdown",
   "id": "f89b89ab-7023-4ec1-866e-9ed4c1bea6bd",
   "metadata": {},
   "source": [
    "# Plot (Mu / Std)"
   ]
  },
  {
   "cell_type": "code",
   "execution_count": 19,
   "id": "5ce737af-d6b5-4094-be91-9dc1532aa7e1",
   "metadata": {},
   "outputs": [],
   "source": [
    "def plot_curves(df_path, \n",
    "                std_coef=0.5, \n",
    "                window=5,\n",
    "                alpha=0.4):\n",
    "    \n",
    "    df = pandas.read_csv(df_path)\n",
    "    steps = df['steps']\n",
    "    mean, std = df['mean'], df['std']\n",
    "    ma_mean = mean.rolling(window).mean()\n",
    "    ma_std = std.rolling(window).mean()\n",
    "    env_id = df_path.split('-')[1].capitalize()\n",
    "    \n",
    "    fig, axs = plt.subplots(1, 2, figsize=(10,3))\n",
    "    axs[0].plot(steps, ma_mean, ls='-')\n",
    "    axs[0].fill_between(x=steps, \n",
    "                     y1=(ma_mean - std_coef * ma_std), \n",
    "                     y2=(ma_mean + std_coef * ma_std),\n",
    "                     alpha=alpha)\n",
    "    axs[0].axhline(y=1, c='r', ls='--', lw=1, alpha=0.8)\n",
    "    axs[0].set_title(f\"{env_id}\")\n",
    "    axs[1].plot(steps, mean, ls='-')\n",
    "    axs[1].fill_between(x=steps, \n",
    "                     y1=(mean - std_coef * std), \n",
    "                     y2=(mean + std_coef * std), \n",
    "                     alpha=alpha)\n",
    "    axs[1].axhline(y=1, c='r', ls='--', lw=1, alpha=0.8)\n",
    "    axs[1].set_title(f\"{env_id}\")\n",
    "\n",
    "    plt.show()"
   ]
  },
  {
   "cell_type": "code",
   "execution_count": 20,
   "id": "77c7c6a7-183c-4408-925d-a388c1b6c902",
   "metadata": {},
   "outputs": [
    {
     "data": {
      "image/png": "[encoded data removed]",
      "text/plain": [
       "<Figure size 1000x300 with 2 Axes>"
      ]
     },
     "metadata": {},
     "output_type": "display_data"
    }
   ],
   "source": [
    "plot_curves('x-hopper-10.csv')"
   ]
  },
  {
   "cell_type": "markdown",
   "id": "7d8b5fb0-f341-46b7-a1ff-a86690deca42",
   "metadata": {},
   "source": [
    "# Plot Lines"
   ]
  },
  {
   "cell_type": "code",
   "execution_count": 8,
   "id": "f55a8e38-c6e6-4cb0-b21a-d0a04784f5a1",
   "metadata": {},
   "outputs": [],
   "source": [
    "def plot_lines(df_path, \n",
    "                window=5,\n",
    "              ):\n",
    "\n",
    "    df = pandas.read_csv(df_path)\n",
    "    steps = df[\"steps\"]\n",
    "    env_id = df_path.split('-')[1].capitalize()\n",
    "    fig, axs = plt.subplots(1, 2, figsize=(10,3))\n",
    "    \n",
    "    for i in range(5):\n",
    "        r = df[f\"r{i}\"].rolling(window).mean()\n",
    "        axs[0].plot(steps, r)\n",
    "    axs[0].axhline(y=1, c='r', ls='--', lw=1, alpha=0.8)\n",
    "    axs[0].set_title(f\"{env_id}\")\n",
    "\n",
    "    for i in range(5):\n",
    "        axs[1].plot(steps, df[f\"r{i}\"])\n",
    "    axs[1].axhline(y=1, c='r', ls='--', lw=1, alpha=0.8)\n",
    "    axs[1].set_title(f\"{env_id}\")\n",
    "\n",
    "    plt.show()"
   ]
  },
  {
   "cell_type": "code",
   "execution_count": 9,
   "id": "e038826f-8ac4-4cc9-96f7-b726ed9c2406",
   "metadata": {},
   "outputs": [
    {
     "data": {
      "image/png": "[encoded data removed]",
      "text/plain": [
       "<Figure size 1000x300 with 2 Axes>"
      ]
     },
     "metadata": {},
     "output_type": "display_data"
    }
   ],
   "source": [
    "plot_lines('x-hopper-10.csv')"
   ]
  },
  {
   "cell_type": "markdown",
   "id": "b311f94f-4759-4c56-a8e6-4b82bc13f5e5",
   "metadata": {},
   "source": [
    "# XYZ (Mu / Std)"
   ]
  },
  {
   "cell_type": "code",
   "execution_count": 10,
   "id": "f2cf14ba-1c74-4ea3-b5f2-67f9d0a5894c",
   "metadata": {},
   "outputs": [],
   "source": [
    "def plot_extra(paths,\n",
    "            env_id,\n",
    "            title,\n",
    "            item='evaluation/Returns Mean',\n",
    "            d1=True,\n",
    "            std_coef=0.5, \n",
    "            window=5,\n",
    "            alpha=0.4):\n",
    "    \n",
    "    path_s0, path_s1, path_s2, path_s3, path_s4 = paths\n",
    "    df = x_runs(paths, env_id, d1=d1, save_df=False, item=item) \n",
    "    steps, mean, std = df[\"steps\"], df[\"mean\"], df[\"std\"]\n",
    "    \n",
    "    ma_mean = mean.rolling(window).mean()\n",
    "    ma_std = std.rolling(window).mean()\n",
    "\n",
    "    plt.rcParams[\"figure.figsize\"] = (5,3)\n",
    "    plt.plot(steps, ma_mean, ls='-')\n",
    "    plt.fill_between(x=steps, \n",
    "                     y1=(ma_mean - std_coef * ma_std), \n",
    "                     y2=(ma_mean + std_coef * ma_std),\n",
    "                     alpha=alpha)\n",
    "    plt.title(f\"{env_id.capitalize()} | {title}\")\n",
    "    plt.show()"
   ]
  },
  {
   "cell_type": "code",
   "execution_count": 11,
   "id": "ffdc353e-f6ba-4c42-92af-bea909e6948a",
   "metadata": {},
   "outputs": [
    {
     "data": {
      "image/png": "[encoded data removed]",
      "text/plain": [
       "<Figure size 500x300 with 1 Axes>"
      ]
     },
     "metadata": {},
     "output_type": "display_data"
    }
   ],
   "source": [
    "paths = (path_s0, path_s1, path_s2, path_s3, path_s4)\n",
    "plot_extra(paths, \"hopper\", title='Z Estimation', item='evaluation/EB/Q_Pred Mean', d1=False)"
   ]
  },
  {
   "cell_type": "code",
   "execution_count": 12,
   "id": "1d214317-3510-4618-b56e-d32727ac981f",
   "metadata": {},
   "outputs": [
    {
     "data": {
      "image/png": "[encoded data removed]",
      "text/plain": [
       "<Figure size 500x300 with 1 Axes>"
      ]
     },
     "metadata": {},
     "output_type": "display_data"
    }
   ],
   "source": [
    "paths = (path_s0, path_s1, path_s2, path_s3, path_s4)\n",
    "plot_extra(paths, \"hopper\", title='b value', item='trainer/Bias Value', d1=False)"
   ]
  },
  {
   "cell_type": "markdown",
   "id": "717ac4f7-3e48-4598-a10f-6042bbec5414",
   "metadata": {
    "jp-MarkdownHeadingCollapsed": true
   },
   "source": [
    "# Plot (Mu / conf)"
   ]
  },
  {
   "cell_type": "code",
   "execution_count": null,
   "id": "b4252ea4-5b31-4821-a555-99495b444b88",
   "metadata": {},
   "outputs": [],
   "source": [
    "def plot_curves(paths, \n",
    "                env_id, \n",
    "                max_iter,\n",
    "                window=10,\n",
    "                alpha=0.4):\n",
    "\n",
    "    tresholds = {\n",
    "        'Ant': 4500,\n",
    "        'Walker': 5000,\n",
    "        'Humanoid': 5000,\n",
    "        'HalfCheetah': 5000,\n",
    "        'Hopper': 3500,\n",
    "    }\n",
    "    expert_treshold = tresholds[env_id]\n",
    "    \n",
    "    path_s0, path_s1, path_s2 = paths\n",
    "    def df_util(path, returns=True):\n",
    "        df = pandas.read_csv(path)[:max_iter]\n",
    "        if returns:\n",
    "            return df['evaluation/Returns Mean'].to_numpy()\n",
    "        else:\n",
    "            return df['replay_buffer/size'].to_numpy()\n",
    "\n",
    "    r0 = df_util(path_s0)\n",
    "    r1 = df_util(path_s1)\n",
    "    r2 = df_util(path_s2)\n",
    "    steps = df_util(path_s0, returns=False) // 1000\n",
    "    returns = np.zeros((max_iter, 3))\n",
    "    returns[:, 0] = r0\n",
    "    returns[:, 1] = r1\n",
    "    returns[:, 2] = r2\n",
    "    r_mean = returns.mean(axis=1)\n",
    "\n",
    "    se = st.sem(returns, axis=1)\n",
    "    _, conf = st.t.interval(0.95, max_iter-1, scale=se)\n",
    "\n",
    "    fig, axs = plt.subplots(1, 2, figsize=(13, 4))\n",
    "    \n",
    "    ma_r_mean = pandas.Series(r_mean).rolling(window).mean().to_numpy()\n",
    "    ma_r_conf = pandas.Series(conf).rolling(window).mean().to_numpy()\n",
    "    \n",
    "    axs[0].plot(steps, ma_r_mean, ls='-')\n",
    "    axs[0].fill_between(x=steps, \n",
    "                         y1=(ma_r_mean - ma_r_conf), \n",
    "                         y2=(ma_r_mean + ma_r_conf),\n",
    "                         alpha=alpha)\n",
    "    axs[0].axhline(y=expert_treshold, c='k', ls='--', lw=1, alpha=0.8)\n",
    "    axs[0].set_title(f\"{env_id}-v2  (mu +/- %95 conf, rolling={window})\")\n",
    "\n",
    "    axs[1].plot(steps, r_mean, ls='-')\n",
    "    axs[1].fill_between(x=steps, \n",
    "                         y1=(r_mean - conf), \n",
    "                         y2=(r_mean + conf), \n",
    "                         alpha=alpha)\n",
    "    axs[1].axhline(y=expert_treshold, c='k', ls='--', lw=1, alpha=0.8)\n",
    "    axs[1].set_title(f\"{env_id}-v2  (mu +/- %95 conf)\")\n",
    "\n",
    "    # plt.tight_layout()\n",
    "    plt.show()"
   ]
  },
  {
   "cell_type": "code",
   "execution_count": null,
   "id": "2a219139-92d2-4ce1-b410-56696d25e227",
   "metadata": {},
   "outputs": [],
   "source": [
    "paths = (path_s0, path_s1, path_s2)\n",
    "plot_curves(paths, 'HalfCheetah', 330, window=10)"
   ]
  },
  {
   "cell_type": "markdown",
   "id": "9824faf8-de5d-4505-91a9-3941ea545606",
   "metadata": {
    "jp-MarkdownHeadingCollapsed": true
   },
   "source": [
    "# extra"
   ]
  },
  {
   "cell_type": "markdown",
   "id": "af322d76-360e-454c-a0a4-715ad72b30c7",
   "metadata": {},
   "source": [
    "## not important"
   ]
  },
  {
   "cell_type": "code",
   "execution_count": null,
   "id": "e1c32ab1-66ee-409c-b75b-11ecf8eeb164",
   "metadata": {},
   "outputs": [],
   "source": [
    "def plot_lines(paths, \n",
    "                env_id, \n",
    "                expert_treshold, \n",
    "                max_iter,\n",
    "                std_coef=0.5,\n",
    "                rolling=False, \n",
    "                window=20):\n",
    "    \n",
    "    path_s0, path_s1, path_s2 = paths\n",
    "    def df_util(path, returns=True):\n",
    "        df = pandas.read_csv(path)[:max_iter]\n",
    "        if returns:\n",
    "            return df['evaluation/Returns Mean']\n",
    "        else:\n",
    "            return df['replay_buffer/size']\n",
    "\n",
    "    r0 = df_util(path_s0)\n",
    "    r1 = df_util(path_s1)\n",
    "    r2 = df_util(path_s2)\n",
    "    steps = df_util(path_s0, returns=False) // 1000\n",
    "    \n",
    "    colors = ['b', 'r', 'g']\n",
    "    fig, axs = plt.subplots(1, 3)\n",
    "    \n",
    "    if rolling:\n",
    "        for i, r in enumerate([r0, r1, r2]):\n",
    "            r = r.rolling(window).mean()\n",
    "            axs[i].plot(steps, r, color=colors[i])\n",
    "            axs[i].axhline(y=expert_treshold, c='b', ls='--', lw=1, alpha=0.8)\n",
    "            axs[i].set_title(f'seed={i}')\n",
    "        fig.suptitle(f\"{env_id}-v2  (mu+/-{std_coef} std, rolling={window})\")\n",
    "    else:\n",
    "        for i, r in enumerate([r0, r1, r2]):\n",
    "            r = r.rolling(window).mean()\n",
    "            axs[i].plot(steps, r, color=colors[i])\n",
    "            axs[i].set_title(f'seed={i}')\n",
    "        fig.suptitle(f\"{env_id}-v2  (mu+/-{std_coef} std)\")\n",
    "        \n",
    "    plt.show()"
   ]
  },
  {
   "cell_type": "code",
   "execution_count": null,
   "id": "725ebe0f-4b89-4adc-a3ed-8bc1041173f3",
   "metadata": {},
   "outputs": [],
   "source": [
    "paths = (path_s0, path_s1, path_s2)\n",
    "plot_lines(paths, 'Walker', 5000, 300, std_coef=0.5, rolling=False, window=10)\n",
    "plot_lines(paths, 'Walker', 5000, 300, std_coef=0.5, rolling=True, window=10)"
   ]
  },
  {
   "cell_type": "code",
   "execution_count": null,
   "id": "708d9744-2a38-4bb9-9640-08ba82a4c681",
   "metadata": {},
   "outputs": [],
   "source": [
    "def plot_curves(paths, \n",
    "                env_id, \n",
    "                max_iter,\n",
    "                item='evaluation/Returns Mean',\n",
    "                std_coef=0.5, \n",
    "                window=10,\n",
    "                alpha=0.4):\n",
    "\n",
    "    tresholds = {\n",
    "        'Ant': 4500,\n",
    "        'Walker': 5000,\n",
    "        'Humanoid': 5000,\n",
    "        'HalfCheetah': 5000,\n",
    "        'Hopper': 3500,\n",
    "    }\n",
    "    expert_treshold = tresholds[env_id]\n",
    "    \n",
    "    # path_s0, path_s1, path_s2 = paths\n",
    "    path_s0, path_s1, path_s2, path_s3, path_s4 = paths\n",
    "    def df_util(path, is_steps=False):\n",
    "        df = pandas.read_csv(path)[:max_iter]\n",
    "        if not is_steps:\n",
    "            return df[item].to_numpy()\n",
    "        else:\n",
    "            return df['replay_buffer/size'].to_numpy()\n",
    "\n",
    "    r0 = df_util(path_s0)\n",
    "    r1 = df_util(path_s1)\n",
    "    r2 = df_util(path_s2)\n",
    "    r3 = df_util(path_s3)\n",
    "    r4 = df_util(path_s4)\n",
    "    steps = df_util(path_s0, is_steps=True) // 1000\n",
    "    data = np.zeros((max_iter, 5))\n",
    "    data[:, 0] = r0\n",
    "    data[:, 1] = r1\n",
    "    data[:, 2] = r2\n",
    "    data[:, 3] = r3\n",
    "    data[:, 4] = r4\n",
    "    mean = data.mean(axis=1)\n",
    "    std = data.std(axis=1)\n",
    "\n",
    "    fig, axs = plt.subplots(1, 2, figsize=(13, 4))\n",
    "    \n",
    "    ma_mean = pandas.Series(mean).rolling(window).mean().to_numpy()\n",
    "    ma_std = pandas.Series(std).rolling(window).mean().to_numpy()\n",
    "    axs[0].plot(steps, ma_mean, ls='-')\n",
    "    axs[0].fill_between(x=steps, \n",
    "                     y1=(ma_mean - std_coef * ma_std), \n",
    "                     y2=(ma_mean + std_coef * ma_std),\n",
    "                     alpha=alpha)\n",
    "    axs[0].axhline(y=expert_treshold, c='k', ls='--', lw=1, alpha=0.8)\n",
    "    axs[0].set_title(f\"{env_id}-v2  (mu+/-{std_coef} std, rolling={window})\")\n",
    "\n",
    "    axs[1].plot(steps, mean, ls='-')\n",
    "    axs[1].fill_between(x=steps, \n",
    "                     y1=(mean - std_coef * std), \n",
    "                     y2=(mean + std_coef * std), \n",
    "                     alpha=alpha)\n",
    "    axs[1].axhline(y=expert_treshold, c='k', ls='--', lw=1, alpha=0.8)\n",
    "    axs[1].set_title(f\"{env_id}-v2  (mu+/-{std_coef} std)\")\n",
    "\n",
    "    plt.show()\n",
    "    \n",
    "paths = (path_s0, path_s1, path_s2, path_s3, path_s4)\n",
    "plot_curves(paths, 'Walker', 68, std_coef=0.5, window=5)"
   ]
  },
  {
   "cell_type": "markdown",
   "id": "bb59aa4a-65d7-431d-8141-544f4d422363",
   "metadata": {
    "jp-MarkdownHeadingCollapsed": true
   },
   "source": [
    "## rolling mean"
   ]
  },
  {
   "cell_type": "code",
   "execution_count": null,
   "id": "25d18185-ecaf-40a2-ae59-0f70025b43c4",
   "metadata": {},
   "outputs": [],
   "source": [
    "def create_df(path_s0, path_s1, path_s2, max_iter):\n",
    "    s0 = pandas.read_csv(path_s0)[:max_iter]\n",
    "    s1 = pandas.read_csv(path_s1)[:max_iter]\n",
    "    s2 = pandas.read_csv(path_s2)[:max_iter]\n",
    "    r0 = s0['evaluation/Returns Mean']\n",
    "    r1 = s1['evaluation/Returns Mean']\n",
    "    r2 = s2['evaluation/Returns Mean']\n",
    "    steps = s0['replay_buffer/size']\n",
    "    \n",
    "    def util(data, seed, steps, window=10):\n",
    "        df = pandas.DataFrame(data)\n",
    "        df.columns = ['Returns']\n",
    "        df['Moving Returns'] = df['Returns'].rolling(window=window).mean()\n",
    "        df.bfill(inplace=True)\n",
    "        df['Seed'] = seed\n",
    "        df.index = steps\n",
    "        df.index.name = 'Steps'\n",
    "        return df\n",
    "        \n",
    "    r0 = util(r0, 0, steps)\n",
    "    r1 = util(r1, 1, steps)\n",
    "    r2 = util(r2, 2, steps)\n",
    "    df = pandas.concat([r0, r1, r2], ignore_index=False)\n",
    "    return df\n",
    "    \n",
    "df = create_df(path_s0, path_s1, path_s2, max_iter=300)\n",
    "df = df.drop(['Returns'], axis=1)"
   ]
  },
  {
   "cell_type": "code",
   "execution_count": null,
   "id": "a13fdaa2-aeae-46ef-9385-d8d689aa9adc",
   "metadata": {},
   "outputs": [],
   "source": [
    "def plotty_ma(df, env_name, error_name, treshold):\n",
    "    error_val = 95 if error_name == 'ci' else 0.5\n",
    "    fig, ax = plt.subplots()\n",
    "    sns.lineplot(data=df, x='Steps', y='Moving Returns', errorbar=(error_name, error_val), label='ours', ax=ax)\n",
    "    ax.axhline(treshold, ls='--', c='red', label='expert')\n",
    "    ax.ticklabel_format(style='scientific', scilimits=(3,3), axis='both', useMathText=True)\n",
    "    ax.legend(loc='lower right')\n",
    "    plt.title(f'{env_name} ({error_name} {error_val} | window=5)')\n",
    "    ax.set_xlabel('Steps')\n",
    "    ax.set_ylabel('Returns')\n",
    "    # plt.savefig()\n",
    "    plt.show()"
   ]
  },
  {
   "cell_type": "code",
   "execution_count": null,
   "id": "07868008-d3d8-4869-b707-835550d756cf",
   "metadata": {},
   "outputs": [],
   "source": [
    "plotty_ma(df, 'Walker', 'ci', 5000)\n",
    "plotty_ma(df, 'Walker', 'sd', 5000)"
   ]
  },
  {
   "cell_type": "markdown",
   "id": "f4beadaf-0312-4300-8118-e536b649780e",
   "metadata": {
    "jp-MarkdownHeadingCollapsed": true
   },
   "source": [
    "## mean"
   ]
  },
  {
   "cell_type": "code",
   "execution_count": null,
   "id": "a9b3c9c2-8bf2-4997-b429-55bbf18f3aa7",
   "metadata": {},
   "outputs": [],
   "source": [
    "def create_df(path_s0, path_s1, path_s2, max_iter):\n",
    "    s0 = pandas.read_csv(path_s0)[:max_iter]\n",
    "    s1 = pandas.read_csv(path_s1)[:max_iter]\n",
    "    s2 = pandas.read_csv(path_s2)[:max_iter]\n",
    "    r0 = s0['evaluation/Returns Mean']\n",
    "    r1 = s1['evaluation/Returns Mean']\n",
    "    r2 = s2['evaluation/Returns Mean']\n",
    "    steps = s0['replay_buffer/size']\n",
    "    \n",
    "    def util(data, seed, steps):\n",
    "        df = pandas.DataFrame(data)\n",
    "        df.columns = ['Returns']\n",
    "        df['Seed'] = seed\n",
    "        df.index = steps\n",
    "        df.index.name = 'Steps'\n",
    "        return df\n",
    "        \n",
    "    r0 = util(r0, 0, steps)\n",
    "    r1 = util(r1, 1, steps)\n",
    "    r2 = util(r2, 2, steps)\n",
    "    df = pandas.concat([r0, r1, r2], ignore_index=False)\n",
    "    return df\n",
    "    \n",
    "df = create_df(path_s0, path_s1, path_s2, max_iter=300)"
   ]
  },
  {
   "cell_type": "code",
   "execution_count": null,
   "id": "997a0236-78f7-445f-ba86-03739cd0e86a",
   "metadata": {},
   "outputs": [],
   "source": [
    "def plotty(df, env_name, error_name, treshold):\n",
    "    error_val = 95 if error_name == 'ci' else 0.5\n",
    "    fig, ax = plt.subplots()\n",
    "    sns.lineplot(data=df, x='Steps', y='Returns', errorbar=(error_name, error_val), label='ours', ax=ax)\n",
    "    ax.axhline(treshold, ls='--', c='red', label='expert')\n",
    "    ax.ticklabel_format(style='scientific', scilimits=(3,3), axis='both', useMathText=True)\n",
    "    ax.legend(loc='lower right')\n",
    "    plt.title(f'{env_name} ({error_name} {error_val})')\n",
    "    ax.set_xlabel('Steps')\n",
    "    ax.set_ylabel('Returns')\n",
    "    # plt.savefig()\n",
    "    plt.show()"
   ]
  },
  {
   "cell_type": "code",
   "execution_count": null,
   "id": "9c3b0648-5f8d-47d4-a087-5bee062965e8",
   "metadata": {},
   "outputs": [],
   "source": [
    "plotty(df, 'Walker', 'ci', 5000)\n",
    "plotty(df, 'Walker', 'sd', 5000)"
   ]
  },
  {
   "cell_type": "code",
   "execution_count": null,
   "id": "2008fba9-5343-47df-9061-4d0452399c19",
   "metadata": {},
   "outputs": [],
   "source": []
  },
  {
   "cell_type": "code",
   "execution_count": null,
   "id": "19a36719-c71f-4ab6-adea-14185cd2c5cd",
   "metadata": {},
   "outputs": [],
   "source": [
    "def plot_curves(paths, \n",
    "                env_id, \n",
    "                max_iter,\n",
    "                std_coef=0.5,\n",
    "                rolling=False, \n",
    "                window=20):\n",
    "\n",
    "    tresholds = {\n",
    "        'Ant': 4500,\n",
    "        'Walker': 5000,\n",
    "        'Humanoid': 5000,\n",
    "        'HalfCheetah': 5000,\n",
    "        'Hopper': 3500,\n",
    "    }\n",
    "    expert_treshold = tresholds[env_id]\n",
    "    \n",
    "    path_s0, path_s1, path_s2 = paths\n",
    "    def df_util(path, returns=True):\n",
    "        df = pandas.read_csv(path)[:max_iter]\n",
    "        if returns:\n",
    "            return df['evaluation/Returns Mean'].to_numpy()\n",
    "        else:\n",
    "            return df['replay_buffer/size'].to_numpy()\n",
    "\n",
    "    r0 = df_util(path_s0)\n",
    "    r1 = df_util(path_s1)\n",
    "    r2 = df_util(path_s2)\n",
    "    steps = df_util(path_s0, returns=False) // 1000\n",
    "    returns = np.zeros((max_iter, 3))\n",
    "    returns[:, 0] = r0\n",
    "    returns[:, 1] = r1\n",
    "    returns[:, 2] = r2\n",
    "    r_mean = returns.mean(axis=1)\n",
    "    r_std = returns.std(axis=1)\n",
    "\n",
    "    if rolling:\n",
    "        ma_r_mean = pandas.Series(r_mean).rolling(window).mean().to_numpy()\n",
    "        ma_r_std = pandas.Series(r_std).rolling(window).mean().to_numpy()\n",
    "        plt.plot(steps, ma_r_mean, label='iDSAC')\n",
    "        plt.fill_between(x=steps, \n",
    "                         y1=(ma_r_mean - std_coef * ma_r_std), \n",
    "                         y2=(ma_r_mean + std_coef * ma_r_std), \n",
    "                         alpha=0.2)\n",
    "        plt.title(f\"{env_id}-v2  (mu+/-{std_coef} std, rolling={window})\")\n",
    "        # plt.xlim(5 + window, 10 + max_iter)\n",
    "    else:\n",
    "        plt.plot(steps, r_mean, label='iDSAC')\n",
    "        plt.fill_between(x=steps, \n",
    "                         y1=(r_mean - std_coef * r_std), \n",
    "                         y2=(r_mean + std_coef * r_std), \n",
    "                         alpha=0.2)\n",
    "        plt.title(f\"{env_id}-v2  (mu+/-{std_coef} std)\")\n",
    "        # plt.xlim(5, 10 + max_iter)\n",
    "        \n",
    "    plt.axhline(y=expert_treshold, c='r', ls='--', lw=1, alpha=0.8, label='expert')\n",
    "    plt.legend(loc='lower right')\n",
    "    plt.xlabel(\"Steps (1k)\")\n",
    "    plt.ylabel(\"Episode Rewards\")\n",
    "    plt.tight_layout()\n",
    "    plt.show()"
   ]
  },
  {
   "cell_type": "code",
   "execution_count": null,
   "id": "1afd8633-adc3-49cb-bffe-b85daec6fac8",
   "metadata": {},
   "outputs": [],
   "source": [
    "def plot_lines(paths, \n",
    "                env_id, \n",
    "                max_iter,\n",
    "                std_coef=0.5,\n",
    "                rolling=False, \n",
    "                window=20):\n",
    "\n",
    "    tresholds = {\n",
    "        'Ant': 4500,\n",
    "        'Walker': 5000,\n",
    "        'Humanoid': 5000,\n",
    "        'HalfCheetah': 5000,\n",
    "        'Hopper': 3500,\n",
    "    }\n",
    "    expert_treshold = tresholds[env_id]\n",
    "    \n",
    "    path_s0, path_s1, path_s2 = paths\n",
    "    def df_util(path, returns=True):\n",
    "        df = pandas.read_csv(path)[:max_iter]\n",
    "        if returns:\n",
    "            return df['evaluation/Returns Mean']\n",
    "        else:\n",
    "            return df['replay_buffer/size']\n",
    "\n",
    "    r0 = df_util(path_s0)\n",
    "    r1 = df_util(path_s1)\n",
    "    r2 = df_util(path_s2)\n",
    "    steps = df_util(path_s0, returns=False) // 1000\n",
    "    \n",
    "    colors = ['b', 'r', 'g']\n",
    "    \n",
    "    if rolling:\n",
    "        for i, r in enumerate([r0, r1, r2]):\n",
    "            r = r.rolling(window).mean()\n",
    "            plt.plot(steps, r, color=colors[i])\n",
    "        plt.axhline(y=expert_treshold, c='k', ls='--', lw=1, alpha=0.8)\n",
    "        plt.title(f\"{env_id}-v2 , rolling={window})\")\n",
    "    else:\n",
    "        for i, r in enumerate([r0, r1, r2]):\n",
    "            plt.plot(steps, r, color=colors[i])\n",
    "        plt.axhline(y=expert_treshold, c='k', ls='--', lw=1, alpha=0.8)\n",
    "        plt.title(f\"{env_id}-v2\")\n",
    "        \n",
    "    plt.show()\n",
    "    plt.close()"
   ]
  },
  {
   "cell_type": "code",
   "execution_count": null,
   "id": "aacc79db-2871-4d37-b009-31671684c602",
   "metadata": {},
   "outputs": [],
   "source": []
  },
  {
   "cell_type": "code",
   "execution_count": null,
   "id": "6ccf2a53-89f7-44bc-9acb-b314cd3a2d95",
   "metadata": {},
   "outputs": [],
   "source": []
  }
 ],
 "metadata": {
  "kernelspec": {
   "display_name": "Python 3 (ipykernel)",
   "language": "python",
   "name": "python3"
  },
  "language_info": {
   "codemirror_mode": {
    "name": "ipython",
    "version": 3
   },
   "file_extension": ".py",
   "mimetype": "text/x-python",
   "name": "python",
   "nbconvert_exporter": "python",
   "pygments_lexer": "ipython3",
   "version": "3.10.12"
  }
 },
 "nbformat": 4,
 "nbformat_minor": 5
}
