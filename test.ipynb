{
 "cells": [
  {
   "cell_type": "code",
   "execution_count": null,
   "id": "b1c78bd7-bf83-4e64-9e83-09956907c71f",
   "metadata": {},
   "outputs": [],
   "source": [
    "!python train.py --env hopper --seed 3"
   ]
  },
  {
   "cell_type": "code",
   "execution_count": null,
   "id": "da6fffc5-1282-494b-b395-f41eab911c39",
   "metadata": {},
   "outputs": [],
   "source": []
  }
 ],
 "metadata": {
  "kernelspec": {
   "display_name": "Python 3 (ipykernel)",
   "language": "python",
   "name": "python3"
  },
  "language_info": {
   "codemirror_mode": {
    "name": "ipython",
    "version": 3
   },
   "file_extension": ".py",
   "mimetype": "text/x-python",
   "name": "python",
   "nbconvert_exporter": "python",
   "pygments_lexer": "ipython3",
   "version": "3.10.12"
  }
 },
 "nbformat": 4,
 "nbformat_minor": 5
}
