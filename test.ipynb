{
 "cells": [
  {
   "cell_type": "code",
   "execution_count": null,
   "id": "a2a22df2-4c70-4b60-bf69-b0255c03a86f",
   "metadata": {},
   "outputs": [],
   "source": [
    "!python train.py --env ant --demos 10 --loss 'value' --alpha 0.2 --seed 0"
   ]
  },
  {
   "cell_type": "code",
   "execution_count": null,
   "id": "717530df-49e2-49cd-832f-db8ecee18e44",
   "metadata": {},
   "outputs": [],
   "source": []
  }
 ],
 "metadata": {
  "kernelspec": {
   "display_name": "Python 3 (ipykernel)",
   "language": "python",
   "name": "python3"
  },
  "language_info": {
   "codemirror_mode": {
    "name": "ipython",
    "version": 3
   },
   "file_extension": ".py",
   "mimetype": "text/x-python",
   "name": "python",
   "nbconvert_exporter": "python",
   "pygments_lexer": "ipython3",
   "version": "3.10.12"
  }
 },
 "nbformat": 4,
 "nbformat_minor": 5
}
