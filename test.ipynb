{
 "cells": [
  {
   "cell_type": "code",
   "execution_count": null,
   "id": "75a9c731-2af3-4b54-a569-077501b999ab",
   "metadata": {},
   "outputs": [],
   "source": [
    "!python train.py --env ant --loss 'value' --alpha 0.01 --regularize 'TD_both' --reward_type 'noise' --noise_std 1.0 --sparse_prob 0.5 --sparse_type '' --seed 0"
   ]
  },
  {
   "cell_type": "code",
   "execution_count": null,
   "id": "d464bb5d-57e4-46a6-9246-beec24ae3179",
   "metadata": {},
   "outputs": [],
   "source": []
  }
 ],
 "metadata": {
  "kernelspec": {
   "display_name": "Python 3 (ipykernel)",
   "language": "python",
   "name": "python3"
  },
  "language_info": {
   "codemirror_mode": {
    "name": "ipython",
    "version": 3
   },
   "file_extension": ".py",
   "mimetype": "text/x-python",
   "name": "python",
   "nbconvert_exporter": "python",
   "pygments_lexer": "ipython3",
   "version": "3.10.12"
  }
 },
 "nbformat": 4,
 "nbformat_minor": 5
}
