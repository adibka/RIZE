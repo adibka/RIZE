{
 "cells": [
  {
   "cell_type": "code",
   "execution_count": null,
   "id": "95ecfecf-0fda-4847-a8c9-3a04acdb5d7a",
   "metadata": {},
   "outputs": [],
   "source": [
    "!python train.py --env ant --loss 'value' --alpha 0.01 --regularize 'TD_policy' --reward_type 'sparse' --noise_std 1.0 --sparse_prob 0.5 --sparse_type 'empty' --seed 0"
   ]
  },
  {
   "cell_type": "code",
   "execution_count": null,
   "id": "82e0913d-3149-472a-8496-869775ffddd7",
   "metadata": {},
   "outputs": [],
   "source": []
  }
 ],
 "metadata": {
  "kernelspec": {
   "display_name": "Python 3 (ipykernel)",
   "language": "python",
   "name": "python3"
  },
  "language_info": {
   "codemirror_mode": {
    "name": "ipython",
    "version": 3
   },
   "file_extension": ".py",
   "mimetype": "text/x-python",
   "name": "python",
   "nbconvert_exporter": "python",
   "pygments_lexer": "ipython3",
   "version": "3.10.12"
  }
 },
 "nbformat": 4,
 "nbformat_minor": 5
}
