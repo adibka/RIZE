{
 "cells": [
  {
   "cell_type": "code",
   "execution_count": 1,
   "id": "996f2d9d-68b9-46c0-9a2e-2235eda079a7",
   "metadata": {},
   "outputs": [],
   "source": [
    "from pathlib import Path\n",
    "import shutil"
   ]
  },
  {
   "cell_type": "code",
   "execution_count": 2,
   "id": "2343648d-a6cf-48c1-9099-e5090ea386f2",
   "metadata": {},
   "outputs": [
    {
     "name": "stdout",
     "output_type": "stream",
     "text": [
      "/home/eddie/Quantile_DSAC\n"
     ]
    }
   ],
   "source": [
    "base_path = Path.cwd()\n",
    "print(base_path)"
   ]
  },
  {
   "cell_type": "code",
   "execution_count": 3,
   "id": "24a65264-bf8a-4b21-97aa-066da33ce35f",
   "metadata": {},
   "outputs": [
    {
     "name": "stdout",
     "output_type": "stream",
     "text": [
      "/home/eddie/Quantile_DSAC/data_x\n"
     ]
    }
   ],
   "source": [
    "data_path = base_path.joinpath('data_x')\n",
    "print(data_path)"
   ]
  },
  {
   "cell_type": "code",
   "execution_count": 4,
   "id": "a2f54209-d8df-4099-9301-a96336121650",
   "metadata": {},
   "outputs": [
    {
     "name": "stdout",
     "output_type": "stream",
     "text": [
      "/home/eddie/Quantile_DSAC/temp\n"
     ]
    }
   ],
   "source": [
    "dest_path = base_path.joinpath('temp')\n",
    "print(dest_path)\n",
    "dest_path.mkdir()"
   ]
  },
  {
   "cell_type": "code",
   "execution_count": 5,
   "id": "795e6b76-295a-4bb1-aef3-a8601e07a6be",
   "metadata": {},
   "outputs": [],
   "source": [
    "ENV = ['ant', 'halfcheetah', 'walker2d', 'humanoid', 'hopper']"
   ]
  },
  {
   "cell_type": "code",
   "execution_count": 6,
   "id": "36f1639c-227f-4103-b4af-1af0eb66bcc8",
   "metadata": {},
   "outputs": [
    {
     "name": "stdout",
     "output_type": "stream",
     "text": [
      "/home/eddie/Quantile_DSAC/temp/ant\n",
      "/home/eddie/Quantile_DSAC/temp/halfcheetah\n",
      "/home/eddie/Quantile_DSAC/temp/walker2d\n",
      "/home/eddie/Quantile_DSAC/temp/humanoid\n",
      "/home/eddie/Quantile_DSAC/temp/hopper\n"
     ]
    }
   ],
   "source": [
    "for env in ENV:\n",
    "    out_folder = dest_path.joinpath(env)\n",
    "    out_folder.mkdir()\n",
    "    print(out_folder)"
   ]
  },
  {
   "cell_type": "code",
   "execution_count": 7,
   "id": "76557c6b-3e2d-4950-b089-6346a78fb147",
   "metadata": {},
   "outputs": [],
   "source": [
    "for p in data_path.iterdir():\n",
    "    for b in p.iterdir():\n",
    "        env_id = b.name.split('_')[0]\n",
    "        date = b.name.split('_')[1:]\n",
    "        date = \"_\".join(date)\n",
    "        \n",
    "        for c in b.iterdir():\n",
    "            if c.name == 'progress.csv':\n",
    "                out_file = dest_path.joinpath(env_id, f\"{date}.csv\")\n",
    "                shutil.copy(c, out_file)\n",
    "            \n",
    "            elif c.name == 'variant.json':\n",
    "                out_file = dest_path.joinpath(env_id, f\"variant_{date}.json\")\n",
    "                shutil.copy(c, out_file)"
   ]
  },
  {
   "cell_type": "code",
   "execution_count": null,
   "id": "e7321151-6efc-427c-ad54-8a8dda9aeea2",
   "metadata": {},
   "outputs": [],
   "source": []
  }
 ],
 "metadata": {
  "kernelspec": {
   "display_name": "Python 3 (ipykernel)",
   "language": "python",
   "name": "python3"
  },
  "language_info": {
   "codemirror_mode": {
    "name": "ipython",
    "version": 3
   },
   "file_extension": ".py",
   "mimetype": "text/x-python",
   "name": "python",
   "nbconvert_exporter": "python",
   "pygments_lexer": "ipython3",
   "version": "3.10.12"
  }
 },
 "nbformat": 4,
 "nbformat_minor": 5
}
