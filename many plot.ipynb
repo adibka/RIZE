{
 "cells": [
  {
   "cell_type": "code",
   "execution_count": 1,
   "id": "426f1356-7cf4-443e-a081-a3dcb7b5be01",
   "metadata": {},
   "outputs": [],
   "source": [
    "import matplotlib.pyplot as plt\n",
    "import numpy as np\n",
    "import pandas\n",
    "import seaborn as sns\n",
    "import scipy.stats as st"
   ]
  },
  {
   "cell_type": "markdown",
   "id": "bec69ce5-1935-4afd-922b-fb63fc327c36",
   "metadata": {},
   "source": [
    "# DEMO 1.0"
   ]
  },
  {
   "cell_type": "markdown",
   "id": "e1303819-cdf8-486b-b765-1fd14e56ec16",
   "metadata": {
    "jp-MarkdownHeadingCollapsed": true
   },
   "source": [
    "## CS285"
   ]
  },
  {
   "cell_type": "code",
   "execution_count": null,
   "id": "f057ae04-2713-45ad-8ee3-0c973b26e24d",
   "metadata": {},
   "outputs": [],
   "source": [
    "# Ant 310 lr=5e-5 b=10 b_lr=1e-4 ent=0.01 chi_coef=0.5 value demo=1 (sparse empty)\n",
    "path_s0 = 'data/ant/ant_2024_11_07_17_19_50_0000--s-0/progress.csv'\n",
    "path_s1 = 'simorgh/ant/ant_2024_11_07_12_34_32_0000--s-1/progress.csv'\n",
    "path_s2 = 'simorgh/ant/ant_2024_11_07_18_11_37_0000--s-2/progress.csv'\n",
    "path_s3 = 'simorgh/ant/ant_2024_11_07_23_47_27_0000--s-3/progress.csv'\n",
    "path_s4 = 'simorgh/ant/ant_2024_11_08_05_23_21_0000--s-4/progress.csv'"
   ]
  },
  {
   "cell_type": "code",
   "execution_count": null,
   "id": "0bade441-302c-4f43-8042-470c8f594dcd",
   "metadata": {},
   "outputs": [],
   "source": [
    "# Ant 310 lr=5e-5 b=10 b_lr=1e-4 ent=0.01 chi_coef=0.5 value demo=1 random=Normal(mu=2.5,std=1) (sparse random)\n",
    "path_s0 = 'data/ant/ant_2024_11_07_15_43_54_0000--s-0/progress.csv'\n",
    "path_s1 = 'simorgh/ant/ant_2024_11_08_06_03_53_0000--s-1/progress.csv'\n",
    "path_s2 = 'simorgh/ant/ant_2024_11_08_11_05_44_0000--s-2/progress.csv'\n",
    "path_s3 = 'simorgh/ant/ant_2024_11_08_16_33_42_0000--s-3/progress.csv'\n",
    "path_s4 = 'simorgh/ant/ant_2024_11_08_22_02_13_0000--s-4/progress.csv'"
   ]
  },
  {
   "cell_type": "code",
   "execution_count": null,
   "id": "5a42930c-47ef-4d8a-b58c-973b31834592",
   "metadata": {},
   "outputs": [],
   "source": [
    "# Ant 310 lr=5e-5 b=10 b_lr=1e-4 ent=0.01 chi_coef=0.5 value demo=1 noise_std=1.0 (noise)\n",
    "path_s0 = 'data/ant/ant_2024_11_07_14_14_24_0000--s-0/progress.csv'\n",
    "path_s1 = 'simorgh/ant/ant_2024_11_07_08_04_50_0000--s-1/progress.csv'\n",
    "path_s2 = 'simorgh/ant/ant_2024_11_07_12_30_50_0000--s-2/progress.csv'\n",
    "path_s3 = 'simorgh/ant/ant_2024_11_07_18_05_28_0000--s-3/progress.csv'\n",
    "path_s4 = 'simorgh/ant/ant_2024_11_07_23_41_46_0000--s-4/progress.csv'"
   ]
  },
  {
   "cell_type": "markdown",
   "id": "a8d5e1ef-f546-4f35-b25e-1764a6fa01a8",
   "metadata": {
    "jp-MarkdownHeadingCollapsed": true
   },
   "source": [
    "## Abblation TD"
   ]
  },
  {
   "cell_type": "code",
   "execution_count": null,
   "id": "792ca93d-6e19-4f2e-aff9-28aff4e0e14f",
   "metadata": {},
   "outputs": [],
   "source": [
    "# Ant 310 lr=5e-5 b=10 b_lr=1e-4 ent=0.01 chi_coef=0.5 value demo=1 (empty) (TD-policy)\n",
    "path_s0 = 'data/ant/ant_2024_11_08_12_23_04_0000--s-0/progress.csv'\n",
    "path_s1 = 'simorgh/ant/ant_2024_11_08_09_58_29_0000--s-1/progress.csv'\n",
    "path_s2 = 'simorgh/ant/ant_2024_11_08_15_27_49_0000--s-2/progress.csv'\n",
    "path_s3 = 'simorgh/ant/ant_2024_11_08_20_57_35_0000--s-3/progress.csv'\n",
    "path_s4 = 'simorgh/ant/ant_2024_11_09_02_27_23_0000--s-4/progress.csv'"
   ]
  },
  {
   "cell_type": "code",
   "execution_count": null,
   "id": "317e0a4f-7d7a-406f-b197-820b95b8a554",
   "metadata": {},
   "outputs": [],
   "source": [
    "# Ant 310 lr=5e-5 b=10 b_lr=1e-4 ent=0.01 chi_coef=0.5 value demo=1 random=Normal(mu=2.5,std=1) (random) (TD-policy)\n",
    "path_s0 = 'data/ant/ant_2024_11_08_10_34_43_0000--s-0/progress.csv'\n",
    "path_s1 = 'simorgh/ant/ant_2024_11_08_09_58_40_0000--s-1/progress.csv'\n",
    "path_s2 = 'simorgh/ant/ant_2024_11_08_15_33_03_0000--s-2/progress.csv'\n",
    "path_s3 = 'simorgh/ant/ant_2024_11_08_21_04_16_0000--s-3/progress.csv'\n",
    "path_s4 = 'simorgh/ant/ant_2024_11_09_02_36_13_0000--s-4/progress.csv'"
   ]
  },
  {
   "cell_type": "code",
   "execution_count": null,
   "id": "94b59d8e-b14b-4d83-a51a-f54525cc9878",
   "metadata": {},
   "outputs": [],
   "source": [
    "# Ant 310 lr=5e-5 b=10 b_lr=1e-4 ent=0.01 chi_coef=0.5 value demo=1 noise_std=1.0 (noise) (TD-policy)\n",
    "path_s0 = 'data/ant/ant_2024_11_07_23_07_12_0000--s-0/progress.csv'\n",
    "path_s1 = 'simorgh/ant/ant_2024_11_08_09_57_11_0000--s-1/progress.csv'\n",
    "path_s2 = 'simorgh/ant/ant_2024_11_08_15_31_50_0000--s-2/progress.csv'\n",
    "path_s3 = 'simorgh/ant/ant_2024_11_08_21_03_20_0000--s-3/progress.csv'\n",
    "path_s4 = 'simorgh/ant/ant_2024_11_09_02_34_11_0000--s-4/progress.csv'"
   ]
  },
  {
   "cell_type": "code",
   "execution_count": null,
   "id": "35130499-3c54-4910-97a0-fbcc507b56e7",
   "metadata": {},
   "outputs": [],
   "source": [
    "# Ant 310 lr=5e-5 b=10 b_lr=1e-4 ent=0.01 chi_coef=0.5 value demo=1 (TD-expert)\n",
    "path_s0 = 'data/ant/ant_2024_11_07_21_35_14_0000--s-0/progress.csv'\n",
    "path_s1 = 'simorgh/ant/ant_2024_11_08_10_06_26_0000--s-1/progress.csv'\n",
    "path_s2 = 'simorgh/ant/ant_2024_11_08_15_36_57_0000--s-2/progress.csv'\n",
    "path_s3 = 'simorgh/ant/ant_2024_11_08_21_08_02_0000--s-3/progress.csv'\n",
    "path_s4 = 'simorgh/ant/ant_2024_11_09_02_35_58_0000--s-4/progress.csv'"
   ]
  },
  {
   "cell_type": "code",
   "execution_count": null,
   "id": "d51032db-c416-4041-bb16-f0c1cf507bb8",
   "metadata": {},
   "outputs": [],
   "source": [
    "# Humanoid 310 lr=1e-5 b=10 b_lr=1e-4 ent=0.05 chi_coef=0.5 v0 demo=1 (empty) (TD-policy)\n",
    "path_s0 = 'data/humanoid/humanoid_2024_11_21_15_23_55_0000--s-0/progress.csv'\n",
    "path_s1 = ''\n",
    "path_s2 = ''\n",
    "path_s3 = ''\n",
    "path_s4 = ''"
   ]
  },
  {
   "cell_type": "code",
   "execution_count": null,
   "id": "8b8b7054-6594-4c9e-8731-4c478899a8e3",
   "metadata": {},
   "outputs": [],
   "source": [
    "# Humanoid 310 lr=1e-5 b=10 b_lr=1e-4 ent=0.05 chi_coef=0.5 v0 demo=1 random=Normal(mu=2.5,std=1) (random) (TD-policy)\n",
    "path_s0 = 'data/humanoid/humanoid_2024_11_21_17_04_30_0000--s-0/progress.csv'\n",
    "path_s1 = ''\n",
    "path_s2 = ''\n",
    "path_s3 = ''\n",
    "path_s4 = ''"
   ]
  },
  {
   "cell_type": "code",
   "execution_count": null,
   "id": "7ebc89d4-13a9-4873-97f6-ccefe6a747c3",
   "metadata": {},
   "outputs": [],
   "source": [
    "# Humanoid 310 lr=1e-5 b=10 b_lr=1e-4 ent=0.05 chi_coef=0.5 v0 demo=1 noise_std=1.0 (noise) (TD-policy)\n",
    "path_s0 = 'data/humanoid/humanoid_2024_11_21_19_51_54_0000--s-0/progress.csv'\n",
    "path_s1 = ''\n",
    "path_s2 = ''\n",
    "path_s3 = ''\n",
    "path_s4 = ''"
   ]
  },
  {
   "cell_type": "code",
   "execution_count": null,
   "id": "a1c15cfc-1be6-4540-91c3-b7c5cbdc9b0c",
   "metadata": {},
   "outputs": [],
   "source": [
    "# Humanoid 310 lr=1e-5 b=10 b_lr=1e-4 ent=0.05 chi_coef=0.5 v0 demo=1 (TD-expert)\n",
    "path_s0 = 'data/humanoid/humanoid_2024_11_21_21_46_06_0000--s-0/progress.csv'\n",
    "path_s1 = ''\n",
    "path_s2 = ''\n",
    "path_s3 = ''\n",
    "path_s4 = ''"
   ]
  },
  {
   "cell_type": "code",
   "execution_count": null,
   "id": "54f02c53-2326-4788-8984-5b6b25cab155",
   "metadata": {},
   "outputs": [],
   "source": [
    "# # no_TD\n",
    "# path_s0 = 'data/ant/ant_2024_11_10_15_24_48_0000--s-0/progress.csv'"
   ]
  },
  {
   "cell_type": "markdown",
   "id": "b4311a6f-f000-4f1f-8b3c-da3713fa07c9",
   "metadata": {
    "jp-MarkdownHeadingCollapsed": true
   },
   "source": [
    "## Abblation Noise STD"
   ]
  },
  {
   "cell_type": "code",
   "execution_count": null,
   "id": "91656db9-1aec-40dd-bab7-9addf0310c90",
   "metadata": {},
   "outputs": [],
   "source": [
    "# Ant 310 lr=5e-5 b=10 b_lr=1e-4 ent=0.01 chi_coef=0.5 value demo=1 noise_std=2\n",
    "path_s0 = 'data/ant/ant_2024_11_10_13_44_00_0000--s-0/progress.csv'\n",
    "path_s1 = 'data/ant/ant_2024_11_12_17_16_09_0000--s-1/progress.csv'\n",
    "path_s2 = 'data/ant/ant_2024_11_12_18_45_34_0000--s-2/progress.csv'\n",
    "path_s3 = 'data/ant/ant_2024_11_20_19_40_29_0000--s-3/progress.csv'\n",
    "path_s4 = 'data/ant/ant_2024_11_20_21_07_49_0000--s-4/progress.csv'"
   ]
  },
  {
   "cell_type": "code",
   "execution_count": null,
   "id": "ed0866db-586c-4227-9553-70ebc1a86e59",
   "metadata": {},
   "outputs": [],
   "source": [
    "# Humanoid 310 lr=1e-5 b=10 b_lr=1e-4 ent=0.05 chi_coef=0.5 v0 demo=1 noise_std=2\n",
    "path_s0 = 'data/humanoid/humanoid_2024_11_20_22_59_18_0000--s-0/progress.csv'\n",
    "path_s1 = 'data/humanoid/humanoid_2024_11_22_12_21_36_0000--s-1/progress.csv'\n",
    "path_s2 = 'data/humanoid/humanoid_2024_11_22_16_53_07_0000--s-2/progress.csv'\n",
    "path_s3 = 'data/humanoid/humanoid_2024_11_22_18_33_21_0000--s-3/progress.csv'\n",
    "path_s4 = 'data/humanoid/humanoid_2024_11_22_21_36_26_0000--s-4/progress.csv'"
   ]
  },
  {
   "cell_type": "code",
   "execution_count": null,
   "id": "97705050-878d-4e5c-99ee-e8da1ed58119",
   "metadata": {},
   "outputs": [],
   "source": [
    "# Ant 310 lr=5e-5 b=10 b_lr=1e-4 ent=0.01 chi_coef=0.5 value demo=1 noise_std=1.5\n",
    "# path_s0 = 'data/ant/ant_2024_11_10_12_13_22_0000--s-0/progress.csv'"
   ]
  },
  {
   "cell_type": "markdown",
   "id": "80d63723-b146-4aef-ad00-7ac77ae94997",
   "metadata": {
    "jp-MarkdownHeadingCollapsed": true
   },
   "source": [
    "## Abblation Sparse %P"
   ]
  },
  {
   "cell_type": "code",
   "execution_count": null,
   "id": "aff63b64-e509-443f-bac8-a05a9536987c",
   "metadata": {},
   "outputs": [],
   "source": [
    "# Ant 310 lr=5e-5 b=10 b_lr=1e-4 ent=0.01 chi_coef=0.5 value demo=1 (empty)\n",
    "path_s0 = 'data/ant/ant_2024_11_05_23_07_49_0000--s-0/progress.csv'\n",
    "path_s1 = 'data/ant/ant_2024_11_10_19_50_18_0000--s-1/progress.csv'\n",
    "path_s2 = 'data/ant/ant_2024_11_11_13_20_12_0000--s-2/progress.csv'\n",
    "path_s3 = 'data/ant/ant_2024_11_11_14_48_19_0000--s-3/progress.csv'\n",
    "path_s4 = 'data/ant/ant_2024_11_11_16_13_03_0000--s-4/progress.csv'"
   ]
  },
  {
   "cell_type": "code",
   "execution_count": null,
   "id": "77331f4f-5325-4b9c-a8f7-c6dc69cd19d6",
   "metadata": {},
   "outputs": [],
   "source": [
    "# Ant 310 lr=5e-5 b=10 b_lr=1e-4 ent=0.01 chi_coef=0.5 value demo=1 random=Normal(mu=2.5,std=1)\n",
    "path_s0 = 'data/ant/ant_2024_11_10_21_36_02_0000--s-0/progress.csv'\n",
    "path_s1 = 'data/ant/ant_2024_11_11_21_11_34_0000--s-1/progress.csv'\n",
    "path_s2 = 'data/ant/ant_2024_11_11_22_37_53_0000--s-2/progress.csv'\n",
    "path_s3 = 'data/ant/ant_2024_11_12_00_05_08_0000--s-3/progress.csv'\n",
    "path_s4 = 'data/ant/ant_2024_11_12_01_36_54_0000--s-4/progress.csv'"
   ]
  },
  {
   "cell_type": "code",
   "execution_count": 2,
   "id": "443cc093-08f2-4c9c-abe9-fe1f8bf4e81c",
   "metadata": {},
   "outputs": [],
   "source": [
    "# Humanoid 310 lr=1e-5 b=10 b_lr=1e-4 ent=0.05 chi_coef=0.5 v0 demo=1 (empty)\n",
    "path_s0 = 'data/humanoid/humanoid_2024_11_10_23_31_07_0000--s-0/progress.csv'\n",
    "path_s1 = 'data/humanoid/humanoid_2024_11_23_18_11_13_0000--s-1/progress.csv'\n",
    "path_s2 = 'data/humanoid/humanoid_2024_11_23_19_50_21_0000--s-2/progress.csv'\n",
    "path_s3 = 'data/humanoid/humanoid_2024_11_23_21_38_42_0000--s-3/progress.csv'\n",
    "path_s4 = 'data/humanoid/humanoid_2024_11_23_23_17_51_0000--s-4/progress.csv'"
   ]
  },
  {
   "cell_type": "code",
   "execution_count": null,
   "id": "4879aa1c-ee7f-47fc-862c-71a0755d67cf",
   "metadata": {},
   "outputs": [],
   "source": [
    "# Humanoid 310 lr=1e-5 b=10 b_lr=1e-4 ent=0.05 chi_coef=0.5 v0 demo=1 random=Normal(mu=2.5,std=1)\n",
    "path_s0 = 'data/humanoid/humanoid_2024_11_21_13_17_54_0000--s-0/progress.csv'\n",
    "path_s1 = ''\n",
    "path_s2 = ''\n",
    "path_s3 = ''\n",
    "path_s4 = ''"
   ]
  },
  {
   "cell_type": "markdown",
   "id": "6ba33730-d19c-4662-90e6-bf7263778c63",
   "metadata": {
    "jp-MarkdownHeadingCollapsed": true
   },
   "source": [
    "## Sparse Empty"
   ]
  },
  {
   "cell_type": "code",
   "execution_count": null,
   "id": "a1ffab9e-583c-4916-adad-842b65f0c101",
   "metadata": {},
   "outputs": [],
   "source": [
    "# Humanoid 330 lr=1e-5 b=10 b_lr=1e-4 ent=0.02 chi_coef=0.5 v0 demo=1 \n",
    "path_s0 = 'data/humanoid/humanoid_2024_11_02_08_40_06_0000--s-0/progress.csv'\n",
    "path_s1 = 'data/humanoid/humanoid_2024_11_02_10_33_31_0000--s-1/progress.csv'\n",
    "path_s2 = 'data/humanoid/humanoid_2024_10_31_21_42_01_0000--s-2/progress.csv'\n",
    "path_s3 = 'data/humanoid/humanoid_2024_11_01_12_22_09_0000--s-3/progress.csv'\n",
    "path_s4 = 'data/humanoid/humanoid_2024_11_01_16_19_00_0000--s-4/progress.csv'"
   ]
  },
  {
   "cell_type": "code",
   "execution_count": null,
   "id": "af8b0b5b-ed56-42ae-bde2-a5e0aca73212",
   "metadata": {},
   "outputs": [],
   "source": [
    "# Ant 340 lr=5e-5 b=10 b_lr=1e-4 ent=0.01 chi_coef=0.5 value demo=1\n",
    "path_s0 = 'data/ant/ant_2024_11_03_20_15_44_0000--s-0/progress.csv'\n",
    "path_s1 = 'data/ant/ant_2024_11_03_21_40_22_0000--s-1/progress.csv'\n",
    "path_s2 = 'data/ant/ant_2024_11_03_23_04_27_0000--s-2/progress.csv'\n",
    "path_s3 = 'data/ant/ant_2024_11_04_16_31_12_0000--s-3/progress.csv'\n",
    "path_s4 = 'data/ant/ant_2024_11_02_18_50_37_0000--s-4/progress.csv'"
   ]
  },
  {
   "cell_type": "code",
   "execution_count": null,
   "id": "286d77c9-24c1-4e9c-ad2d-e8d637098034",
   "metadata": {},
   "outputs": [],
   "source": [
    "# Walker 340 lr=5e-5 b=10 b_lr=1e-4 ent=0.01 chi_coef=0.5 value demo=1\n",
    "path_s0 = 'data/walker2d/walker2d_2024_11_04_08_47_28_0000--s-0/progress.csv'\n",
    "path_s1 = 'data/walker2d/walker2d_2024_11_04_10_12_17_0000--s-1/progress.csv'\n",
    "path_s2 = 'data/walker2d/walker2d_2024_11_04_11_36_04_0000--s-2/progress.csv'\n",
    "path_s3 = 'data/walker2d/walker2d_2024_11_04_12_59_28_0000--s-3/progress.csv'\n",
    "path_s4 = 'data/walker2d/walker2d_2024_11_04_14_22_20_0000--s-4/progress.csv'"
   ]
  },
  {
   "cell_type": "code",
   "execution_count": null,
   "id": "7b00704e-8141-4f98-9bc9-9dbba39f8b9b",
   "metadata": {},
   "outputs": [],
   "source": [
    "# Hopper 310 lr=5e-5 b=10 b_lr=1e-4 ent=0.01 chi_coef=0.5 value demo=1\n",
    "path_s0 = 'data/hopper/hopper_2024_11_07_11_44_16_0000--s-0/progress.csv'\n",
    "path_s1 = 'simorgh/hopper/hopper_2024_11_07_12_29_16_0000--s-1/progress.csv'\n",
    "path_s2 = 'simorgh/hopper/hopper_2024_11_07_17_44_08_0000--s-2/progress.csv'\n",
    "path_s3 = 'simorgh/hopper/hopper_2024_11_07_22_59_17_0000--s-3/progress.csv'\n",
    "path_s4 = 'simorgh/hopper/hopper_2024_11_08_04_13_51_0000--s-4/progress.csv'"
   ]
  },
  {
   "cell_type": "code",
   "execution_count": null,
   "id": "c54593ae-7a81-473b-9ea7-25ec11db90f5",
   "metadata": {},
   "outputs": [],
   "source": [
    "# Cheetah 310 lr=5e-5 b=10 b_lr=1e-4 ent=0.01 chi_coef=0.5 value demo=1\n",
    "path_s0 = 'simorgh/halfcheetah/halfcheetah_2024_11_06_08_55_48_0000--s-0/progress.csv'\n",
    "path_s1 = 'simorgh/halfcheetah/halfcheetah_2024_11_06_14_17_42_0000--s-1/progress.csv'\n",
    "path_s2 = 'simorgh/halfcheetah/halfcheetah_2024_11_06_19_39_46_0000--s-2/progress.csv'\n",
    "path_s3 = 'simorgh/halfcheetah/halfcheetah_2024_11_07_01_02_25_0000--s-3/progress.csv'\n",
    "path_s4 = 'simorgh/halfcheetah/halfcheetah_2024_11_07_06_25_06_0000--s-4/progress.csv'"
   ]
  },
  {
   "cell_type": "markdown",
   "id": "6bb0aa66-7f3b-48be-8453-7a7e8fb44f86",
   "metadata": {
    "jp-MarkdownHeadingCollapsed": true
   },
   "source": [
    "## Sparse Random"
   ]
  },
  {
   "cell_type": "code",
   "execution_count": null,
   "id": "fac5249a-03d7-45b6-80bf-e93c26c9b91f",
   "metadata": {},
   "outputs": [],
   "source": [
    "# Humanoid 330 lr=1e-5 b=10 b_lr=1e-4 ent=0.02 chi_coef=0.5 v0 demo=1 random=Normal(mu=2.5,std=1)\n",
    "path_s0 = 'data/humanoid/humanoid_2024_11_01_23_04_38_0000--s-0/progress.csv'\n",
    "path_s1 = 'data/humanoid/humanoid_2024_11_01_21_03_08_0000--s-1/progress.csv'\n",
    "path_s2 = 'data/humanoid/humanoid_2024_11_01_08_42_54_0000--s-2/progress.csv'\n",
    "path_s3 = 'data/humanoid/humanoid_2024_11_01_14_16_42_0000--s-3/progress.csv'\n",
    "path_s4 = 'data/humanoid/humanoid_2024_11_01_18_14_44_0000--s-4/progress.csv'"
   ]
  },
  {
   "cell_type": "code",
   "execution_count": null,
   "id": "02193e5b-6011-4c8c-8336-2a4974363805",
   "metadata": {},
   "outputs": [],
   "source": [
    "# Ant 340 lr=5e-5 b=10 b_lr=1e-4 ent=0.01 chi_coef=0.5 value demo=1 random=Normal(mu=2.5,std=1)\n",
    "path_s0 = 'data/ant/ant_2024_11_03_08_40_23_0000--s-0/progress.csv'\n",
    "path_s1 = 'data/ant/ant_2024_11_03_10_06_19_0000--s-1/progress.csv'\n",
    "path_s2 = 'data/ant/ant_2024_11_03_11_33_33_0000--s-2/progress.csv'\n",
    "path_s3 = 'data/ant/ant_2024_11_02_14_34_16_0000--s-3/progress.csv'\n",
    "path_s4 = 'data/ant/ant_2024_11_02_12_55_23_0000--s-4/progress.csv'"
   ]
  },
  {
   "cell_type": "code",
   "execution_count": null,
   "id": "e561a775-12c9-4cb2-8796-e7ae5a00f497",
   "metadata": {},
   "outputs": [],
   "source": [
    "# Walker 310 lr=5e-5 b=10 b_lr=1e-4 ent=0.01 chi_coef=0.5 value demo=1 random=Normal(mu=2.5,std=1)\n",
    "path_s0 = 'data/walker2d/walker2d_2024_11_03_13_15_42_0000--s-0/progress.csv'\n",
    "path_s1 = 'data/walker2d/walker2d_2024_11_03_14_41_00_0000--s-1/progress.csv'\n",
    "path_s2 = 'data/walker2d/walker2d_2024_11_03_16_05_54_0000--s-2/progress.csv'\n",
    "path_s3 = 'data/walker2d/walker2d_2024_11_03_17_30_22_0000--s-3/progress.csv'\n",
    "path_s4 = 'data/walker2d/walker2d_2024_11_02_16_39_36_0000--s-4/progress.csv'"
   ]
  },
  {
   "cell_type": "code",
   "execution_count": null,
   "id": "173213ab-a63e-4a2b-80f2-c16c702127f6",
   "metadata": {},
   "outputs": [],
   "source": [
    "# Hopper 310 lr=5e-5 b=10 b_lr=1e-4 ent=0.01 chi_coef=0.5 value demo=1 random=Normal(mu=2.5,std=1)\n",
    "path_s0 = 'data/hopper/hopper_2024_11_06_23_15_10_0000--s-0/progress.csv'\n",
    "path_s1 = 'simorgh/hopper/hopper_2024_11_07_12_29_51_0000--s-1/progress.csv'\n",
    "path_s2 = 'simorgh/hopper/hopper_2024_11_07_17_42_59_0000--s-2/progress.csv'\n",
    "path_s3 = 'simorgh/hopper/hopper_2024_11_07_22_57_13_0000--s-3/progress.csv'\n",
    "path_s4 = 'simorgh/hopper/hopper_2024_11_08_04_12_05_0000--s-4/progress.csv'"
   ]
  },
  {
   "cell_type": "code",
   "execution_count": null,
   "id": "c345a8e6-c8ad-476a-babd-9a677262c969",
   "metadata": {},
   "outputs": [],
   "source": [
    "# Cheetah 310 lr=5e-5 b=10 b_lr=1e-4 ent=0.01 chi_coef=0.5 value demo=1 random=Normal(mu=2.5,std=1)\n",
    "path_s0 = 'simorgh/halfcheetah/halfcheetah_2024_11_06_08_56_18_0000--s-0/progress.csv'\n",
    "path_s1 = 'simorgh/halfcheetah/halfcheetah_2024_11_06_14_18_05_0000--s-1/progress.csv'\n",
    "path_s2 = 'simorgh/halfcheetah/halfcheetah_2024_11_06_19_40_55_0000--s-2/progress.csv'\n",
    "path_s3 = 'simorgh/halfcheetah/halfcheetah_2024_11_07_01_03_48_0000--s-3/progress.csv'\n",
    "path_s4 = 'simorgh/halfcheetah/halfcheetah_2024_11_07_06_26_20_0000--s-4/progress.csv'"
   ]
  },
  {
   "cell_type": "markdown",
   "id": "87b8b014-7d75-456f-8361-da9f66845f10",
   "metadata": {
    "jp-MarkdownHeadingCollapsed": true
   },
   "source": [
    "## Noise"
   ]
  },
  {
   "cell_type": "code",
   "execution_count": null,
   "id": "d48bccde-72be-4f24-aefe-d7a83ec484f2",
   "metadata": {},
   "outputs": [],
   "source": [
    "# Humanoid 310 lr=1e-5 b=10 b_lr=1e-4 ent=0.05 chi_coef=0.5 v0 demo=1 noise_std=1.0\n",
    "path_s0 = 'data/humanoid/humanoid_2024_11_05_11_10_31_0000--s-0/progress.csv'\n",
    "path_s1 = 'data/humanoid/humanoid_2024_11_05_13_12_20_0000--s-1/progress.csv'\n",
    "path_s2 = 'data/humanoid/humanoid_2024_11_05_14_55_08_0000--s-2/progress.csv'\n",
    "path_s3 = 'data/humanoid/humanoid_2024_11_05_16_36_54_0000--s-3/progress.csv'\n",
    "path_s4 = 'data/humanoid/humanoid_2024_11_05_18_18_49_0000--s-4/progress.csv'"
   ]
  },
  {
   "cell_type": "code",
   "execution_count": null,
   "id": "54e14397-4750-460c-b6fe-da2715be9d9f",
   "metadata": {},
   "outputs": [],
   "source": [
    "# Ant 310 lr=5e-5 b=10 b_lr=1e-4 ent=0.01 chi_coef=0.5 value demo=1 noise_std=1.0\n",
    "path_s0 = 'data/ant/ant_2024_11_06_12_15_11_0000--s-0/progress.csv'\n",
    "path_s1 = 'simorgh/ant/ant_2024_11_06_08_57_05_0000--s-1/progress.csv'\n",
    "path_s2 = 'simorgh/ant/ant_2024_11_06_14_34_28_0000--s-2/progress.csv'\n",
    "path_s3 = 'simorgh/ant/ant_2024_11_06_20_10_51_0000--s-3/progress.csv'\n",
    "path_s4 = 'simorgh/ant/ant_2024_11_07_01_47_06_0000--s-4/progress.csv'"
   ]
  },
  {
   "cell_type": "code",
   "execution_count": null,
   "id": "aafdf536-3fb7-4658-8df0-9d80033db96a",
   "metadata": {},
   "outputs": [],
   "source": [
    "# Walker 310 lr=5e-5 b=10 b_lr=1e-4 ent=0.01 chi_coef=0.5 value demo=1 noise_std=1.0\n",
    "path_s0 = 'simorgh/walker2d/walker2d_2024_11_06_08_57_54_0000--s-0/progress.csv'\n",
    "path_s1 = 'simorgh/walker2d/walker2d_2024_11_06_14_23_15_0000--s-1/progress.csv'\n",
    "path_s2 = 'simorgh/walker2d/walker2d_2024_11_06_19_47_18_0000--s-2/progress.csv'\n",
    "path_s3 = 'simorgh/walker2d/walker2d_2024_11_07_01_11_39_0000--s-3/progress.csv'\n",
    "path_s4 = 'simorgh/walker2d/walker2d_2024_11_07_06_34_51_0000--s-4/progress.csv'"
   ]
  },
  {
   "cell_type": "code",
   "execution_count": null,
   "id": "59176e08-c922-41fa-8044-df7757a42008",
   "metadata": {},
   "outputs": [],
   "source": [
    "# Hopper 310 lr=5e-5 b=10 b_lr=1e-4 ent=0.01 chi_coef=0.5 value demo=1 noise_std=1.0\n",
    "path_s0 = 'data/hopper/hopper_2024_11_06_21_32_05_0000--s-0/progress.csv'\n",
    "path_s1 = 'simorgh/hopper/hopper_2024_11_07_12_27_41_0000--s-1/progress.csv'\n",
    "path_s2 = 'simorgh/hopper/hopper_2024_11_07_17_42_32_0000--s-2/progress.csv'\n",
    "path_s3 = 'simorgh/hopper/hopper_2024_11_07_23_00_50_0000--s-3/progress.csv'\n",
    "path_s4 = 'simorgh/hopper/hopper_2024_11_08_04_17_58_0000--s-4/progress.csv'"
   ]
  },
  {
   "cell_type": "code",
   "execution_count": null,
   "id": "e001a8b6-31c7-4b24-9cd7-fe71554ed881",
   "metadata": {},
   "outputs": [],
   "source": [
    "# Cheetah 310 lr=5e-5 b=10 b_lr=1e-4 ent=0.01 chi_coef=0.5 value demo=1 noise_std=1.0\n",
    "path_s0 = 'simorgh/halfcheetah/halfcheetah_2024_11_06_08_48_26_0000--s-0/progress.csv'\n",
    "path_s1 = 'simorgh/halfcheetah/halfcheetah_2024_11_06_14_00_24_0000--s-1/progress.csv'\n",
    "path_s2 = 'simorgh/halfcheetah/halfcheetah_2024_11_06_19_23_55_0000--s-2/progress.csv'\n",
    "path_s3 = 'simorgh/halfcheetah/halfcheetah_2024_11_07_00_47_46_0000--s-3/progress.csv'\n",
    "path_s4 = 'simorgh/halfcheetah/halfcheetah_2024_11_07_06_11_20_0000--s-4/progress.csv'"
   ]
  },
  {
   "cell_type": "code",
   "execution_count": null,
   "id": "c30176b0-304c-40da-809b-87f5a5955aa6",
   "metadata": {},
   "outputs": [],
   "source": [
    "# # Humanoid 340 lr=1e-5 b=10 b_lr=1e-4 ent=0.01 chi_coef=0.5 v0 demo=1 noise_std=0.75\n",
    "# path_s0 = 'data/humanoid/humanoid_2024_10_26_15_26_15_0000--s-0/progress.csv'\n",
    "# path_s1 = 'data/humanoid/humanoid_2024_10_26_21_25_39_0000--s-1/progress.csv'\n",
    "# path_s2 = 'data/humanoid/humanoid_2024_10_26_23_21_20_0000--s-2/progress.csv'\n",
    "# path_s3 = 'data/humanoid/humanoid_2024_10_27_02_15_01_0000--s-3/progress.csv'\n",
    "# path_s4 = 'data/humanoid/humanoid_2024_10_27_04_07_34_0000--s-4/progress.csv'"
   ]
  },
  {
   "cell_type": "code",
   "execution_count": null,
   "id": "d3e13dea-d62a-42b9-bfbc-c439a86bd14b",
   "metadata": {},
   "outputs": [],
   "source": [
    "# # Ant 340 lr=5e-5 b=10 b_lr=1e-4 ent=0.01 chi_coef=0.5 value demo=1 noise_std=0.75\n",
    "# path_s0 = 'data/ant/ant_2024_10_27_05_59_39_0000--s-0/progress.csv'\n",
    "# path_s1 = 'data/ant/ant_2024_10_27_13_48_54_0000--s-1/progress.csv'\n",
    "# path_s2 = 'data/ant/ant_2024_10_27_15_26_38_0000--s-2/progress.csv'\n",
    "# path_s3 = 'data/ant/ant_2024_10_27_17_06_09_0000--s-3/progress.csv'\n",
    "# path_s4 = 'data/ant/ant_2024_11_02_20_24_44_0000--s-4/progress.csv'"
   ]
  },
  {
   "cell_type": "markdown",
   "id": "fc808540-6c3e-4b79-9a8b-bb5c4f51cb93",
   "metadata": {
    "jp-MarkdownHeadingCollapsed": true
   },
   "source": [
    "# DEMO 1/2"
   ]
  },
  {
   "cell_type": "markdown",
   "id": "df9fc0d1-7831-4d67-9b0c-04077bd55cb2",
   "metadata": {},
   "source": [
    "## NOISE"
   ]
  },
  {
   "cell_type": "code",
   "execution_count": null,
   "id": "abd03464-481e-4b84-833a-923303f5ef62",
   "metadata": {},
   "outputs": [],
   "source": [
    "# Humanoid 330 lr=1e-5 b=10 b_lr=1e-4 ent=0.05 chi_coef=0.5 v0 demo=0.5 noise\n",
    "path_s0 = 'data/humanoid/humanoid_2024_11_16_13_04_12_0000--s-0/progress.csv'\n",
    "path_s1 = 'data/humanoid/humanoid_2024_11_16_14_46_52_0000--s-1/progress.csv'\n",
    "path_s2 = 'data/humanoid/humanoid_2024_11_16_16_27_42_0000--s-2/progress.csv'\n",
    "path_s3 = 'data/humanoid/humanoid_2024_11_16_18_59_18_0000--s-3/progress.csv'\n",
    "path_s4 = 'data/humanoid/humanoid_2024_11_16_20_39_01_0000--s-4/progress.csv'"
   ]
  },
  {
   "cell_type": "code",
   "execution_count": null,
   "id": "6dccdcb5-8252-45e8-a354-41aeeac53914",
   "metadata": {},
   "outputs": [],
   "source": [
    "# Ant 310 lr=5e-5 b=10 b_lr=1e-4 ent=0.01 chi_coef=0.5 value demo=0.5 noise\n",
    "path_s0 = ''\n",
    "path_s1 = ''\n",
    "path_s2 = ''\n",
    "path_s3 = ''\n",
    "path_s4 = ''"
   ]
  },
  {
   "cell_type": "markdown",
   "id": "1a2e955e-f9d5-4ed1-a31e-a2c876b346ec",
   "metadata": {},
   "source": [
    "## SP-EM"
   ]
  },
  {
   "cell_type": "code",
   "execution_count": null,
   "id": "97954d37-a56f-4830-a770-8810750cd42e",
   "metadata": {},
   "outputs": [],
   "source": [
    "# Humanoid 330 lr=1e-5 b=10 b_lr=1e-4 ent=0.05 chi_coef=0.5 v0 demo=0.5 sparse-empty\n",
    "path_s0 = 'data/humanoid/humanoid_2024_11_14_18_27_49_0000--s-0/progress.csv'\n",
    "path_s1 = 'data/humanoid/humanoid_2024_11_14_16_48_34_0000--s-1/progress.csv'\n",
    "path_s2 = 'data/humanoid/humanoid_2024_11_14_04_36_24_0000--s-2/progress.csv'\n",
    "path_s3 = 'data/humanoid/humanoid_2024_11_14_13_09_06_0000--s-3/progress.csv'\n",
    "path_s4 = 'data/humanoid/humanoid_2024_11_14_15_03_01_0000--s-4/progress.csv'"
   ]
  },
  {
   "cell_type": "code",
   "execution_count": null,
   "id": "eca9d175-15be-45a3-944c-3ffe6d2a34f3",
   "metadata": {},
   "outputs": [],
   "source": [
    "# Ant 310 lr=5e-5 b=10 b_lr=1e-4 ent=0.01 chi_coef=0.5 value demo=0.5 sparse-empty\n",
    "path_s0 = 'data/ant/ant_2024_11_12_21_11_10_0000--s-0/progress.csv'\n",
    "path_s1 = 'data/ant/ant_2024_11_17_09_37_42_0000--s-1/progress.csv'\n",
    "path_s2 = 'data/ant/ant_2024_11_17_11_02_21_0000--s-2/progress.csv'\n",
    "path_s3 = 'data/ant/ant_2024_11_17_15_47_08_0000--s-3/progress.csv'\n",
    "path_s4 = 'data/ant/ant_2024_11_17_17_16_11_0000--s-4/progress.csv'"
   ]
  },
  {
   "cell_type": "markdown",
   "id": "e2868c7a-d422-40d8-9a28-32041a9ee452",
   "metadata": {},
   "source": [
    "## SP-RN"
   ]
  },
  {
   "cell_type": "code",
   "execution_count": null,
   "id": "162f9987-03d9-4267-a423-92d80ad9fc2c",
   "metadata": {},
   "outputs": [],
   "source": [
    "# Humanoid 330 lr=1e-5 b=10 b_lr=1e-4 ent=0.05 chi_coef=0.5 v0 demo=0.5 sparse-random\n",
    "path_s0 = 'data/humanoid/humanoid_2024_11_14_21_33_29_0000--s-0/progress.csv'\n",
    "path_s1 = 'data/humanoid/humanoid_2024_11_15_20_55_00_0000--s-1/progress.csv'\n",
    "path_s2 = 'data/humanoid/humanoid_2024_11_15_22_38_45_0000--s-2/progress.csv'\n",
    "path_s3 = 'data/humanoid/humanoid_2024_11_16_00_23_23_0000--s-3/progress.csv'\n",
    "path_s4 = 'data/humanoid/humanoid_2024_11_16_02_06_48_0000--s-4/progress.csv'"
   ]
  },
  {
   "cell_type": "code",
   "execution_count": null,
   "id": "419de42d-539d-4509-9953-fb815f99aa64",
   "metadata": {},
   "outputs": [],
   "source": [
    "# Ant 310 lr=5e-5 b=10 b_lr=1e-4 ent=0.01 chi_coef=0.5 value demo=0.5 sparse-random\n",
    "path_s0 = 'data/ant/ant_2024_11_12_22_40_34_0000--s-0/progress.csv'\n",
    "path_s1 = ''\n",
    "path_s2 = ''\n",
    "path_s3 = ''\n",
    "path_s4 = ''"
   ]
  },
  {
   "cell_type": "markdown",
   "id": "f77f8032-c3e7-4e15-8d6e-f648605b7198",
   "metadata": {
    "jp-MarkdownHeadingCollapsed": true
   },
   "source": [
    "## EX"
   ]
  },
  {
   "cell_type": "code",
   "execution_count": null,
   "id": "fc2ba17e-264a-4a7c-9b47-7d49e1ac4290",
   "metadata": {},
   "outputs": [],
   "source": [
    "# # Humanoid 330 lr=1e-5 b=10 b_lr=1e-4 ent=0.01 chi_coef=0.5 v0 demo=0.5 sparse-empty\n",
    "# path_s0 = 'data/humanoid/humanoid_2024_11_15_10_39_11_0000--s-0/progress.csv'\n",
    "# path_s1 = 'data/humanoid/humanoid_2024_11_15_12_27_34_0000--s-1/progress.csv'\n",
    "# path_s2 = ''\n",
    "# path_s3 = ''\n",
    "# path_s4 = ''"
   ]
  },
  {
   "cell_type": "code",
   "execution_count": null,
   "id": "517aa838-1ff2-46e2-bbfe-793535c3af03",
   "metadata": {},
   "outputs": [],
   "source": [
    "# # Humanoid 330 lr=1e-5 b=10 b_lr=1e-4 ent=0.01 chi_coef=0.5 v0 demo=0.5 sparse-random\n",
    "# path_s0 = 'data/humanoid/humanoid_2024_11_14_23_15_51_0000--s-0/progress.csv'\n",
    "# path_s1 = 'data/humanoid/humanoid_2024_11_15_16_34_06_0000--s-1/progress.csv'\n",
    "# path_s2 = ''\n",
    "# path_s3 = ''\n",
    "# path_s4 = ''"
   ]
  },
  {
   "cell_type": "code",
   "execution_count": null,
   "id": "d07b4552-efc9-4716-9d22-f16ffbddda5a",
   "metadata": {},
   "outputs": [],
   "source": [
    "# # Humanoid 330 lr=1e-5 b=10 b_lr=1e-4 ent=0.01 chi_coef=0.5 v0 demo=0.5 noise\n",
    "# path_s0 = 'data/humanoid/humanoid_2024_11_15_14_41_58_0000--s-0/progress.csv'\n",
    "# path_s1 = ''\n",
    "# path_s2 = ''\n",
    "# path_s3 = ''\n",
    "# path_s4 = ''"
   ]
  },
  {
   "cell_type": "markdown",
   "id": "81714233-2644-48aa-b1cf-3e78102021a4",
   "metadata": {
    "jp-MarkdownHeadingCollapsed": true
   },
   "source": [
    "# DEMO 1/4"
   ]
  },
  {
   "cell_type": "markdown",
   "id": "11a05e83-db4d-43b3-8ba0-dbe79a6ffdf0",
   "metadata": {},
   "source": [
    "## NOISE"
   ]
  },
  {
   "cell_type": "code",
   "execution_count": null,
   "id": "dcdbf464-0579-4894-9890-f672f88ec506",
   "metadata": {},
   "outputs": [],
   "source": [
    "# Humanoid 310 lr=1e-5 b=10 b_lr=1e-4 ent=0.05 chi_coef=0.5 v0 demo=0.25 noise\n",
    "path_s0 = 'data/humanoid/humanoid_2024_11_18_12_32_44_0000--s-0/progress.csv'\n",
    "path_s1 = ''\n",
    "path_s2 = ''\n",
    "path_s3 = ''\n",
    "path_s4 = ''"
   ]
  },
  {
   "cell_type": "code",
   "execution_count": null,
   "id": "0d72eb7a-5df5-420d-b57c-11917572bea5",
   "metadata": {},
   "outputs": [],
   "source": [
    "# Ant 310 lr=5e-5 b=10 b_lr=1e-4 ent=0.01 chi_coef=0.5 value demo=0.5 noise\n",
    "path_s0 = ''\n",
    "path_s1 = ''\n",
    "path_s2 = ''\n",
    "path_s3 = ''\n",
    "path_s4 = ''"
   ]
  },
  {
   "cell_type": "markdown",
   "id": "31fc31ab-11ce-4ffe-aa07-c3a832fb85ff",
   "metadata": {},
   "source": [
    "## SP-EM"
   ]
  },
  {
   "cell_type": "code",
   "execution_count": null,
   "id": "f5009cad-2517-4643-a6a8-bb2361335136",
   "metadata": {},
   "outputs": [],
   "source": [
    "# Humanoid 310 lr=1e-5 b=10 b_lr=1e-4 ent=0.05 chi_coef=0.5 v0 demo=0.25 sparse-empty\n",
    "path_s0 = 'data/humanoid/humanoid_2024_11_17_20_14_15_0000--s-0/progress.csv'\n",
    "path_s1 = 'data/humanoid/humanoid_2024_11_17_21_59_57_0000--s-1/progress.csv'\n",
    "path_s2 = 'data/humanoid/humanoid_2024_11_18_14_57_18_0000--s-2/progress.csv'\n",
    "path_s3 = 'data/humanoid/humanoid_2024_11_18_18_39_23_0000--s-3/progress.csv'\n",
    "path_s4 = 'data/humanoid/humanoid_2024_11_18_22_17_50_0000--s-4/progress.csv'"
   ]
  },
  {
   "cell_type": "code",
   "execution_count": null,
   "id": "5bace498-b92c-41b3-a060-acd40e0cbb96",
   "metadata": {},
   "outputs": [],
   "source": [
    "# Ant 310 lr=5e-5 b=10 b_lr=1e-4 ent=0.01 chi_coef=0.5 value demo=0.5 sparse-empty\n",
    "path_s0 = 'data/ant/ant_2024_11_13_00_11_17_0000--s-0/progress.csv'\n",
    "path_s1 = 'data/ant/ant_2024_11_18_20_30_32_0000--s-1/progress.csv'\n",
    "path_s2 = ''\n",
    "path_s3 = ''\n",
    "path_s4 = ''"
   ]
  },
  {
   "cell_type": "markdown",
   "id": "5b50457f-d75e-4282-be1b-abe927bbaa7b",
   "metadata": {},
   "source": [
    "## SP-RN"
   ]
  },
  {
   "cell_type": "code",
   "execution_count": null,
   "id": "fd70becd-cf36-42c7-8c7c-c442675124f1",
   "metadata": {},
   "outputs": [],
   "source": [
    "# Humanoid 310 lr=1e-5 b=10 b_lr=1e-4 ent=0.05 chi_coef=0.5 v0 demo=0.25 sparse-random\n",
    "path_s0 = 'data/humanoid/humanoid_2024_11_18_10_53_24_0000--s-0/progress.csv'\n",
    "path_s1 = ''\n",
    "path_s2 = ''\n",
    "path_s3 = ''\n",
    "path_s4 = ''"
   ]
  },
  {
   "cell_type": "code",
   "execution_count": null,
   "id": "56ede5f4-99a1-43fd-812e-e535a4c7c480",
   "metadata": {},
   "outputs": [],
   "source": [
    "# Ant 310 lr=5e-5 b=10 b_lr=1e-4 ent=0.01 chi_coef=0.5 value demo=0.5 sparse-random\n",
    "path_s0 = ''\n",
    "path_s1 = ''\n",
    "path_s2 = ''\n",
    "path_s3 = ''\n",
    "path_s4 = ''"
   ]
  },
  {
   "cell_type": "markdown",
   "id": "a7470b25-c0a7-434a-a8c1-45cf3b5c2ce2",
   "metadata": {
    "jp-MarkdownHeadingCollapsed": true
   },
   "source": [
    "# DataFrame"
   ]
  },
  {
   "cell_type": "code",
   "execution_count": 3,
   "id": "87d712b5-d7aa-4e54-9d5c-d2398a3eb227",
   "metadata": {},
   "outputs": [],
   "source": [
    "def x_runs(paths,\n",
    "           env: str,\n",
    "           demo: float,\n",
    "           name: str='',\n",
    "           # d1: bool=True,\n",
    "           save_df=True,\n",
    "           item: str='evaluation/Returns Mean',\n",
    "          ):\n",
    "    \n",
    "    tresholds = {\n",
    "        'ant': 4700,\n",
    "        'walker': 5200,\n",
    "        'humanoid': 5300,\n",
    "        'cheetah': 5098,\n",
    "        'hopper': 3500,\n",
    "    }\n",
    "    expert_treshold = tresholds[env]\n",
    "    path_s0, path_s1, path_s2, path_s3, path_s4 = paths\n",
    "       \n",
    "    r0 = pandas.read_csv(path_s0)[item][:60]\n",
    "    r1 = pandas.read_csv(path_s1)[item][:60]\n",
    "    r2 = pandas.read_csv(path_s2)[item][:60]\n",
    "    r3 = pandas.read_csv(path_s3)[item][:60]\n",
    "    r4 = pandas.read_csv(path_s4)[item][:60]\n",
    "    steps = pandas.read_csv(path_s4)['replay_buffer/size'][:60] // 1000\n",
    "    \n",
    "    data = {'r0': r0,\n",
    "           'r1': r1,\n",
    "           'r2': r2,\n",
    "           'r3': r3,\n",
    "           'r4': r4,\n",
    "        }\n",
    "    df = pandas.DataFrame(data=data)\n",
    "    \n",
    "    if item == 'evaluation/Returns Mean':\n",
    "        df /= expert_treshold\n",
    "        \n",
    "    df['mean'] = df.mean(axis=1)\n",
    "    df['std'] = df.std(axis=1)\n",
    "    df['steps'] = steps\n",
    "    \n",
    "    if save_df: \n",
    "        # df.to_csv(f'ours-sp-em-{env}-{1 if d1 else 0.5}.csv', index=False)\n",
    "        df.to_csv(f'ours-sp-em-{env}-{demo}-sp75.csv', index=False)\n",
    "    return df"
   ]
  },
  {
   "cell_type": "code",
   "execution_count": 4,
   "id": "aa6efd15-4104-4e8b-a75a-41bf18b2a6f1",
   "metadata": {},
   "outputs": [],
   "source": [
    "paths = (path_s0, path_s1, path_s2, path_s3, path_s4)\n",
    "df = x_runs(paths, 'humanoid', demo=1)"
   ]
  },
  {
   "cell_type": "code",
   "execution_count": null,
   "id": "e7553d4a-3239-4fc8-83a0-33badc57a057",
   "metadata": {},
   "outputs": [],
   "source": [
    "# ITEMS = ['evaluation/EB/Q_Pred Mean', 'trainer/ZF Expert Reward', 'trainer/ZF Policy Reward', 'evaluation/Rewards Mean']\n",
    "# NAMES = ['qvalue', 'expertR', 'policyR', 'trueR']\n",
    "\n",
    "# paths = (path_s0, path_s1, path_s2, path_s3, path_s4)\n",
    "\n",
    "# for item, name in zip(ITEMS, NAMES):\n",
    "#     df = x_runs(paths, 'cheetah', item=item, name=name)"
   ]
  },
  {
   "cell_type": "markdown",
   "id": "f89b89ab-7023-4ec1-866e-9ed4c1bea6bd",
   "metadata": {},
   "source": [
    "# Plot (Mu / Std)"
   ]
  },
  {
   "cell_type": "code",
   "execution_count": 17,
   "id": "5ce737af-d6b5-4094-be91-9dc1532aa7e1",
   "metadata": {},
   "outputs": [],
   "source": [
    "def plot_curves(df_path, \n",
    "                std_coef=0.75, \n",
    "                window=3,\n",
    "                alpha=0.15):\n",
    "    \n",
    "    df = pandas.read_csv(df_path)[:60]\n",
    "    steps = df['steps']\n",
    "    mean, std = df['mean'], df['std']\n",
    "    # std /= np.sqrt(5)\n",
    "    ma_mean = mean.rolling(window).mean()\n",
    "    ma_std = std.rolling(window).mean()\n",
    "    env_id = df_path.split('-')[1].capitalize()\n",
    "    \n",
    "    fig, axs = plt.subplots(1, 2, figsize=(10,3))\n",
    "    axs[0].plot(steps, ma_mean, ls='-')\n",
    "    axs[0].fill_between(x=steps, \n",
    "                     y1=(ma_mean - std_coef * ma_std), \n",
    "                     y2=(ma_mean + std_coef * ma_std),\n",
    "                     alpha=alpha)\n",
    "    axs[0].axhline(y=1, c='r', ls='--', lw=1, alpha=0.8)\n",
    "    # axs[0].set_title(f\"{env_id}\")\n",
    "    axs[1].plot(steps, mean, ls='-')\n",
    "    axs[1].fill_between(x=steps, \n",
    "                     y1=(mean - std_coef * std), \n",
    "                     y2=(mean + std_coef * std), \n",
    "                     alpha=alpha)\n",
    "    axs[1].axhline(y=1, c='r', ls='--', lw=1, alpha=0.8)\n",
    "    # axs[1].set_title(f\"{env_id}\")\n",
    "\n",
    "    plt.show()"
   ]
  },
  {
   "cell_type": "code",
   "execution_count": 18,
   "id": "e2856ae3-be9e-4a40-bb31-f05fcf78ff9e",
   "metadata": {},
   "outputs": [
    {
     "data": {
      "image/png": "[encoded data removed]",
      "text/plain": [
       "<Figure size 1000x300 with 2 Axes>"
      ]
     },
     "metadata": {},
     "output_type": "display_data"
    }
   ],
   "source": [
    "plot_curves('ours-sp-em-humanoid-1-sp75.csv')"
   ]
  },
  {
   "cell_type": "code",
   "execution_count": 19,
   "id": "df73d0c5-1c4c-4bda-a32b-5831f14c8a84",
   "metadata": {},
   "outputs": [
    {
     "data": {
      "image/png": "[encoded data removed]",
      "text/plain": [
       "<Figure size 1000x300 with 2 Axes>"
      ]
     },
     "metadata": {},
     "output_type": "display_data"
    }
   ],
   "source": [
    "plot_curves('results/d1/ours-humanoid-1-sp-em.csv')"
   ]
  },
  {
   "cell_type": "code",
   "execution_count": null,
   "id": "1311936c-5d5e-4da4-985d-6d19305e9f71",
   "metadata": {},
   "outputs": [],
   "source": []
  },
  {
   "cell_type": "markdown",
   "id": "b311f94f-4759-4c56-a8e6-4b82bc13f5e5",
   "metadata": {
    "jp-MarkdownHeadingCollapsed": true
   },
   "source": [
    "# Other Plot (Mu / Std)"
   ]
  },
  {
   "cell_type": "code",
   "execution_count": null,
   "id": "f2cf14ba-1c74-4ea3-b5f2-67f9d0a5894c",
   "metadata": {},
   "outputs": [],
   "source": [
    "def plot_extra(paths,\n",
    "            env_id,\n",
    "            title,\n",
    "            item='evaluation/Returns Mean',\n",
    "            d1=True,\n",
    "            std_coef=0.75, \n",
    "            window=5,\n",
    "            alpha=0.4):\n",
    "    \n",
    "    path_s0, path_s1, path_s2, path_s3, path_s4 = paths\n",
    "    df = x_runs(paths, env_id, d1=d1, save_df=False, item=item) \n",
    "    steps, mean, std = df[\"steps\"], df[\"mean\"], df[\"std\"]\n",
    "    \n",
    "    ma_mean = mean.rolling(window).mean()\n",
    "    ma_std = std.rolling(window).mean()\n",
    "\n",
    "    plt.rcParams[\"figure.figsize\"] = (5,3)\n",
    "    plt.plot(steps, ma_mean, ls='-')\n",
    "    plt.fill_between(x=steps, \n",
    "                     y1=(ma_mean - std_coef * ma_std), \n",
    "                     y2=(ma_mean + std_coef * ma_std),\n",
    "                     alpha=alpha)\n",
    "    plt.title(f\"{env_id.capitalize()} | {title}\")\n",
    "    plt.show()"
   ]
  },
  {
   "cell_type": "code",
   "execution_count": null,
   "id": "ffdc353e-f6ba-4c42-92af-bea909e6948a",
   "metadata": {},
   "outputs": [],
   "source": [
    "paths = (path_s0, path_s1, path_s2, path_s3, path_s4)\n",
    "plot_extra(paths, \"ant\", title='Z Estimation', item='evaluation/EB/Q_Pred Mean', d1=True)"
   ]
  },
  {
   "cell_type": "code",
   "execution_count": null,
   "id": "1d214317-3510-4618-b56e-d32727ac981f",
   "metadata": {},
   "outputs": [],
   "source": [
    "paths = (path_s0, path_s1, path_s2, path_s3, path_s4)\n",
    "plot_extra(paths, \"humanoid\", title='b value', item='trainer/Bias Value', d1=True)"
   ]
  },
  {
   "cell_type": "code",
   "execution_count": null,
   "id": "81aac788-b335-418d-bddb-da86c996378f",
   "metadata": {},
   "outputs": [],
   "source": []
  },
  {
   "cell_type": "code",
   "execution_count": null,
   "id": "f7a9f9f5-f034-4b90-b642-5e5105933af0",
   "metadata": {},
   "outputs": [],
   "source": [
    "def plot_curves(paths, \n",
    "                env_id, \n",
    "                max_iter,\n",
    "                window=5,\n",
    "                alpha=0.25):\n",
    "\n",
    "    tresholds = {\n",
    "        'Ant': 4700,\n",
    "        'Walker': 5000,\n",
    "        'Humanoid': 5300,\n",
    "        'HalfCheetah': 5000,\n",
    "        'Hopper': 3500,\n",
    "    }\n",
    "    expert_treshold = tresholds[env_id]\n",
    "    \n",
    "    path_s1, path_s2, path_s3, path_s4 = paths\n",
    "    def df_util(path, returns=True):\n",
    "        df = pandas.read_csv(path)[:max_iter]\n",
    "        if returns:\n",
    "            return df['evaluation/Returns Mean'].to_numpy()\n",
    "        else:\n",
    "            return df['replay_buffer/size'].to_numpy()\n",
    "\n",
    "    r1 = df_util(path_s1)\n",
    "    r2 = df_util(path_s2)\n",
    "    r3 = df_util(path_s3)\n",
    "    r4 = df_util(path_s4)\n",
    "    steps = df_util(path_s4, returns=False) // 1000\n",
    "    returns = np.zeros((max_iter, 4))\n",
    "    returns[:, 0] = r2\n",
    "    returns[:, 1] = r3\n",
    "    returns[:, 2] = r4\n",
    "    returns[:, 3] = r1\n",
    "    r_mean = returns.mean(axis=1)\n",
    "\n",
    "    se = st.sem(returns, axis=1)\n",
    "    _, conf = st.t.interval(0.75, max_iter-1, scale=se)\n",
    "\n",
    "    fig, axs = plt.subplots(1, 2, figsize=(13, 4))\n",
    "    \n",
    "    ma_r_mean = pandas.Series(r_mean).rolling(window).mean().to_numpy()\n",
    "    ma_r_conf = pandas.Series(conf).rolling(window).mean().to_numpy()\n",
    "    \n",
    "    axs[0].plot(steps, ma_r_mean, ls='-')\n",
    "    axs[0].fill_between(x=steps, \n",
    "                         y1=(ma_r_mean - ma_r_conf), \n",
    "                         y2=(ma_r_mean + ma_r_conf),\n",
    "                         alpha=alpha)\n",
    "    axs[0].axhline(y=expert_treshold, c='k', ls='--', lw=1, alpha=0.8)\n",
    "    axs[0].set_title(f\"{env_id}-v2  (mu +/- %95 conf, rolling={window})\")\n",
    "\n",
    "    axs[1].plot(steps, r_mean, ls='-')\n",
    "    axs[1].fill_between(x=steps, \n",
    "                         y1=(r_mean - conf), \n",
    "                         y2=(r_mean + conf), \n",
    "                         alpha=alpha)\n",
    "    axs[1].axhline(y=expert_treshold, c='k', ls='--', lw=1, alpha=0.8)\n",
    "    axs[1].set_title(f\"{env_id}-v2  (mu +/- %95 conf)\")\n",
    "\n",
    "    # plt.tight_layout()\n",
    "    plt.show()"
   ]
  },
  {
   "cell_type": "code",
   "execution_count": null,
   "id": "c6d4c21e-2b42-4726-a23b-23757623c81a",
   "metadata": {},
   "outputs": [],
   "source": [
    "paths = (path_s2, path_s3, path_s1, path_s0)\n",
    "plot_curves(paths, 'Humanoid', 60, window=5)"
   ]
  },
  {
   "cell_type": "code",
   "execution_count": null,
   "id": "cb1b01ec-193f-47d7-b6de-e35176942c07",
   "metadata": {},
   "outputs": [],
   "source": []
  }
 ],
 "metadata": {
  "kernelspec": {
   "display_name": "Python 3 (ipykernel)",
   "language": "python",
   "name": "python3"
  },
  "language_info": {
   "codemirror_mode": {
    "name": "ipython",
    "version": 3
   },
   "file_extension": ".py",
   "mimetype": "text/x-python",
   "name": "python",
   "nbconvert_exporter": "python",
   "pygments_lexer": "ipython3",
   "version": "3.10.12"
  }
 },
 "nbformat": 4,
 "nbformat_minor": 5
}
