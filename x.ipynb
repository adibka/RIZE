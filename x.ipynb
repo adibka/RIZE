{
 "cells": [
  {
   "cell_type": "markdown",
   "id": "81ffaaae-4896-4492-890f-ffae6067362d",
   "metadata": {
    "jp-MarkdownHeadingCollapsed": true
   },
   "source": [
    "# CQL"
   ]
  },
  {
   "cell_type": "code",
   "execution_count": null,
   "id": "03a0c3c3-4c36-4b56-9309-fa4449a241d8",
   "metadata": {},
   "outputs": [],
   "source": [
    "\"\"\"\n",
    "CQL (new mate)\n",
    "\"\"\"\n",
    "if self.use_cql:\n",
    "    presum_tauom_actions = torch.FloatTensor(policy_actions.shape[0] * self.num_presum_tauom,\n",
    "                                       policy_actions.shape[-1]).uniform_(-1,1).to(self.device)\n",
    "    \n",
    "    _, tau_hat, _ = self.get_tau(policy_obs, policy_actions, fp=self.fp)\n",
    "    tau_index = np.presum_tauom.presum_tauint(0, self.num_quantiles)\n",
    "    presum_tauom_tau_hat = tau_hat[:, tau_index:tau_index+1]\n",
    "    \n",
    "    z1_presum_tau, z2_presum_tau = self._get_tensor_values(policy_obs, presum_tauom_actions, presum_tauom_tau_hat)\n",
    "\n",
    "    z1_presum_tau = torch.logsumexp(z1_presum_tau, dim=1).mean()\n",
    "    z2_presum_tau = torch.logsumexp(z2_presum_tau, dim=1).mean()\n",
    "    cql_z1_loss = (z1_presum_tau - expert_z1_pred.mean()) * self.cql_weight\n",
    "    cql_z2_loss = (z2_presum_tau - expert_z2_pred.mean()) * self.cql_weight\n",
    "    \n",
    "    zf1_loss += cql_z1_loss\n",
    "    zf2_loss += cql_z2_loss"
   ]
  },
  {
   "cell_type": "code",
   "execution_count": null,
   "id": "cb8e417f-bfa2-4c6c-8bf3-f1a094016be5",
   "metadata": {},
   "outputs": [],
   "source": [
    "\"\"\"\n",
    "CQL (old mate)\n",
    "\"\"\"\n",
    "if self.use_cql:\n",
    "    presum_tauom_actions = torch.FloatTensor(policy_actions.shape[0] * self.num_presum_tauom,\n",
    "                                       policy_actions.shape[-1]).uniform_(-1,1).to(self.device)\n",
    "    current_actions, current_log_pi = self._get_policy_actions(policy_obs, \n",
    "                                                               num_actions=self.num_presum_tauom,\n",
    "                                                               network=self.policy)\n",
    "    next_actions, next_log_pi = self._get_policy_actions(policy_next_obs, \n",
    "                                                         num_actions=self.num_presum_tauom,\n",
    "                                                         network=self.policy)\n",
    "    \n",
    "    _, tau_hat, _ = self.get_tau(policy_obs, policy_actions, fp=self.fp)\n",
    "    tau_index = np.presum_tauom.presum_tauint(0, self.num_quantiles)\n",
    "    presum_tauom_tau_hat = tau_hat[:, tau_index:tau_index+1]\n",
    "\n",
    "    z1_presum_tau, z2_presum_tau = self._get_tensor_values(policy_obs, presum_tauom_actions, presum_tauom_tau_hat)\n",
    "    z1_current, z2_current = self._get_tensor_values(policy_obs, current_actions, presum_tauom_tau_hat)\n",
    "    z1_next, z2_next = self._get_tensor_values(policy_obs, next_actions, presum_tauom_tau_hat)\n",
    "\n",
    "    presum_tauom_density = np.log(0.5 ** current_actions.shape[-1])\n",
    "    cat_z1 = torch.cat(\n",
    "        [z1_presum_tau - alpha * presum_tauom_density, \n",
    "         z1_next - alpha * next_log_pi.detach(),\n",
    "         z1_current - alpha * current_log_pi.detach()], 1\n",
    "    )\n",
    "    cat_z2 = torch.cat(\n",
    "        [z2_presum_tau - alpha * presum_tauom_density, \n",
    "         z2_next - alpha * next_log_pi.detach(),\n",
    "         z2_current - alpha * current_log_pi.detach()], 1\n",
    "    )\n",
    "    min_zf1_loss = torch.logsumexp(cat_z1, dim=1).mean()\n",
    "    min_zf2_loss = torch.logsumexp(cat_z2, dim=1).mean()\n",
    "    min_zf1_loss = (min_zf1_loss - expert_z1_pred.mean()) * self.min_z_weight\n",
    "    min_zf2_loss = (min_zf2_loss - expert_z2_pred.mean()) * self.min_z_weight\n",
    "    \n",
    "    if self.with_lagrange:\n",
    "        alpha_prime = torch.clamp(self.log_alpha_prime.exp(), min=0.0, max=1000000.0)\n",
    "        min_zf1_loss = alpha_prime * (min_zf1_loss - self.target_action_gap)\n",
    "        min_zf2_loss = alpha_prime * (min_zf2_loss - self.target_action_gap)\n",
    "\n",
    "        self.alpha_prime_optimizer.zero_grad()\n",
    "        alpha_prime_loss = (-min_zf1_loss - min_zf2_loss) * 0.5\n",
    "        alpha_prime_loss.backward(retain_graph=True)\n",
    "        self.alpha_prime_optimizer.step()\n",
    "\n",
    "    zf1_loss += min_zf1_loss\n",
    "    zf2_loss += min_zf2_loss"
   ]
  },
  {
   "cell_type": "code",
   "execution_count": null,
   "id": "2c17f747-28a7-4dc3-afdd-167e30b1c5bb",
   "metadata": {},
   "outputs": [],
   "source": [
    "        \"\"\"\n",
    "        CQL (std!)\n",
    "        \"\"\"\n",
    "        if self.use_cql:\n",
    "            # q1_pred = torch.sum(presum_tau * policy_z1_pred, dim=1, keepdims=True)\n",
    "            # q2_pred = torch.sum(presum_tau * policy_z2_pred, dim=1, keepdims=True)\n",
    "            # q1_std = presum_tau * (policy_z1_pred - q1_pred).pow(2)\n",
    "            # q2_std = presum_tau * (policy_z2_pred - q2_pred).pow(2)\n",
    "            # cql1_term = self.cql_weight * q1_std.sum(dim=1).sqrt().mean()\n",
    "            # cql2_term = self.cql_weight * q2_std.sum(dim=1).sqrt().mean()\n",
    "\n",
    "            cql1_term = 4.5 - self.cql_weight * policy_z1_pred.std()\n",
    "            cql2_term = 4.5 - self.cql_weight * policy_z2_pred.std()\n",
    "            \n",
    "            zf1_loss += cql1_term\n",
    "            zf2_loss += cql2_term"
   ]
  },
  {
   "cell_type": "code",
   "execution_count": null,
   "id": "fbfd879f-190b-4c06-84c4-bb61e80e6a25",
   "metadata": {},
   "outputs": [],
   "source": [
    "\"\"\"\n",
    "CQL (old mate; expert observations with policy actions)\n",
    "\"\"\"\n",
    "if self.use_cql:\n",
    "    presum_tauom_actions = torch.FloatTensor(policy_actions.shape[0] * self.num_presum_tauom,\n",
    "                                       policy_actions.shape[-1]).uniform_(-1,1).to(self.device)\n",
    "    current_actions, current_log_pi = self._get_policy_actions(expert_obs, \n",
    "                                                               num_actions=self.num_presum_tauom,\n",
    "                                                               network=self.policy)\n",
    "    next_actions, next_log_pi = self._get_policy_actions(expert_next_obs, \n",
    "                                                         num_actions=self.num_presum_tauom,\n",
    "                                                         network=self.policy)\n",
    "    \n",
    "    _, tau_hat, _ = self.get_tau(expert_obs, policy_actions, fp=self.fp)\n",
    "    tau_index = np.presum_tauom.presum_tauint(0, self.num_quantiles)\n",
    "    presum_tauom_tau_hat = tau_hat[:, tau_index:tau_index+1]\n",
    "\n",
    "    z1_presum_tau, z2_presum_tau = self._get_tensor_values(expert_obs, presum_tauom_actions, presum_tauom_tau_hat)\n",
    "    z1_current, z2_current = self._get_tensor_values(expert_obs, current_actions, presum_tauom_tau_hat)\n",
    "    z1_next, z2_next = self._get_tensor_values(expert_obs, next_actions, presum_tauom_tau_hat)\n",
    "\n",
    "    presum_tauom_density = np.log(0.5 ** current_actions.shape[-1])\n",
    "    cat_z1 = torch.cat(\n",
    "        [z1_presum_tau - alpha * presum_tauom_density, \n",
    "         z1_next - alpha * next_log_pi.detach(),\n",
    "         z1_current - alpha * current_log_pi.detach()], 1\n",
    "    )\n",
    "    cat_z2 = torch.cat(\n",
    "        [z2_presum_tau - alpha * presum_tauom_density, \n",
    "         z2_next - alpha * next_log_pi.detach(),\n",
    "         z2_current - alpha * current_log_pi.detach()], 1\n",
    "    )\n",
    "    min_zf1_loss = torch.logsumexp(cat_z1, dim=1).mean() * self.cql_weight\n",
    "    min_zf2_loss = torch.logsumexp(cat_z2, dim=1).mean() * self.cql_weight\n",
    "\n",
    "    zf1_loss += min_zf1_loss\n",
    "    zf2_loss += min_zf2_loss"
   ]
  },
  {
   "cell_type": "code",
   "execution_count": null,
   "id": "b427a802-08e5-44b4-be99-f8042aaeb0a9",
   "metadata": {},
   "outputs": [],
   "source": []
  },
  {
   "cell_type": "markdown",
   "id": "0f1ee30d-094c-4a0a-ae59-7ceb9559a9a7",
   "metadata": {},
   "source": [
    "# imports"
   ]
  },
  {
   "cell_type": "code",
   "execution_count": 1,
   "id": "8d9a96c6-976d-45e7-8fd5-1c24ab784e9f",
   "metadata": {},
   "outputs": [],
   "source": [
    "import numpy as np\n",
    "import torch\n",
    "import gym\n",
    "import csv\n",
    "from rlkit.envs import make_env\n",
    "from rlkit.envs.vecenv import SubprocVectorEnv, VectorEnv\n",
    "from rlkit.torch.idsac.networks import QuantileMlp, Critic\n",
    "from rlkit.torch.idsac.policies import TanhGaussianPolicy\n",
    "from rlkit.data_management.torch_replay_buffer import TorchReplayBuffer\n",
    "import rlkit.torch.pytorch_util as ptu\n",
    "from rlkit.torch.core import eval_np"
   ]
  },
  {
   "cell_type": "code",
   "execution_count": 9,
   "id": "35d1a00b-8b0d-47d8-9c18-1ca0cadec9d7",
   "metadata": {},
   "outputs": [
    {
     "data": {
      "text/plain": [
       "(11,)"
      ]
     },
     "execution_count": 9,
     "metadata": {},
     "output_type": "execute_result"
    }
   ],
   "source": [
    "env = gym.make('Hopper-v2')\n",
    "obs = env.reset()\n",
    "obs.shape"
   ]
  },
  {
   "cell_type": "code",
   "execution_count": 10,
   "id": "c460dfaa-cb19-463a-9800-013a9b359bfc",
   "metadata": {},
   "outputs": [
    {
     "data": {
      "text/plain": [
       "torch.Size([10, 11])"
      ]
     },
     "execution_count": 10,
     "metadata": {},
     "output_type": "execute_result"
    }
   ],
   "source": [
    "ob = [env.reset()] * 10\n",
    "obs = torch.FloatTensor(np.array(ob))\n",
    "obs.shape"
   ]
  },
  {
   "cell_type": "code",
   "execution_count": 11,
   "id": "574461ba-386b-4902-9175-47431e25b7fa",
   "metadata": {},
   "outputs": [
    {
     "data": {
      "text/plain": [
       "torch.Size([5, 1])"
      ]
     },
     "execution_count": 11,
     "metadata": {},
     "output_type": "execute_result"
    }
   ],
   "source": [
    "r = torch.ones(5,).unsqueeze(1)\n",
    "r.shape"
   ]
  },
  {
   "cell_type": "code",
   "execution_count": 12,
   "id": "76df27e5-3df8-4156-96bd-4452f61777ab",
   "metadata": {},
   "outputs": [
    {
     "data": {
      "text/plain": [
       "torch.Size([10, 1])"
      ]
     },
     "execution_count": 12,
     "metadata": {},
     "output_type": "execute_result"
    }
   ],
   "source": [
    "is_expert = torch.cat([torch.ones_like(r, dtype=torch.bool),\n",
    "                      torch.zeros_like(r, dtype=torch.bool)],\n",
    "                      dim=0)\n",
    "is_expert.shape"
   ]
  },
  {
   "cell_type": "code",
   "execution_count": 13,
   "id": "1a6801c9-cb93-45d6-8aec-8db67d1edb7f",
   "metadata": {},
   "outputs": [
    {
     "data": {
      "text/plain": [
       "tensor([ True,  True,  True,  True,  True, False, False, False, False, False])"
      ]
     },
     "execution_count": 13,
     "metadata": {},
     "output_type": "execute_result"
    }
   ],
   "source": [
    "is_expert.squeeze(1)"
   ]
  },
  {
   "cell_type": "code",
   "execution_count": 15,
   "id": "cce50207-d414-4297-b359-356fe0323b7c",
   "metadata": {},
   "outputs": [
    {
     "name": "stdout",
     "output_type": "stream",
     "text": [
      "torch.Size([5, 11])\n",
      "tensor([[ 1.2522e+00,  2.8751e-03, -3.4778e-03,  4.0104e-03, -3.1302e-03,\n",
      "          4.9540e-04,  3.7181e-03, -1.4657e-03,  1.2178e-03, -6.3569e-04,\n",
      "         -1.7011e-03],\n",
      "        [ 1.2522e+00,  2.8751e-03, -3.4778e-03,  4.0104e-03, -3.1302e-03,\n",
      "          4.9540e-04,  3.7181e-03, -1.4657e-03,  1.2178e-03, -6.3569e-04,\n",
      "         -1.7011e-03],\n",
      "        [ 1.2522e+00,  2.8751e-03, -3.4778e-03,  4.0104e-03, -3.1302e-03,\n",
      "          4.9540e-04,  3.7181e-03, -1.4657e-03,  1.2178e-03, -6.3569e-04,\n",
      "         -1.7011e-03],\n",
      "        [ 1.2522e+00,  2.8751e-03, -3.4778e-03,  4.0104e-03, -3.1302e-03,\n",
      "          4.9540e-04,  3.7181e-03, -1.4657e-03,  1.2178e-03, -6.3569e-04,\n",
      "         -1.7011e-03],\n",
      "        [ 1.2522e+00,  2.8751e-03, -3.4778e-03,  4.0104e-03, -3.1302e-03,\n",
      "          4.9540e-04,  3.7181e-03, -1.4657e-03,  1.2178e-03, -6.3569e-04,\n",
      "         -1.7011e-03]])\n"
     ]
    }
   ],
   "source": [
    "x = obs[is_expert.squeeze(1), ...]\n",
    "print(x.shape)\n",
    "print(x)"
   ]
  },
  {
   "cell_type": "code",
   "execution_count": 16,
   "id": "99147ac7-8a7f-4966-978b-1a5c4d02af54",
   "metadata": {},
   "outputs": [
    {
     "name": "stdout",
     "output_type": "stream",
     "text": [
      "torch.Size([5, 11])\n",
      "tensor([[ 1.2522e+00,  2.8751e-03, -3.4778e-03,  4.0104e-03, -3.1302e-03,\n",
      "          4.9540e-04,  3.7181e-03, -1.4657e-03,  1.2178e-03, -6.3569e-04,\n",
      "         -1.7011e-03],\n",
      "        [ 1.2522e+00,  2.8751e-03, -3.4778e-03,  4.0104e-03, -3.1302e-03,\n",
      "          4.9540e-04,  3.7181e-03, -1.4657e-03,  1.2178e-03, -6.3569e-04,\n",
      "         -1.7011e-03],\n",
      "        [ 1.2522e+00,  2.8751e-03, -3.4778e-03,  4.0104e-03, -3.1302e-03,\n",
      "          4.9540e-04,  3.7181e-03, -1.4657e-03,  1.2178e-03, -6.3569e-04,\n",
      "         -1.7011e-03],\n",
      "        [ 1.2522e+00,  2.8751e-03, -3.4778e-03,  4.0104e-03, -3.1302e-03,\n",
      "          4.9540e-04,  3.7181e-03, -1.4657e-03,  1.2178e-03, -6.3569e-04,\n",
      "         -1.7011e-03],\n",
      "        [ 1.2522e+00,  2.8751e-03, -3.4778e-03,  4.0104e-03, -3.1302e-03,\n",
      "          4.9540e-04,  3.7181e-03, -1.4657e-03,  1.2178e-03, -6.3569e-04,\n",
      "         -1.7011e-03]])\n"
     ]
    }
   ],
   "source": [
    "y = obs[is_expert.squeeze(1)]\n",
    "print(y.shape)\n",
    "print(y)"
   ]
  },
  {
   "cell_type": "code",
   "execution_count": null,
   "id": "8da09322-303f-48ac-a5e0-059005fa98f0",
   "metadata": {},
   "outputs": [],
   "source": [
    "presum_tau = torch.rand(10000, 24) + 0.1\n",
    "# print(presum_tau.max())\n",
    "# print(presum_tau.min())"
   ]
  },
  {
   "cell_type": "code",
   "execution_count": null,
   "id": "38418b49-3bf9-4442-9664-5dbf6db719b8",
   "metadata": {},
   "outputs": [],
   "source": [
    "presum_tau /= presum_tau.sum(axis=-1, keepdims=True)\n",
    "# print(presum_tau.max())\n",
    "# print(presum_tau.min())"
   ]
  },
  {
   "cell_type": "code",
   "execution_count": null,
   "id": "4ff1e171-98c7-48a5-a208-c877cc8ae576",
   "metadata": {},
   "outputs": [],
   "source": [
    "tau = torch.cumsum(presum_tau, axis=1)\n",
    "tau_hat = torch.zeros_like(tau)\n",
    "tau_hat[:, 0:1] = tau[:, 0:1] / 2.\n",
    "tau_hat[:, 1:] = (tau[:, 1:] + tau[:, :-1]) / 2."
   ]
  },
  {
   "cell_type": "code",
   "execution_count": null,
   "id": "f134a2bb-7e52-4105-bc66-6f39718c7bf4",
   "metadata": {},
   "outputs": [],
   "source": [
    "presum_tau.mean()"
   ]
  },
  {
   "cell_type": "code",
   "execution_count": null,
   "id": "c9b403b0-f696-411e-bd38-8606f3619e44",
   "metadata": {},
   "outputs": [],
   "source": [
    "tau_hat.mean()"
   ]
  },
  {
   "cell_type": "code",
   "execution_count": null,
   "id": "e251d8a1-4979-4861-94cf-fa7d9cdd8684",
   "metadata": {},
   "outputs": [],
   "source": [
    "th = []\n",
    "pst = []\n",
    "\n",
    "for i in range(100000):\n",
    "    presum_tau = torch.rand(10, 24) + 0.1\n",
    "    presum_tau /= presum_tau.sum(axis=-1, keepdims=True)\n",
    "    tau = torch.cumsum(presum_tau, axis=1)\n",
    "    tau_hat = torch.zeros_like(tau)\n",
    "    tau_hat[:, 0:1] = tau[:, 0:1] / 2.\n",
    "    tau_hat[:, 1:] = (tau[:, 1:] + tau[:, :-1]) / 2.\n",
    "\n",
    "    pst.append(presum_tau.mean())\n",
    "    th.append(tau_hat.mean())"
   ]
  },
  {
   "cell_type": "code",
   "execution_count": null,
   "id": "aaff35b1-2358-453a-b0d6-c2ead2eefc2f",
   "metadata": {},
   "outputs": [],
   "source": [
    "np.mean(pst)"
   ]
  },
  {
   "cell_type": "code",
   "execution_count": null,
   "id": "877a6fcd-24dc-45ac-934c-8ba6a9a9c3ed",
   "metadata": {},
   "outputs": [],
   "source": [
    "np.mean(th)"
   ]
  },
  {
   "cell_type": "code",
   "execution_count": null,
   "id": "114caf64-c638-4947-9979-fae97b59f784",
   "metadata": {},
   "outputs": [],
   "source": [
    "1 / 0.0417"
   ]
  },
  {
   "cell_type": "code",
   "execution_count": null,
   "id": "9f976d60-f9f2-4579-bc7c-57ece766a61e",
   "metadata": {},
   "outputs": [],
   "source": []
  }
 ],
 "metadata": {
  "kernelspec": {
   "display_name": "Python 3 (ipykernel)",
   "language": "python",
   "name": "python3"
  },
  "language_info": {
   "codemirror_mode": {
    "name": "ipython",
    "version": 3
   },
   "file_extension": ".py",
   "mimetype": "text/x-python",
   "name": "python",
   "nbconvert_exporter": "python",
   "pygments_lexer": "ipython3",
   "version": "3.10.12"
  }
 },
 "nbformat": 4,
 "nbformat_minor": 5
}
